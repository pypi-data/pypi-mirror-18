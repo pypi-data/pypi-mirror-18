{
 "cells": [
  {
   "cell_type": "markdown",
   "metadata": {},
   "source": [
    "The goal of this notebook is to show an example using the units support in MetPy. In this example, we calculate the dewpoint, corresponding to a fixed value of mixing ratio, at two different surface pressure values."
   ]
  },
  {
   "cell_type": "code",
   "execution_count": 1,
   "metadata": {
    "collapsed": false
   },
   "outputs": [],
   "source": [
    "# First import our calculation functions, as well as unit support\n",
    "import metpy.calc as mcalc\n",
    "from metpy.units import units"
   ]
  },
  {
   "cell_type": "code",
   "execution_count": 2,
   "metadata": {
    "collapsed": false
   },
   "outputs": [
    {
     "name": "stdout",
     "output_type": "stream",
     "text": [
      "10.0 gram / kilogram\n"
     ]
    }
   ],
   "source": [
    "# Create a test value of mixing ratio in grams per kilogram\n",
    "mixing = 10 * units('g/kg')\n",
    "print(mixing)"
   ]
  },
  {
   "cell_type": "code",
   "execution_count": 3,
   "metadata": {
    "collapsed": false
   },
   "outputs": [
    {
     "name": "stdout",
     "output_type": "stream",
     "text": [
      "15825.67178529092 gram * millibar / kilogram\n"
     ]
    }
   ],
   "source": [
    "# Now throw that value with units into the function to calculate\n",
    "# the corresponding vapor pressure, given a surface pressure of 1000 mb\n",
    "e = mcalc.vapor_pressure(1000. * units.mbar, mixing)\n",
    "print(e)"
   ]
  },
  {
   "cell_type": "code",
   "execution_count": 4,
   "metadata": {
    "collapsed": false
   },
   "outputs": [
    {
     "name": "stdout",
     "output_type": "stream",
     "text": [
      "15.82567178529092 millibar\n"
     ]
    }
   ],
   "source": [
    "# Take the odd units and force them to millibars\n",
    "print(e.to(units.mbar))"
   ]
  },
  {
   "cell_type": "code",
   "execution_count": 5,
   "metadata": {
    "collapsed": false
   },
   "outputs": [
    {
     "name": "stdout",
     "output_type": "stream",
     "text": [
      "13.856458659577921 degC\n"
     ]
    }
   ],
   "source": [
    "# Take the raw vapor pressure and throw into the dewpoint function\n",
    "td = mcalc.dewpoint(e)\n",
    "print(td)"
   ]
  },
  {
   "cell_type": "code",
   "execution_count": 6,
   "metadata": {
    "collapsed": false
   },
   "outputs": [
    {
     "name": "stdout",
     "output_type": "stream",
     "text": [
      "56.94162598724023 degF\n"
     ]
    }
   ],
   "source": [
    "# Which can of course be converted to Farenheit\n",
    "print(td.to('degF'))"
   ]
  },
  {
   "cell_type": "code",
   "execution_count": 7,
   "metadata": {
    "collapsed": false
   },
   "outputs": [
    {
     "name": "stdout",
     "output_type": "stream",
     "text": [
      "13.451821017497283 millibar\n"
     ]
    }
   ],
   "source": [
    "# Now do the same thing for 850 mb, approximately the pressure of Denver\n",
    "e = mcalc.vapor_pressure(850. * units.mbar, mixing)\n",
    "print(e.to(units.mbar))"
   ]
  },
  {
   "cell_type": "code",
   "execution_count": 8,
   "metadata": {
    "collapsed": false
   },
   "outputs": [
    {
     "name": "stdout",
     "output_type": "stream",
     "text": [
      "11.378824018637602 degC 52.48188363354765 degF\n"
     ]
    }
   ],
   "source": [
    "# And print the corresponding dewpoint\n",
    "td = mcalc.dewpoint(e)\n",
    "print(td, td.to('degF'))"
   ]
  }
 ],
 "metadata": {
  "kernelspec": {
   "display_name": "Python 3",
   "language": "python",
   "name": "python3"
  },
  "language_info": {
   "codemirror_mode": {
    "name": "ipython",
    "version": 3
   },
   "file_extension": ".py",
   "mimetype": "text/x-python",
   "name": "python",
   "nbconvert_exporter": "python",
   "pygments_lexer": "ipython3",
   "version": "3.4.3"
  }
 },
 "nbformat": 4,
 "nbformat_minor": 0
}
