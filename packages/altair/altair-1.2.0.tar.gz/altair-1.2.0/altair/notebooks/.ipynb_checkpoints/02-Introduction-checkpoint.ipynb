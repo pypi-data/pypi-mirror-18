{
 "cells": [
  {
   "cell_type": "markdown",
   "metadata": {},
   "source": [
    "# Tutorial: Introduction to Altair"
   ]
  },
  {
   "cell_type": "markdown",
   "metadata": {},
   "source": [
    "This tutorial will guide you through the process of creating visualizations in Altair. For details on installing Altair or its underlying philosophy, please see the [Altair Documentation](http://altair-viz.github.io/)\n",
    "\n",
    "Outline:\n",
    "\n",
    "- [The data](#The-data)\n",
    "- [The `Chart` object](#The-Chart-object)\n",
    "- [Data encodings and marks](#Data-encodings-and-marks)\n",
    "- [Data transformation: Aggregation](#Data-transformation:-Aggregation)\n",
    "- [Customizing your visualization](#Customizing-your-visualization)\n",
    "- [Publishing a visualization online](#Publishing-a-visualization-online)\n",
    "\n",
    "This tutorial is written in the form of a Jupyter Notebook; we suggest downloading the notebook and following along, executing the code yourself as we go. For creating Altair visualizations in the notebook, all that is required is to [install the package and its dependencies](https://altair-viz.github.io/installation.html) and import the Altair namespace:"
   ]
  },
  {
   "cell_type": "code",
   "execution_count": 1,
   "metadata": {
    "collapsed": true
   },
   "outputs": [],
   "source": [
    "from altair import *"
   ]
  },
  {
   "cell_type": "markdown",
   "metadata": {},
   "source": [
    "## The data"
   ]
  },
  {
   "cell_type": "markdown",
   "metadata": {},
   "source": [
    "Data in Altair is built around the [Pandas Dataframe](http://pandas.pydata.org/pandas-docs/stable/generated/pandas.DataFrame.html).\n",
    "For the purposes of this tutorial, we'll start by importing Pandas and creating a simple `DataFrame` to visualize, with a categorical variable in column `a` and a numerical variable in column `b`:"
   ]
  },
  {
   "cell_type": "code",
   "execution_count": 2,
   "metadata": {
    "collapsed": false
   },
   "outputs": [
    {
     "data": {
      "text/html": [
       "<div>\n",
       "<table border=\"1\" class=\"dataframe\">\n",
       "  <thead>\n",
       "    <tr style=\"text-align: right;\">\n",
       "      <th></th>\n",
       "      <th>a</th>\n",
       "      <th>b</th>\n",
       "    </tr>\n",
       "  </thead>\n",
       "  <tbody>\n",
       "    <tr>\n",
       "      <th>0</th>\n",
       "      <td>C</td>\n",
       "      <td>2</td>\n",
       "    </tr>\n",
       "    <tr>\n",
       "      <th>1</th>\n",
       "      <td>C</td>\n",
       "      <td>7</td>\n",
       "    </tr>\n",
       "    <tr>\n",
       "      <th>2</th>\n",
       "      <td>C</td>\n",
       "      <td>4</td>\n",
       "    </tr>\n",
       "    <tr>\n",
       "      <th>3</th>\n",
       "      <td>D</td>\n",
       "      <td>1</td>\n",
       "    </tr>\n",
       "    <tr>\n",
       "      <th>4</th>\n",
       "      <td>D</td>\n",
       "      <td>2</td>\n",
       "    </tr>\n",
       "    <tr>\n",
       "      <th>5</th>\n",
       "      <td>D</td>\n",
       "      <td>6</td>\n",
       "    </tr>\n",
       "    <tr>\n",
       "      <th>6</th>\n",
       "      <td>E</td>\n",
       "      <td>8</td>\n",
       "    </tr>\n",
       "    <tr>\n",
       "      <th>7</th>\n",
       "      <td>E</td>\n",
       "      <td>4</td>\n",
       "    </tr>\n",
       "    <tr>\n",
       "      <th>8</th>\n",
       "      <td>E</td>\n",
       "      <td>7</td>\n",
       "    </tr>\n",
       "  </tbody>\n",
       "</table>\n",
       "</div>"
      ],
      "text/plain": [
       "   a  b\n",
       "0  C  2\n",
       "1  C  7\n",
       "2  C  4\n",
       "3  D  1\n",
       "4  D  2\n",
       "5  D  6\n",
       "6  E  8\n",
       "7  E  4\n",
       "8  E  7"
      ]
     },
     "execution_count": 2,
     "metadata": {},
     "output_type": "execute_result"
    }
   ],
   "source": [
    "import pandas as pd\n",
    "data = pd.DataFrame({'a': list('CCCDDDEEE'),\n",
    "                     'b': [2, 7, 4, 1, 2, 6, 8, 4, 7]})\n",
    "data"
   ]
  },
  {
   "cell_type": "markdown",
   "metadata": {},
   "source": [
    "In Altair, every dataset should be provided as a `Dataframe`, or as a URL referencing an appropriate dataset (see [Defining Data](https://altair-viz.github.io/documentation/data.html))."
   ]
  },
  {
   "cell_type": "markdown",
   "metadata": {},
   "source": [
    "## The `Chart` object\n",
    "\n",
    "The fundamental object in Altair is the ``Chart``. It takes the dataframe as a single argument:"
   ]
  },
  {
   "cell_type": "code",
   "execution_count": 3,
   "metadata": {
    "collapsed": false
   },
   "outputs": [],
   "source": [
    "chart = Chart(data)"
   ]
  },
  {
   "cell_type": "markdown",
   "metadata": {},
   "source": [
    "Fundamentally, a ``Chart`` is an object which knows how to emit a JSON dictionary representing the data and visualization encodings (see below), which can be sent to the notebook and rendered by the Vega-Lite JavaScript library.\n",
    "\n",
    "Here is what that JSON looks like for the current chart:"
   ]
  },
  {
   "cell_type": "code",
   "execution_count": 4,
   "metadata": {
    "collapsed": false
   },
   "outputs": [
    {
     "data": {
      "text/plain": [
       "{'data': {'values': [{'a': 'C', 'b': 2},\n",
       "   {'a': 'C', 'b': 7},\n",
       "   {'a': 'C', 'b': 4},\n",
       "   {'a': 'D', 'b': 1},\n",
       "   {'a': 'D', 'b': 2},\n",
       "   {'a': 'D', 'b': 6},\n",
       "   {'a': 'E', 'b': 8},\n",
       "   {'a': 'E', 'b': 4},\n",
       "   {'a': 'E', 'b': 7}]}}"
      ]
     },
     "execution_count": 4,
     "metadata": {},
     "output_type": "execute_result"
    }
   ],
   "source": [
    "chart.to_dict()"
   ]
  },
  {
   "cell_type": "markdown",
   "metadata": {},
   "source": [
    "At this point the specification contains only the data, and no visualization specification."
   ]
  },
  {
   "cell_type": "markdown",
   "metadata": {},
   "source": [
    "## Chart Marks\n",
    "\n",
    "Next we can decide what sort of *mark* we would like to use to represent our data.\n",
    "For example, we can choose the ``point`` mark to represent each data as a point on the plot:"
   ]
  },
  {
   "cell_type": "code",
   "execution_count": 5,
   "metadata": {
    "collapsed": false
   },
   "outputs": [
    {
     "data": {
      "text/html": [
       "<div class=\"vega-embed\" id=\"d8741050-68d5-4fe0-9763-eb017684252c\"></div>\n",
       "\n",
       "<style>\n",
       ".vega-embed svg, .vega-embed canvas {\n",
       "  border: 1px dotted gray;\n",
       "}\n",
       "\n",
       ".vega-embed .vega-actions a {\n",
       "  margin-right: 6px;\n",
       "}\n",
       "</style>\n"
      ]
     },
     "metadata": {
      "jupyter-vega": "#d8741050-68d5-4fe0-9763-eb017684252c"
     },
     "output_type": "display_data"
    },
    {
     "data": {
      "application/javascript": [
       "var spec = {\"mark\": \"point\", \"data\": {\"values\": [{\"b\": 2, \"a\": \"C\"}, {\"b\": 7, \"a\": \"C\"}, {\"b\": 4, \"a\": \"C\"}, {\"b\": 1, \"a\": \"D\"}, {\"b\": 2, \"a\": \"D\"}, {\"b\": 6, \"a\": \"D\"}, {\"b\": 8, \"a\": \"E\"}, {\"b\": 4, \"a\": \"E\"}, {\"b\": 7, \"a\": \"E\"}]}, \"config\": {\"cell\": {\"width\": 500, \"height\": 350}}};\n",
       "var selector = \"#d8741050-68d5-4fe0-9763-eb017684252c\";\n",
       "var type = \"vega-lite\";\n",
       "\n",
       "var output_area = this;\n",
       "require(['nbextensions/jupyter-vega/index'], function(vega) {\n",
       "  vega.render(selector, spec, type, output_area);\n",
       "}, function (err) {\n",
       "  if (err.requireType !== 'scripterror') {\n",
       "    throw(err);\n",
       "  }\n",
       "});\n"
      ]
     },
     "metadata": {
      "jupyter-vega": "#d8741050-68d5-4fe0-9763-eb017684252c"
     },
     "output_type": "display_data"
    },
    {
     "data": {
      "image/png": "[encoded data removed]"
     },
     "metadata": {
      "jupyter-vega": "#d8741050-68d5-4fe0-9763-eb017684252c"
     },
     "output_type": "display_data"
    }
   ],
   "source": [
    "chart = Chart(data).mark_point()\n",
    "chart"
   ]
  },
  {
   "cell_type": "markdown",
   "metadata": {},
   "source": [
    "The result is a visualization with one point per row in the data, though it is not a particularly interesting: all the points are stacked right on top of each other!\n",
    "To see how this affects the specification, we can once again examine the JSON:"
   ]
  },
  {
   "cell_type": "code",
   "execution_count": 6,
   "metadata": {
    "collapsed": false
   },
   "outputs": [
    {
     "data": {
      "text/plain": [
       "{'data': {'values': [{'a': 'C', 'b': 2},\n",
       "   {'a': 'C', 'b': 7},\n",
       "   {'a': 'C', 'b': 4},\n",
       "   {'a': 'D', 'b': 1},\n",
       "   {'a': 'D', 'b': 2},\n",
       "   {'a': 'D', 'b': 6},\n",
       "   {'a': 'E', 'b': 8},\n",
       "   {'a': 'E', 'b': 4},\n",
       "   {'a': 'E', 'b': 7}]},\n",
       " 'mark': 'point'}"
      ]
     },
     "execution_count": 6,
     "metadata": {},
     "output_type": "execute_result"
    }
   ],
   "source": [
    "chart.to_dict()"
   ]
  },
  {
   "cell_type": "markdown",
   "metadata": {},
   "source": [
    "Notice that now in addition to the data, the specification includes information about the mark type."
   ]
  },
  {
   "cell_type": "markdown",
   "metadata": {},
   "source": [
    "## Data encodings"
   ]
  },
  {
   "cell_type": "markdown",
   "metadata": {},
   "source": [
    "The next step is to add *visual encodings* (or *encodings* for short) to the chart. A visual encoding specifies how a given data column should be mapped onto the visual properties of the visualization.\n",
    "Some of the more frequenty used visual encodings are listed here:\n",
    "\n",
    "* X: x-axis value\n",
    "* Y: y-axis value\n",
    "* Color: color of the mark\n",
    "* Opacity: transparency/opacity of the mark\n",
    "* Shape: shape of the mark\n",
    "* Size: size of the mark\n",
    "* Row: row within a grid of facet plots\n",
    "* Column: column within a grid of facet plots\n",
    "\n",
    "For a complete list of these encodings, see the [Encodings](https://altair-viz.github.io/documentation/encoding.html) section of the documentation.\n",
    "\n",
    "Visual encodings can be created with the `encode()` method of the `Chart` object. For example, we can start by mapping the `y` axis of the chart to column `a`:"
   ]
  },
  {
   "cell_type": "code",
   "execution_count": 7,
   "metadata": {
    "collapsed": false
   },
   "outputs": [
    {
     "data": {
      "text/html": [
       "<div class=\"vega-embed\" id=\"01f0cf26-1c54-447a-8f8c-d64728818192\"></div>\n",
       "\n",
       "<style>\n",
       ".vega-embed svg, .vega-embed canvas {\n",
       "  border: 1px dotted gray;\n",
       "}\n",
       "\n",
       ".vega-embed .vega-actions a {\n",
       "  margin-right: 6px;\n",
       "}\n",
       "</style>\n"
      ]
     },
     "metadata": {
      "jupyter-vega": "#01f0cf26-1c54-447a-8f8c-d64728818192"
     },
     "output_type": "display_data"
    },
    {
     "data": {
      "application/javascript": [
       "var spec = {\"mark\": \"point\", \"encoding\": {\"y\": {\"type\": \"nominal\", \"field\": \"a\"}}, \"data\": {\"values\": [{\"b\": 2, \"a\": \"C\"}, {\"b\": 7, \"a\": \"C\"}, {\"b\": 4, \"a\": \"C\"}, {\"b\": 1, \"a\": \"D\"}, {\"b\": 2, \"a\": \"D\"}, {\"b\": 6, \"a\": \"D\"}, {\"b\": 8, \"a\": \"E\"}, {\"b\": 4, \"a\": \"E\"}, {\"b\": 7, \"a\": \"E\"}]}, \"config\": {\"cell\": {\"width\": 500, \"height\": 350}}};\n",
       "var selector = \"#01f0cf26-1c54-447a-8f8c-d64728818192\";\n",
       "var type = \"vega-lite\";\n",
       "\n",
       "var output_area = this;\n",
       "require(['nbextensions/jupyter-vega/index'], function(vega) {\n",
       "  vega.render(selector, spec, type, output_area);\n",
       "}, function (err) {\n",
       "  if (err.requireType !== 'scripterror') {\n",
       "    throw(err);\n",
       "  }\n",
       "});\n"
      ]
     },
     "metadata": {
      "jupyter-vega": "#01f0cf26-1c54-447a-8f8c-d64728818192"
     },
     "output_type": "display_data"
    },
    {
     "data": {
      "image/png": "[encoded data removed]"
     },
     "metadata": {
      "jupyter-vega": "#01f0cf26-1c54-447a-8f8c-d64728818192"
     },
     "output_type": "display_data"
    }
   ],
   "source": [
    "c = Chart(data).mark_point().encode(y='a')\n",
    "c # save the Chart to a variable and then display"
   ]
  },
  {
   "cell_type": "markdown",
   "metadata": {},
   "source": [
    "The result is a one-dimensional visualization representing the values taken on by `a`.\n",
    "As above, we can view the JSON data generated for this visualization:"
   ]
  },
  {
   "cell_type": "code",
   "execution_count": 8,
   "metadata": {
    "collapsed": false
   },
   "outputs": [
    {
     "data": {
      "text/plain": [
       "{'data': {'values': [{'a': 'C', 'b': 2},\n",
       "   {'a': 'C', 'b': 7},\n",
       "   {'a': 'C', 'b': 4},\n",
       "   {'a': 'D', 'b': 1},\n",
       "   {'a': 'D', 'b': 2},\n",
       "   {'a': 'D', 'b': 6},\n",
       "   {'a': 'E', 'b': 8},\n",
       "   {'a': 'E', 'b': 4},\n",
       "   {'a': 'E', 'b': 7}]},\n",
       " 'encoding': {'y': {'field': 'a', 'type': 'nominal'}},\n",
       " 'mark': 'point'}"
      ]
     },
     "execution_count": 8,
     "metadata": {},
     "output_type": "execute_result"
    }
   ],
   "source": [
    "c.to_dict()"
   ]
  },
  {
   "cell_type": "markdown",
   "metadata": {},
   "source": [
    "The result is the same as above with the addition of the `'encoding'` key, which specifies the visualization channel (`y`), the name of the field (`a`), and the type of the variable (`nominal`).\n",
    "\n",
    "Altair is able to automatically determine the type of the variable using built-in heuristics. Altair and Vega-Lite support four primitive data types:\n",
    "\n",
    "<table>\n",
    "  <tr>\n",
    "    <th>Data Type</th>\n",
    "    <th>Code</th>\n",
    "    <th>Description</th>\n",
    "  </tr>\n",
    "  <tr>\n",
    "    <td>quantitative</td>\n",
    "    <td>Q</td>\n",
    "    <td>Number (real-valued)</td>\n",
    "  </tr>\n",
    "  <tr>\n",
    "    <td>nominal</td>\n",
    "    <td>N</td>\n",
    "    <td>Unordered categorical</td>\n",
    "  </tr>\n",
    "  <tr>\n",
    "    <td>ordinal</td>\n",
    "    <td>O</td>\n",
    "    <td>Ordered categorial</td>\n",
    "  </tr>\n",
    "  <tr>\n",
    "    <td>temporal</td>\n",
    "    <td>T</td>\n",
    "    <td>Date/time</td>\n",
    "  </tr>\n",
    "</table>\n",
    "\n",
    "You can set the data type of a column explicitly using a one letter code as follows:"
   ]
  },
  {
   "cell_type": "code",
   "execution_count": 9,
   "metadata": {
    "collapsed": false
   },
   "outputs": [
    {
     "data": {
      "text/html": [
       "<div class=\"vega-embed\" id=\"4af34ee2-f6d3-4bfc-a6fc-a391ed2a898a\"></div>\n",
       "\n",
       "<style>\n",
       ".vega-embed svg, .vega-embed canvas {\n",
       "  border: 1px dotted gray;\n",
       "}\n",
       "\n",
       ".vega-embed .vega-actions a {\n",
       "  margin-right: 6px;\n",
       "}\n",
       "</style>\n"
      ]
     },
     "metadata": {
      "jupyter-vega": "#4af34ee2-f6d3-4bfc-a6fc-a391ed2a898a"
     },
     "output_type": "display_data"
    },
    {
     "data": {
      "application/javascript": [
       "var spec = {\"mark\": \"point\", \"encoding\": {\"y\": {\"type\": \"nominal\", \"field\": \"a\"}}, \"data\": {\"values\": [{\"b\": 2, \"a\": \"C\"}, {\"b\": 7, \"a\": \"C\"}, {\"b\": 4, \"a\": \"C\"}, {\"b\": 1, \"a\": \"D\"}, {\"b\": 2, \"a\": \"D\"}, {\"b\": 6, \"a\": \"D\"}, {\"b\": 8, \"a\": \"E\"}, {\"b\": 4, \"a\": \"E\"}, {\"b\": 7, \"a\": \"E\"}]}, \"config\": {\"cell\": {\"width\": 500, \"height\": 350}}};\n",
       "var selector = \"#4af34ee2-f6d3-4bfc-a6fc-a391ed2a898a\";\n",
       "var type = \"vega-lite\";\n",
       "\n",
       "var output_area = this;\n",
       "require(['nbextensions/jupyter-vega/index'], function(vega) {\n",
       "  vega.render(selector, spec, type, output_area);\n",
       "}, function (err) {\n",
       "  if (err.requireType !== 'scripterror') {\n",
       "    throw(err);\n",
       "  }\n",
       "});\n"
      ]
     },
     "metadata": {
      "jupyter-vega": "#4af34ee2-f6d3-4bfc-a6fc-a391ed2a898a"
     },
     "output_type": "display_data"
    },
    {
     "data": {
      "image/png": "[encoded data removed]"
     },
     "metadata": {
      "jupyter-vega": "#4af34ee2-f6d3-4bfc-a6fc-a391ed2a898a"
     },
     "output_type": "display_data"
    }
   ],
   "source": [
    "Chart(data).mark_point().encode(y='a:N')"
   ]
  },
  {
   "cell_type": "markdown",
   "metadata": {},
   "source": [
    "The visualization can be made more interesting by adding another channel to the encoding: let's encode column `b` as the `x` position:"
   ]
  },
  {
   "cell_type": "code",
   "execution_count": 10,
   "metadata": {
    "collapsed": false
   },
   "outputs": [
    {
     "data": {
      "text/html": [
       "<div class=\"vega-embed\" id=\"b6bd6380-3e98-49f0-86dd-3507914babd4\"></div>\n",
       "\n",
       "<style>\n",
       ".vega-embed svg, .vega-embed canvas {\n",
       "  border: 1px dotted gray;\n",
       "}\n",
       "\n",
       ".vega-embed .vega-actions a {\n",
       "  margin-right: 6px;\n",
       "}\n",
       "</style>\n"
      ]
     },
     "metadata": {
      "jupyter-vega": "#b6bd6380-3e98-49f0-86dd-3507914babd4"
     },
     "output_type": "display_data"
    },
    {
     "data": {
      "application/javascript": [
       "var spec = {\"mark\": \"point\", \"encoding\": {\"x\": {\"type\": \"quantitative\", \"field\": \"b\"}, \"y\": {\"type\": \"nominal\", \"field\": \"a\"}}, \"data\": {\"values\": [{\"b\": 2, \"a\": \"C\"}, {\"b\": 7, \"a\": \"C\"}, {\"b\": 4, \"a\": \"C\"}, {\"b\": 1, \"a\": \"D\"}, {\"b\": 2, \"a\": \"D\"}, {\"b\": 6, \"a\": \"D\"}, {\"b\": 8, \"a\": \"E\"}, {\"b\": 4, \"a\": \"E\"}, {\"b\": 7, \"a\": \"E\"}]}, \"config\": {\"cell\": {\"width\": 500, \"height\": 350}}};\n",
       "var selector = \"#b6bd6380-3e98-49f0-86dd-3507914babd4\";\n",
       "var type = \"vega-lite\";\n",
       "\n",
       "var output_area = this;\n",
       "require(['nbextensions/jupyter-vega/index'], function(vega) {\n",
       "  vega.render(selector, spec, type, output_area);\n",
       "}, function (err) {\n",
       "  if (err.requireType !== 'scripterror') {\n",
       "    throw(err);\n",
       "  }\n",
       "});\n"
      ]
     },
     "metadata": {
      "jupyter-vega": "#b6bd6380-3e98-49f0-86dd-3507914babd4"
     },
     "output_type": "display_data"
    },
    {
     "data": {
      "image/png": "[encoded data removed]"
     },
     "metadata": {
      "jupyter-vega": "#b6bd6380-3e98-49f0-86dd-3507914babd4"
     },
     "output_type": "display_data"
    }
   ],
   "source": [
    "Chart(data).mark_point().encode(\n",
    "    y='a',\n",
    "    x='b'\n",
    ")"
   ]
  },
  {
   "cell_type": "markdown",
   "metadata": {},
   "source": [
    "With two visual channels encoded, we can see the raw data points in the `DataFrame`. A different mark type can be chosen using a different `mark_*()` method, such as `mark_bar()`:"
   ]
  },
  {
   "cell_type": "code",
   "execution_count": 11,
   "metadata": {
    "collapsed": false
   },
   "outputs": [
    {
     "data": {
      "text/html": [
       "<div class=\"vega-embed\" id=\"de6498db-d404-47f3-b56a-8cf19534d12e\"></div>\n",
       "\n",
       "<style>\n",
       ".vega-embed svg, .vega-embed canvas {\n",
       "  border: 1px dotted gray;\n",
       "}\n",
       "\n",
       ".vega-embed .vega-actions a {\n",
       "  margin-right: 6px;\n",
       "}\n",
       "</style>\n"
      ]
     },
     "metadata": {
      "jupyter-vega": "#de6498db-d404-47f3-b56a-8cf19534d12e"
     },
     "output_type": "display_data"
    },
    {
     "data": {
      "application/javascript": [
       "var spec = {\"mark\": \"bar\", \"encoding\": {\"x\": {\"type\": \"quantitative\", \"field\": \"b\"}, \"y\": {\"type\": \"nominal\", \"field\": \"a\"}}, \"data\": {\"values\": [{\"b\": 2, \"a\": \"C\"}, {\"b\": 7, \"a\": \"C\"}, {\"b\": 4, \"a\": \"C\"}, {\"b\": 1, \"a\": \"D\"}, {\"b\": 2, \"a\": \"D\"}, {\"b\": 6, \"a\": \"D\"}, {\"b\": 8, \"a\": \"E\"}, {\"b\": 4, \"a\": \"E\"}, {\"b\": 7, \"a\": \"E\"}]}, \"config\": {\"cell\": {\"width\": 500, \"height\": 350}}};\n",
       "var selector = \"#de6498db-d404-47f3-b56a-8cf19534d12e\";\n",
       "var type = \"vega-lite\";\n",
       "\n",
       "var output_area = this;\n",
       "require(['nbextensions/jupyter-vega/index'], function(vega) {\n",
       "  vega.render(selector, spec, type, output_area);\n",
       "}, function (err) {\n",
       "  if (err.requireType !== 'scripterror') {\n",
       "    throw(err);\n",
       "  }\n",
       "});\n"
      ]
     },
     "metadata": {
      "jupyter-vega": "#de6498db-d404-47f3-b56a-8cf19534d12e"
     },
     "output_type": "display_data"
    },
    {
     "data": {
      "image/png": "[encoded data removed]"
     },
     "metadata": {
      "jupyter-vega": "#de6498db-d404-47f3-b56a-8cf19534d12e"
     },
     "output_type": "display_data"
    }
   ],
   "source": [
    "Chart(data).mark_bar().encode(\n",
    "    Y('a'),\n",
    "    X('b')\n",
    ")"
   ]
  },
  {
   "cell_type": "markdown",
   "metadata": {},
   "source": [
    "Notice, we have used a slightly different syntax for specifying the channels using classes (`X` and `Y`) passed as positional arguments. These classes allow additional arguments to be passed to each channel.\n",
    "\n",
    "Here are some of the more commonly used `mark_*()` methods supported in Altair and Vega-Lite; for more detail see [Markings](https://altair-viz.github.io/documentation/marks.html) in the Altair documentation:\n",
    "\n",
    "<table>\n",
    "  <tr>\n",
    "    <th>Method</th>\n",
    "  </tr>\n",
    "  <tr>\n",
    "    <td><code>mark_area()</code></td>\n",
    "  </tr>\n",
    "  <tr>\n",
    "    <td><code>mark_bar()</code></td>\n",
    "  </tr>\n",
    "  <tr>\n",
    "    <td><code>mark_circle()</code></td>\n",
    "  </tr>\n",
    "  <tr>\n",
    "    <td><code>mark_line()</code></td>\n",
    "  </tr>\n",
    "  <tr>\n",
    "    <td><code>mark_point()</code></td>\n",
    "  </tr>\n",
    "  <tr>\n",
    "    <td><code>mark_rule()</code></td>\n",
    "  </tr>\n",
    "  <tr>\n",
    "    <td><code>mark_square()</code></td>\n",
    "  </tr>\n",
    "  <tr>\n",
    "    <td><code>mark_text()</code></td>\n",
    "  </tr>\n",
    "  <tr>\n",
    "    <td><code>mark_tick()</code></td>\n",
    "  </tr>\n",
    "</table>\n",
    "\n"
   ]
  },
  {
   "cell_type": "markdown",
   "metadata": {},
   "source": [
    "## Data transformation: Aggregation"
   ]
  },
  {
   "cell_type": "markdown",
   "metadata": {},
   "source": [
    "Altair and Vega-Lite also support a variety of built-in data transformations, such as aggregation. The easiest way to specify such aggregations is through a string-function syntax in the argument to the column name. For example, here we will plot not all the values, but a single point representing the average of the x-values for a given y-value:"
   ]
  },
  {
   "cell_type": "code",
   "execution_count": 12,
   "metadata": {
    "collapsed": false
   },
   "outputs": [
    {
     "data": {
      "text/html": [
       "<div class=\"vega-embed\" id=\"b2f90c0c-ba1e-4c98-b3dc-280cb4c88012\"></div>\n",
       "\n",
       "<style>\n",
       ".vega-embed svg, .vega-embed canvas {\n",
       "  border: 1px dotted gray;\n",
       "}\n",
       "\n",
       ".vega-embed .vega-actions a {\n",
       "  margin-right: 6px;\n",
       "}\n",
       "</style>\n"
      ]
     },
     "metadata": {
      "jupyter-vega": "#b2f90c0c-ba1e-4c98-b3dc-280cb4c88012"
     },
     "output_type": "display_data"
    },
    {
     "data": {
      "application/javascript": [
       "var spec = {\"mark\": \"point\", \"encoding\": {\"x\": {\"type\": \"quantitative\", \"field\": \"b\", \"aggregate\": \"average\"}, \"y\": {\"type\": \"nominal\", \"field\": \"a\"}}, \"data\": {\"values\": [{\"b\": 2, \"a\": \"C\"}, {\"b\": 7, \"a\": \"C\"}, {\"b\": 4, \"a\": \"C\"}, {\"b\": 1, \"a\": \"D\"}, {\"b\": 2, \"a\": \"D\"}, {\"b\": 6, \"a\": \"D\"}, {\"b\": 8, \"a\": \"E\"}, {\"b\": 4, \"a\": \"E\"}, {\"b\": 7, \"a\": \"E\"}]}, \"config\": {\"cell\": {\"width\": 500, \"height\": 350}}};\n",
       "var selector = \"#b2f90c0c-ba1e-4c98-b3dc-280cb4c88012\";\n",
       "var type = \"vega-lite\";\n",
       "\n",
       "var output_area = this;\n",
       "require(['nbextensions/jupyter-vega/index'], function(vega) {\n",
       "  vega.render(selector, spec, type, output_area);\n",
       "}, function (err) {\n",
       "  if (err.requireType !== 'scripterror') {\n",
       "    throw(err);\n",
       "  }\n",
       "});\n"
      ]
     },
     "metadata": {
      "jupyter-vega": "#b2f90c0c-ba1e-4c98-b3dc-280cb4c88012"
     },
     "output_type": "display_data"
    },
    {
     "data": {
      "image/png": "[encoded data removed]"
     },
     "metadata": {
      "jupyter-vega": "#b2f90c0c-ba1e-4c98-b3dc-280cb4c88012"
     },
     "output_type": "display_data"
    }
   ],
   "source": [
    "Chart(data).mark_point().encode(\n",
    "    y='a',\n",
    "    x='average(b)'\n",
    ")"
   ]
  },
  {
   "cell_type": "markdown",
   "metadata": {},
   "source": [
    "Conceptually, this is equivalent to the following groupby operation:"
   ]
  },
  {
   "cell_type": "code",
   "execution_count": 13,
   "metadata": {
    "collapsed": false
   },
   "outputs": [
    {
     "data": {
      "text/html": [
       "<div>\n",
       "<table border=\"1\" class=\"dataframe\">\n",
       "  <thead>\n",
       "    <tr style=\"text-align: right;\">\n",
       "      <th></th>\n",
       "      <th>b</th>\n",
       "    </tr>\n",
       "    <tr>\n",
       "      <th>a</th>\n",
       "      <th></th>\n",
       "    </tr>\n",
       "  </thead>\n",
       "  <tbody>\n",
       "    <tr>\n",
       "      <th>C</th>\n",
       "      <td>4.333333</td>\n",
       "    </tr>\n",
       "    <tr>\n",
       "      <th>D</th>\n",
       "      <td>3.000000</td>\n",
       "    </tr>\n",
       "    <tr>\n",
       "      <th>E</th>\n",
       "      <td>6.333333</td>\n",
       "    </tr>\n",
       "  </tbody>\n",
       "</table>\n",
       "</div>"
      ],
      "text/plain": [
       "          b\n",
       "a          \n",
       "C  4.333333\n",
       "D  3.000000\n",
       "E  6.333333"
      ]
     },
     "execution_count": 13,
     "metadata": {},
     "output_type": "execute_result"
    }
   ],
   "source": [
    "data.groupby('a').mean()"
   ]
  },
  {
   "cell_type": "markdown",
   "metadata": {},
   "source": [
    "More typically, aggregated values are displayed using bar charts.\n",
    "Making this change is as simple as replacing `mark_point()` with `mark_bar()`:"
   ]
  },
  {
   "cell_type": "code",
   "execution_count": 14,
   "metadata": {
    "collapsed": false
   },
   "outputs": [
    {
     "data": {
      "text/html": [
       "<div class=\"vega-embed\" id=\"8671f676-7f2f-49a2-a321-ee9c8c3c26e4\"></div>\n",
       "\n",
       "<style>\n",
       ".vega-embed svg, .vega-embed canvas {\n",
       "  border: 1px dotted gray;\n",
       "}\n",
       "\n",
       ".vega-embed .vega-actions a {\n",
       "  margin-right: 6px;\n",
       "}\n",
       "</style>\n"
      ]
     },
     "metadata": {
      "jupyter-vega": "#8671f676-7f2f-49a2-a321-ee9c8c3c26e4"
     },
     "output_type": "display_data"
    },
    {
     "data": {
      "application/javascript": [
       "var spec = {\"mark\": \"bar\", \"encoding\": {\"x\": {\"type\": \"quantitative\", \"field\": \"b\", \"aggregate\": \"average\"}, \"y\": {\"type\": \"nominal\", \"field\": \"a\"}}, \"data\": {\"values\": [{\"b\": 2, \"a\": \"C\"}, {\"b\": 7, \"a\": \"C\"}, {\"b\": 4, \"a\": \"C\"}, {\"b\": 1, \"a\": \"D\"}, {\"b\": 2, \"a\": \"D\"}, {\"b\": 6, \"a\": \"D\"}, {\"b\": 8, \"a\": \"E\"}, {\"b\": 4, \"a\": \"E\"}, {\"b\": 7, \"a\": \"E\"}]}, \"config\": {\"cell\": {\"width\": 500, \"height\": 350}}};\n",
       "var selector = \"#8671f676-7f2f-49a2-a321-ee9c8c3c26e4\";\n",
       "var type = \"vega-lite\";\n",
       "\n",
       "var output_area = this;\n",
       "require(['nbextensions/jupyter-vega/index'], function(vega) {\n",
       "  vega.render(selector, spec, type, output_area);\n",
       "}, function (err) {\n",
       "  if (err.requireType !== 'scripterror') {\n",
       "    throw(err);\n",
       "  }\n",
       "});\n"
      ]
     },
     "metadata": {
      "jupyter-vega": "#8671f676-7f2f-49a2-a321-ee9c8c3c26e4"
     },
     "output_type": "display_data"
    },
    {
     "data": {
      "image/png": "[encoded data removed]"
     },
     "metadata": {
      "jupyter-vega": "#8671f676-7f2f-49a2-a321-ee9c8c3c26e4"
     },
     "output_type": "display_data"
    }
   ],
   "source": [
    "c = Chart(data).mark_bar().encode(\n",
    "    y='a',\n",
    "    x='average(b)'\n",
    ")\n",
    "c # save the Chart to a variable and then display"
   ]
  },
  {
   "cell_type": "markdown",
   "metadata": {},
   "source": [
    "As above, Altair's role in this visualization is converting the resulting object into an appropriate JSON dict.\n",
    "Here it is, leaving out the data for clarity:"
   ]
  },
  {
   "cell_type": "code",
   "execution_count": 15,
   "metadata": {
    "collapsed": false
   },
   "outputs": [
    {
     "data": {
      "text/plain": [
       "{'encoding': {'x': {'aggregate': 'average',\n",
       "   'field': 'b',\n",
       "   'type': 'quantitative'},\n",
       "  'y': {'field': 'a', 'type': 'nominal'}},\n",
       " 'mark': 'bar'}"
      ]
     },
     "execution_count": 15,
     "metadata": {},
     "output_type": "execute_result"
    }
   ],
   "source": [
    "c.to_dict(data=False)"
   ]
  },
  {
   "cell_type": "markdown",
   "metadata": {},
   "source": [
    "Notice that Altair has taken the string `'average(b)'` and converted it to a mapping that includes `field`, `type`, and `aggregate`. The full shorthand syntax for the column names in Altair also includes the explicit type code separated by a column:"
   ]
  },
  {
   "cell_type": "code",
   "execution_count": 16,
   "metadata": {
    "collapsed": false
   },
   "outputs": [
    {
     "data": {
      "text/plain": [
       "{'aggregate': 'average', 'field': 'b', 'type': 'quantitative'}"
      ]
     },
     "execution_count": 16,
     "metadata": {},
     "output_type": "execute_result"
    }
   ],
   "source": [
    "x = X('average(b):Q')\n",
    "x.to_dict()"
   ]
  },
  {
   "cell_type": "markdown",
   "metadata": {},
   "source": [
    "This shorthand is equivalent to spelling-out these properties by name:"
   ]
  },
  {
   "cell_type": "code",
   "execution_count": 17,
   "metadata": {
    "collapsed": false
   },
   "outputs": [
    {
     "data": {
      "text/plain": [
       "{'aggregate': 'average', 'field': 'b', 'type': 'quantitative'}"
      ]
     },
     "execution_count": 17,
     "metadata": {},
     "output_type": "execute_result"
    }
   ],
   "source": [
    "x = X('b', aggregate='average', type='quantitative')\n",
    "x.to_dict()"
   ]
  },
  {
   "cell_type": "markdown",
   "metadata": {},
   "source": [
    "This is one benefit of using the Altair API over writing the Vega-Lite spec from scratch: valid Vega-Lite specifications can be created very succinctly, with less boilerplate code.\n",
    "\n",
    "To see all the possible aggregate operations, we can look at the values listed within the ``AggregateOp`` enumeration:"
   ]
  },
  {
   "cell_type": "code",
   "execution_count": 18,
   "metadata": {
    "collapsed": false
   },
   "outputs": [
    {
     "data": {
      "text/plain": [
       "['values',\n",
       " 'count',\n",
       " 'valid',\n",
       " 'missing',\n",
       " 'distinct',\n",
       " 'sum',\n",
       " 'mean',\n",
       " 'average',\n",
       " 'variance',\n",
       " 'variancep',\n",
       " 'stdev',\n",
       " 'stdevp',\n",
       " 'median',\n",
       " 'q1',\n",
       " 'q3',\n",
       " 'modeskew',\n",
       " 'min',\n",
       " 'max',\n",
       " 'argmin',\n",
       " 'argmax']"
      ]
     },
     "execution_count": 18,
     "metadata": {},
     "output_type": "execute_result"
    }
   ],
   "source": [
    "from altair.api import AggregateOp\n",
    "AggregateOp().values"
   ]
  },
  {
   "cell_type": "markdown",
   "metadata": {},
   "source": [
    "## Customizing your visualization"
   ]
  },
  {
   "cell_type": "markdown",
   "metadata": {},
   "source": [
    "To speed the process of data exploration, Altair (via Vega-Lite) makes some choices about default properties of the visualization.\n",
    "Altair also provides an API to customize the look of the visualization. For example, we can use the `X` object we saw above to override the default x-axis title:"
   ]
  },
  {
   "cell_type": "code",
   "execution_count": 19,
   "metadata": {
    "collapsed": false
   },
   "outputs": [
    {
     "data": {
      "text/html": [
       "<div class=\"vega-embed\" id=\"a270ef5e-88ab-4ff1-aa37-84f431f10a92\"></div>\n",
       "\n",
       "<style>\n",
       ".vega-embed svg, .vega-embed canvas {\n",
       "  border: 1px dotted gray;\n",
       "}\n",
       "\n",
       ".vega-embed .vega-actions a {\n",
       "  margin-right: 6px;\n",
       "}\n",
       "</style>\n"
      ]
     },
     "metadata": {
      "jupyter-vega": "#a270ef5e-88ab-4ff1-aa37-84f431f10a92"
     },
     "output_type": "display_data"
    },
    {
     "data": {
      "application/javascript": [
       "var spec = {\"mark\": \"bar\", \"encoding\": {\"x\": {\"type\": \"quantitative\", \"field\": \"b\", \"aggregate\": \"average\", \"axis\": {\"title\": \"Average of b\"}}, \"y\": {\"type\": \"nominal\", \"field\": \"a\"}}, \"data\": {\"values\": [{\"b\": 2, \"a\": \"C\"}, {\"b\": 7, \"a\": \"C\"}, {\"b\": 4, \"a\": \"C\"}, {\"b\": 1, \"a\": \"D\"}, {\"b\": 2, \"a\": \"D\"}, {\"b\": 6, \"a\": \"D\"}, {\"b\": 8, \"a\": \"E\"}, {\"b\": 4, \"a\": \"E\"}, {\"b\": 7, \"a\": \"E\"}]}, \"config\": {\"cell\": {\"width\": 500, \"height\": 350}}};\n",
       "var selector = \"#a270ef5e-88ab-4ff1-aa37-84f431f10a92\";\n",
       "var type = \"vega-lite\";\n",
       "\n",
       "var output_area = this;\n",
       "require(['nbextensions/jupyter-vega/index'], function(vega) {\n",
       "  vega.render(selector, spec, type, output_area);\n",
       "}, function (err) {\n",
       "  if (err.requireType !== 'scripterror') {\n",
       "    throw(err);\n",
       "  }\n",
       "});\n"
      ]
     },
     "metadata": {
      "jupyter-vega": "#a270ef5e-88ab-4ff1-aa37-84f431f10a92"
     },
     "output_type": "display_data"
    },
    {
     "data": {
      "image/png": "[encoded data removed]"
     },
     "metadata": {
      "jupyter-vega": "#a270ef5e-88ab-4ff1-aa37-84f431f10a92"
     },
     "output_type": "display_data"
    }
   ],
   "source": [
    "Chart(data).mark_bar().encode(\n",
    "    y='a',\n",
    "    x=X('average(b)', axis=Axis(title='Average of b'))\n",
    ")"
   ]
  },
  {
   "cell_type": "markdown",
   "metadata": {},
   "source": [
    "The properties of marks can be configured by passing keyword arguments to the `mark_*()` methods:"
   ]
  },
  {
   "cell_type": "code",
   "execution_count": 20,
   "metadata": {
    "collapsed": false
   },
   "outputs": [
    {
     "data": {
      "text/html": [
       "<div class=\"vega-embed\" id=\"898f898c-a070-47a0-9efa-d343dd195c1a\"></div>\n",
       "\n",
       "<style>\n",
       ".vega-embed svg, .vega-embed canvas {\n",
       "  border: 1px dotted gray;\n",
       "}\n",
       "\n",
       ".vega-embed .vega-actions a {\n",
       "  margin-right: 6px;\n",
       "}\n",
       "</style>\n"
      ]
     },
     "metadata": {
      "jupyter-vega": "#898f898c-a070-47a0-9efa-d343dd195c1a"
     },
     "output_type": "display_data"
    },
    {
     "data": {
      "application/javascript": [
       "var spec = {\"mark\": \"bar\", \"encoding\": {\"x\": {\"type\": \"quantitative\", \"field\": \"b\", \"aggregate\": \"average\", \"axis\": {\"title\": \"Average of b\"}}, \"y\": {\"type\": \"nominal\", \"field\": \"a\"}}, \"data\": {\"values\": [{\"b\": 2, \"a\": \"C\"}, {\"b\": 7, \"a\": \"C\"}, {\"b\": 4, \"a\": \"C\"}, {\"b\": 1, \"a\": \"D\"}, {\"b\": 2, \"a\": \"D\"}, {\"b\": 6, \"a\": \"D\"}, {\"b\": 8, \"a\": \"E\"}, {\"b\": 4, \"a\": \"E\"}, {\"b\": 7, \"a\": \"E\"}]}, \"config\": {\"mark\": {\"color\": \"#03A9F4\"}, \"cell\": {\"width\": 500, \"height\": 350}}};\n",
       "var selector = \"#898f898c-a070-47a0-9efa-d343dd195c1a\";\n",
       "var type = \"vega-lite\";\n",
       "\n",
       "var output_area = this;\n",
       "require(['nbextensions/jupyter-vega/index'], function(vega) {\n",
       "  vega.render(selector, spec, type, output_area);\n",
       "}, function (err) {\n",
       "  if (err.requireType !== 'scripterror') {\n",
       "    throw(err);\n",
       "  }\n",
       "});\n"
      ]
     },
     "metadata": {
      "jupyter-vega": "#898f898c-a070-47a0-9efa-d343dd195c1a"
     },
     "output_type": "display_data"
    },
    {
     "data": {
      "image/png": "[encoded data removed]"
     },
     "metadata": {
      "jupyter-vega": "#898f898c-a070-47a0-9efa-d343dd195c1a"
     },
     "output_type": "display_data"
    }
   ],
   "source": [
    "Chart(data).mark_bar(color='#03A9F4').encode(\n",
    "    y='a',\n",
    "    x=X('average(b)', axis=Axis(title='Average of b'))\n",
    ")"
   ]
  },
  {
   "cell_type": "markdown",
   "metadata": {},
   "source": [
    "Similarly, we can use various `configure_*()` methods to adjust global properties of the chart, such as the chart width or height:"
   ]
  },
  {
   "cell_type": "code",
   "execution_count": 21,
   "metadata": {
    "collapsed": false
   },
   "outputs": [
    {
     "data": {
      "text/html": [
       "<div class=\"vega-embed\" id=\"b04dde55-c487-40a0-82b3-53eb44d3c34a\"></div>\n",
       "\n",
       "<style>\n",
       ".vega-embed svg, .vega-embed canvas {\n",
       "  border: 1px dotted gray;\n",
       "}\n",
       "\n",
       ".vega-embed .vega-actions a {\n",
       "  margin-right: 6px;\n",
       "}\n",
       "</style>\n"
      ]
     },
     "metadata": {
      "jupyter-vega": "#b04dde55-c487-40a0-82b3-53eb44d3c34a"
     },
     "output_type": "display_data"
    },
    {
     "data": {
      "application/javascript": [
       "var spec = {\"mark\": \"bar\", \"encoding\": {\"x\": {\"type\": \"quantitative\", \"field\": \"b\", \"aggregate\": \"average\", \"axis\": {\"title\": \"Average of b\"}}, \"y\": {\"type\": \"nominal\", \"field\": \"a\"}}, \"data\": {\"values\": [{\"b\": 2, \"a\": \"C\"}, {\"b\": 7, \"a\": \"C\"}, {\"b\": 4, \"a\": \"C\"}, {\"b\": 1, \"a\": \"D\"}, {\"b\": 2, \"a\": \"D\"}, {\"b\": 6, \"a\": \"D\"}, {\"b\": 8, \"a\": \"E\"}, {\"b\": 4, \"a\": \"E\"}, {\"b\": 7, \"a\": \"E\"}]}, \"config\": {\"cell\": {\"width\": 300.0, \"height\": 350}, \"scale\": {\"bandSize\": 50.0}}};\n",
       "var selector = \"#b04dde55-c487-40a0-82b3-53eb44d3c34a\";\n",
       "var type = \"vega-lite\";\n",
       "\n",
       "var output_area = this;\n",
       "require(['nbextensions/jupyter-vega/index'], function(vega) {\n",
       "  vega.render(selector, spec, type, output_area);\n",
       "}, function (err) {\n",
       "  if (err.requireType !== 'scripterror') {\n",
       "    throw(err);\n",
       "  }\n",
       "});\n"
      ]
     },
     "metadata": {
      "jupyter-vega": "#b04dde55-c487-40a0-82b3-53eb44d3c34a"
     },
     "output_type": "display_data"
    },
    {
     "data": {
      "image/png": "[encoded data removed]"
     },
     "metadata": {
      "jupyter-vega": "#b04dde55-c487-40a0-82b3-53eb44d3c34a"
     },
     "output_type": "display_data"
    }
   ],
   "source": [
    "c = Chart(data).mark_bar().encode(\n",
    "    y='a',\n",
    "    x=X('average(b)', axis=Axis(title='Average of b'))\n",
    ").configure_scale(\n",
    "    bandSize=50  # scale.bandSize adjusts thickness (in pixels) of bars\n",
    ").configure_cell(\n",
    "    width=300  # cell.width adjusts the width (in pixels) of the chart\n",
    ")\n",
    "\n",
    "c"
   ]
  },
  {
   "cell_type": "markdown",
   "metadata": {},
   "source": [
    "As above, we can inspect how these configuration options affect the resulting Vega-lite specification:"
   ]
  },
  {
   "cell_type": "code",
   "execution_count": 22,
   "metadata": {
    "collapsed": false
   },
   "outputs": [
    {
     "data": {
      "text/plain": [
       "{'config': {'cell': {'width': 300.0}, 'scale': {'bandSize': 50.0}},\n",
       " 'encoding': {'x': {'aggregate': 'average',\n",
       "   'axis': {'title': 'Average of b'},\n",
       "   'field': 'b',\n",
       "   'type': 'quantitative'},\n",
       "  'y': {'field': 'a', 'type': 'nominal'}},\n",
       " 'mark': 'bar'}"
      ]
     },
     "execution_count": 22,
     "metadata": {},
     "output_type": "execute_result"
    }
   ],
   "source": [
    "c.to_dict(data=False)"
   ]
  },
  {
   "cell_type": "markdown",
   "metadata": {},
   "source": [
    "To learn more about the various configuration options, one useful place to start is Altair's ``Config`` object, along with IPython's documentation capabilities:"
   ]
  },
  {
   "cell_type": "code",
   "execution_count": 23,
   "metadata": {
    "collapsed": false
   },
   "outputs": [],
   "source": [
    "Config?"
   ]
  },
  {
   "cell_type": "markdown",
   "metadata": {},
   "source": [
    "You can also read more in Altair's [Configuration](https://altair-viz.github.io/documentation/config.html) documentation."
   ]
  },
  {
   "cell_type": "markdown",
   "metadata": {},
   "source": [
    "## Publishing a visualization online"
   ]
  },
  {
   "cell_type": "markdown",
   "metadata": {},
   "source": [
    "Because Altair produces Vega-Lite specifications, it is relatively straightforward to export charts and publish them on the web as Vega-Lite plots.\n",
    "All that is required is to load the Vega-Lite javascript library, and pass it the JSON plot specification output by Altair.\n",
    "For convenience Altair contains a built-in bare-bones HTML template that can be used to display any plot.\n",
    "Here's the template with an empty chart for clarity:"
   ]
  },
  {
   "cell_type": "code",
   "execution_count": 24,
   "metadata": {
    "collapsed": false
   },
   "outputs": [
    {
     "name": "stdout",
     "output_type": "stream",
     "text": [
      "\n",
      "<!DOCTYPE html>\n",
      "<head>\n",
      "  <title>Vega-Lite Chart</title>\n",
      "  <meta charset=\"utf-8\">\n",
      "\n",
      "  <script src=\"https://d3js.org/d3.v3.min.js\"></script>\n",
      "  <script src=\"https://vega.github.io/vega/vega.js\"></script>\n",
      "  <script src=\"https://vega.github.io/vega-lite/vega-lite.js\"></script>\n",
      "  <script src=\"https://vega.github.io/vega-editor/vendor/vega-embed.js\" charset=\"utf-8\"></script>\n",
      "\n",
      "  <style media=\"screen\">\n",
      "    /* Add space between vega-embed links  */\n",
      "    .vega-actions a {\n",
      "      margin-right: 5px;\n",
      "    }\n",
      "  </style>\n",
      "</head>\n",
      "<body>\n",
      "  <!-- Container for the visualization -->\n",
      "  <div id=\"vis\"></div>\n",
      "\n",
      "  <script>\n",
      "  var vlSpec = {}\n",
      "\n",
      "  var embedSpec = {\n",
      "    mode: \"vega-lite\",  // Instruct Vega-Embed to use the Vega-Lite compiler\n",
      "    spec: vlSpec\n",
      "  };\n",
      "\n",
      "  // Embed the visualization in the container with id `vis`\n",
      "  vg.embed(\"#vis\", embedSpec, function(error, result) {\n",
      "    // Callback receiving the View instance and parsed Vega spec\n",
      "    // result.view is the View, which resides under the '#vis' element\n",
      "  });\n",
      "  </script>\n",
      "</body>\n",
      "</html>\n",
      "\n"
     ]
    }
   ],
   "source": [
    "print(Chart().to_html())"
   ]
  },
  {
   "cell_type": "markdown",
   "metadata": {},
   "source": [
    "All that must be changed is the ``vlSpec`` variable, which should contain the Vega-Lite spec output by ``chart.to_dict()``.\n",
    "This is done automatically using the ``Chart.savechart`` method:"
   ]
  },
  {
   "cell_type": "code",
   "execution_count": 25,
   "metadata": {
    "collapsed": true
   },
   "outputs": [],
   "source": [
    "chart = Chart(data).mark_bar().encode(\n",
    "    y='a',\n",
    "    x='average(b)'\n",
    ")\n",
    "\n",
    "chart.savechart('example.html')"
   ]
  },
  {
   "cell_type": "markdown",
   "metadata": {},
   "source": [
    "We can view the output in an iframe within the notebook (note that some online notebook viewers will not show iframes for security reasons):"
   ]
  },
  {
   "cell_type": "code",
   "execution_count": 26,
   "metadata": {
    "collapsed": false
   },
   "outputs": [
    {
     "data": {
      "text/html": [
       "\n",
       "        <iframe\n",
       "            width=\"400\"\n",
       "            height=\"200\"\n",
       "            src=\"example.html\"\n",
       "            frameborder=\"0\"\n",
       "            allowfullscreen\n",
       "        ></iframe>\n",
       "        "
      ],
      "text/plain": [
       "<IPython.lib.display.IFrame at 0x1136481d0>"
      ]
     },
     "execution_count": 26,
     "metadata": {},
     "output_type": "execute_result"
    }
   ],
   "source": [
    "# Display IFrame in IPython\n",
    "from IPython.display import IFrame\n",
    "IFrame('example.html', width=400, height=200)"
   ]
  },
  {
   "cell_type": "markdown",
   "metadata": {},
   "source": [
    "Alternatively, you can use your web browser to open the file manually to confirm that it works: [example.html](example.html)."
   ]
  },
  {
   "cell_type": "markdown",
   "metadata": {},
   "source": [
    "## Learning More\n",
    "\n",
    "For more information on Altair, please refer to Altair's online documentation: http://altair-viz.github.io/\n",
    "\n",
    "You can also see some of the example plots listed in the [accompanying notebooks](01-Index.ipynb)."
   ]
  }
 ],
 "metadata": {
  "anaconda-cloud": {},
  "kernelspec": {
   "display_name": "Python [default]",
   "language": "python",
   "name": "python3"
  },
  "language_info": {
   "codemirror_mode": {
    "name": "ipython",
    "version": 3
   },
   "file_extension": ".py",
   "mimetype": "text/x-python",
   "name": "python",
   "nbconvert_exporter": "python",
   "pygments_lexer": "ipython3",
   "version": "3.5.1"
  }
 },
 "nbformat": 4,
 "nbformat_minor": 1
}
