{
 "cells": [
  {
   "cell_type": "markdown",
   "metadata": {},
   "source": [
    "# Layered Charts"
   ]
  },
  {
   "cell_type": "markdown",
   "metadata": {},
   "source": [
    "A `LayeredChart` allows you to stack multiple individual charts on top of each other as layers. For example, this could be used to create a chart with both lines and points."
   ]
  },
  {
   "cell_type": "markdown",
   "metadata": {},
   "source": [
    "## Imports"
   ]
  },
  {
   "cell_type": "code",
   "execution_count": 1,
   "metadata": {
    "collapsed": false
   },
   "outputs": [],
   "source": [
    "from altair import *\n",
    "import pandas as pd\n",
    "import numpy as np"
   ]
  },
  {
   "cell_type": "markdown",
   "metadata": {},
   "source": [
    "## Data"
   ]
  },
  {
   "cell_type": "code",
   "execution_count": 2,
   "metadata": {
    "collapsed": true
   },
   "outputs": [],
   "source": [
    "data1 = pd.DataFrame({'x':np.random.rand(10), 'y':np.random.rand(10)})\n",
    "data2 = pd.DataFrame({'x':np.random.rand(10), 'y':np.random.rand(10)})"
   ]
  },
  {
   "cell_type": "code",
   "execution_count": 3,
   "metadata": {
    "collapsed": false
   },
   "outputs": [
    {
     "data": {
      "text/html": [
       "<div>\n",
       "<table border=\"1\" class=\"dataframe\">\n",
       "  <thead>\n",
       "    <tr style=\"text-align: right;\">\n",
       "      <th></th>\n",
       "      <th>x</th>\n",
       "      <th>y</th>\n",
       "    </tr>\n",
       "  </thead>\n",
       "  <tbody>\n",
       "    <tr>\n",
       "      <th>0</th>\n",
       "      <td>0.628678</td>\n",
       "      <td>0.730524</td>\n",
       "    </tr>\n",
       "    <tr>\n",
       "      <th>1</th>\n",
       "      <td>0.093401</td>\n",
       "      <td>0.611708</td>\n",
       "    </tr>\n",
       "    <tr>\n",
       "      <th>2</th>\n",
       "      <td>0.906394</td>\n",
       "      <td>0.938021</td>\n",
       "    </tr>\n",
       "    <tr>\n",
       "      <th>3</th>\n",
       "      <td>0.775297</td>\n",
       "      <td>0.468781</td>\n",
       "    </tr>\n",
       "    <tr>\n",
       "      <th>4</th>\n",
       "      <td>0.902619</td>\n",
       "      <td>0.258393</td>\n",
       "    </tr>\n",
       "  </tbody>\n",
       "</table>\n",
       "</div>"
      ],
      "text/plain": [
       "          x         y\n",
       "0  0.628678  0.730524\n",
       "1  0.093401  0.611708\n",
       "2  0.906394  0.938021\n",
       "3  0.775297  0.468781\n",
       "4  0.902619  0.258393"
      ]
     },
     "execution_count": 3,
     "metadata": {},
     "output_type": "execute_result"
    }
   ],
   "source": [
    "data1.head()"
   ]
  },
  {
   "cell_type": "markdown",
   "metadata": {},
   "source": [
    "## Layered charts"
   ]
  },
  {
   "cell_type": "markdown",
   "metadata": {},
   "source": [
    "If all layers will use the same data, you can create a `LayeredChart` with the data:"
   ]
  },
  {
   "cell_type": "code",
   "execution_count": 4,
   "metadata": {
    "collapsed": true
   },
   "outputs": [],
   "source": [
    "chart = LayeredChart(data1)"
   ]
  },
  {
   "cell_type": "markdown",
   "metadata": {},
   "source": [
    "Layers are then added to the chart by creating individual `Chart` instances (with marks and encoding) and adding them to the `LayeredChart` using the `+=` operator:"
   ]
  },
  {
   "cell_type": "code",
   "execution_count": 5,
   "metadata": {
    "collapsed": false
   },
   "outputs": [],
   "source": [
    "l1 = Chart().mark_line().encode(x='x:Q', y='y:Q')\n",
    "l2 = Chart().mark_point().encode(x='x:Q', y='y:Q')"
   ]
  },
  {
   "cell_type": "code",
   "execution_count": 6,
   "metadata": {
    "collapsed": true
   },
   "outputs": [],
   "source": [
    "chart += l1\n",
    "chart += l2"
   ]
  },
  {
   "cell_type": "markdown",
   "metadata": {},
   "source": [
    "The layers are stored as a list under the `layers` attribute:"
   ]
  },
  {
   "cell_type": "code",
   "execution_count": 7,
   "metadata": {
    "collapsed": false
   },
   "outputs": [
    {
     "data": {
      "text/plain": [
       "[<altair.api.Chart at 0x113836cc0>, <altair.api.Chart at 0x113836c88>]"
      ]
     },
     "execution_count": 7,
     "metadata": {},
     "output_type": "execute_result"
    }
   ],
   "source": [
    "chart.layers"
   ]
  },
  {
   "cell_type": "markdown",
   "metadata": {},
   "source": [
    "Displaying the chart will automatically combine the different layers into a single chart, with the appropriate axes:"
   ]
  },
  {
   "cell_type": "code",
   "execution_count": 8,
   "metadata": {
    "collapsed": false
   },
   "outputs": [
    {
     "data": {
      "text/html": [
       "<div class=\"vega-embed\" id=\"9e1a3d59-bee8-443a-90bf-6ed077a523a6\"></div>\n",
       "\n",
       "<style>\n",
       ".vega-embed svg, .vega-embed canvas {\n",
       "  border: 1px dotted gray;\n",
       "}\n",
       "\n",
       ".vega-embed .vega-actions a {\n",
       "  margin-right: 6px;\n",
       "}\n",
       "</style>\n"
      ]
     },
     "metadata": {
      "jupyter-vega": "#9e1a3d59-bee8-443a-90bf-6ed077a523a6"
     },
     "output_type": "display_data"
    },
    {
     "data": {
      "application/javascript": [
       "var spec = {\"layers\": [{\"mark\": \"line\", \"encoding\": {\"y\": {\"type\": \"quantitative\", \"field\": \"y\"}, \"x\": {\"type\": \"quantitative\", \"field\": \"x\"}}}, {\"mark\": \"point\", \"encoding\": {\"y\": {\"type\": \"quantitative\", \"field\": \"y\"}, \"x\": {\"type\": \"quantitative\", \"field\": \"x\"}}}], \"data\": {\"values\": [{\"y\": 0.7305237376723125, \"x\": 0.6286782929004606}, {\"y\": 0.6117084922903103, \"x\": 0.09340088710018235}, {\"y\": 0.9380205865643416, \"x\": 0.9063944396234855}, {\"y\": 0.46878071999948456, \"x\": 0.7752974217538802}, {\"y\": 0.25839335493752036, \"x\": 0.9026191740874316}, {\"y\": 0.043382154594965416, \"x\": 0.9327488940883901}, {\"y\": 0.7350420956127304, \"x\": 0.35021717616641657}, {\"y\": 0.3048161577375391, \"x\": 0.3444963039769313}, {\"y\": 0.6523929121868671, \"x\": 0.6047176189748888}, {\"y\": 0.32895905060902275, \"x\": 0.7606844865124107}]}, \"config\": {\"cell\": {\"width\": 500, \"height\": 350}}};\n",
       "var selector = \"#9e1a3d59-bee8-443a-90bf-6ed077a523a6\";\n",
       "var type = \"vega-lite\";\n",
       "\n",
       "var output_area = this;\n",
       "require(['nbextensions/jupyter-vega/index'], function(vega) {\n",
       "  vega.render(selector, spec, type, output_area);\n",
       "}, function (err) {\n",
       "  if (err.requireType !== 'scripterror') {\n",
       "    throw(err);\n",
       "  }\n",
       "});\n"
      ]
     },
     "metadata": {
      "jupyter-vega": "#9e1a3d59-bee8-443a-90bf-6ed077a523a6"
     },
     "output_type": "display_data"
    },
    {
     "data": {
      "image/png": "[encoded data removed]"
     },
     "metadata": {
      "jupyter-vega": "#9e1a3d59-bee8-443a-90bf-6ed077a523a6"
     },
     "output_type": "display_data"
    }
   ],
   "source": [
    "chart"
   ]
  },
  {
   "cell_type": "markdown",
   "metadata": {},
   "source": [
    "If each chart has its own data, you can create individual `Chart` objects, each with their own data, and them simply add them together:"
   ]
  },
  {
   "cell_type": "code",
   "execution_count": 9,
   "metadata": {
    "collapsed": false
   },
   "outputs": [],
   "source": [
    "chart2 = Chart(data1).mark_line(color='#1f77b4').encode(x='x', y='y') + \\\n",
    "         Chart(data2).mark_point(color='#ff7f0e').encode(x='x', y='y')"
   ]
  },
  {
   "cell_type": "code",
   "execution_count": 10,
   "metadata": {
    "collapsed": false
   },
   "outputs": [
    {
     "data": {
      "text/plain": [
       "[<altair.api.Chart at 0x113864b38>, <altair.api.Chart at 0x113864d30>]"
      ]
     },
     "execution_count": 10,
     "metadata": {},
     "output_type": "execute_result"
    }
   ],
   "source": [
    "chart2.layers"
   ]
  },
  {
   "cell_type": "markdown",
   "metadata": {},
   "source": [
    "Because of a [bug in the current ipyvega package](https://github.com/vega/ipyvega/pull/51), the top-level object must have data associated with it.\n",
    "After assigning some data, the chart can be displayed:"
   ]
  },
  {
   "cell_type": "code",
   "execution_count": 12,
   "metadata": {
    "collapsed": false
   },
   "outputs": [
    {
     "data": {
      "text/html": [
       "<div class=\"vega-embed\" id=\"25f22473-c181-44a7-92f1-7d9efd361888\"></div>\n",
       "\n",
       "<style>\n",
       ".vega-embed svg, .vega-embed canvas {\n",
       "  border: 1px dotted gray;\n",
       "}\n",
       "\n",
       ".vega-embed .vega-actions a {\n",
       "  margin-right: 6px;\n",
       "}\n",
       "</style>\n"
      ]
     },
     "metadata": {
      "jupyter-vega": "#25f22473-c181-44a7-92f1-7d9efd361888"
     },
     "output_type": "display_data"
    },
    {
     "data": {
      "application/javascript": [
       "var spec = {\"layers\": [{\"mark\": \"line\", \"data\": {\"values\": [{\"y\": 0.7305237376723125, \"x\": 0.6286782929004606}, {\"y\": 0.6117084922903103, \"x\": 0.09340088710018235}, {\"y\": 0.9380205865643416, \"x\": 0.9063944396234855}, {\"y\": 0.46878071999948456, \"x\": 0.7752974217538802}, {\"y\": 0.25839335493752036, \"x\": 0.9026191740874316}, {\"y\": 0.043382154594965416, \"x\": 0.9327488940883901}, {\"y\": 0.7350420956127304, \"x\": 0.35021717616641657}, {\"y\": 0.3048161577375391, \"x\": 0.3444963039769313}, {\"y\": 0.6523929121868671, \"x\": 0.6047176189748888}, {\"y\": 0.32895905060902275, \"x\": 0.7606844865124107}]}, \"encoding\": {\"y\": {\"type\": \"quantitative\", \"field\": \"y\"}, \"x\": {\"type\": \"quantitative\", \"field\": \"x\"}}, \"config\": {\"mark\": {\"color\": \"#1f77b4\"}}}, {\"mark\": \"point\", \"data\": {\"values\": [{\"y\": 0.6101275736858557, \"x\": 0.8849860415763482}, {\"y\": 0.5894226846070908, \"x\": 0.8691894737739295}, {\"y\": 0.07165920987653451, \"x\": 0.4989846540373124}, {\"y\": 0.6125813363377104, \"x\": 0.6162118663038317}, {\"y\": 0.03644777342724104, \"x\": 0.35903438056496007}, {\"y\": 0.2985033798642953, \"x\": 0.7746278693085128}, {\"y\": 0.8558254129506918, \"x\": 0.48776787314814896}, {\"y\": 0.082741674028326, \"x\": 0.8663586789379666}, {\"y\": 0.7172026804648849, \"x\": 0.3989927413957971}, {\"y\": 0.8727563716899925, \"x\": 0.33815675954876334}]}, \"encoding\": {\"y\": {\"type\": \"quantitative\", \"field\": \"y\"}, \"x\": {\"type\": \"quantitative\", \"field\": \"x\"}}, \"config\": {\"mark\": {\"color\": \"#ff7f0e\"}}}], \"data\": {\"values\": [{\"y\": 0.7305237376723125, \"x\": 0.6286782929004606}, {\"y\": 0.6117084922903103, \"x\": 0.09340088710018235}, {\"y\": 0.9380205865643416, \"x\": 0.9063944396234855}, {\"y\": 0.46878071999948456, \"x\": 0.7752974217538802}, {\"y\": 0.25839335493752036, \"x\": 0.9026191740874316}, {\"y\": 0.043382154594965416, \"x\": 0.9327488940883901}, {\"y\": 0.7350420956127304, \"x\": 0.35021717616641657}, {\"y\": 0.3048161577375391, \"x\": 0.3444963039769313}, {\"y\": 0.6523929121868671, \"x\": 0.6047176189748888}, {\"y\": 0.32895905060902275, \"x\": 0.7606844865124107}]}, \"config\": {\"cell\": {\"width\": 500, \"height\": 350}}};\n",
       "var selector = \"#25f22473-c181-44a7-92f1-7d9efd361888\";\n",
       "var type = \"vega-lite\";\n",
       "\n",
       "var output_area = this;\n",
       "require(['nbextensions/jupyter-vega/index'], function(vega) {\n",
       "  vega.render(selector, spec, type, output_area);\n",
       "}, function (err) {\n",
       "  if (err.requireType !== 'scripterror') {\n",
       "    throw(err);\n",
       "  }\n",
       "});\n"
      ]
     },
     "metadata": {
      "jupyter-vega": "#25f22473-c181-44a7-92f1-7d9efd361888"
     },
     "output_type": "display_data"
    },
    {
     "data": {
      "image/png": "[encoded data removed]"
     },
     "metadata": {
      "jupyter-vega": "#25f22473-c181-44a7-92f1-7d9efd361888"
     },
     "output_type": "display_data"
    }
   ],
   "source": [
    "chart2.data = data1\n",
    "\n",
    "chart2"
   ]
  }
 ],
 "metadata": {
  "anaconda-cloud": {},
  "kernelspec": {
   "display_name": "Python [default]",
   "language": "python",
   "name": "python3"
  },
  "language_info": {
   "codemirror_mode": {
    "name": "ipython",
    "version": 3
   },
   "file_extension": ".py",
   "mimetype": "text/x-python",
   "name": "python",
   "nbconvert_exporter": "python",
   "pygments_lexer": "ipython3",
   "version": "3.5.1"
  }
 },
 "nbformat": 4,
 "nbformat_minor": 1
}
