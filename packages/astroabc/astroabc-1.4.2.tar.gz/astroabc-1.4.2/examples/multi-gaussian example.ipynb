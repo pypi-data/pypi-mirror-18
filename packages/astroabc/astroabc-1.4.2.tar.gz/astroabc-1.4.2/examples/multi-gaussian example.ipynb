{
 "cells": [
  {
   "cell_type": "markdown",
   "metadata": {},
   "source": [
    "# Multi-Gaussian example\n",
    "\n",
    "As an introductory example we can use astroABC to find the posterior distribution for some Gaussian distributed data. Although in this case we already know the likelihood this example is to illustrate how to call astroABC and provide user-defined metrics.\n"
   ]
  },
  {
   "cell_type": "code",
   "execution_count": 2,
   "metadata": {
    "collapsed": true
   },
   "outputs": [],
   "source": [
    "# start by importing astroabc and numpy\n",
    "import numpy as np\n",
    "import astroabc"
   ]
  },
  {
   "cell_type": "markdown",
   "metadata": {},
   "source": [
    "We need to provide:\n",
    "\n",
    "- a dataset\n",
    "- a forwards simulating model for the data\n",
    "- a method defining the distance metric.\n",
    "\n",
    "For this example we generate a dataset of a 1000 draws from a 2D multi-Gaussian where the true means are e.g\n",
    "\n",
    "$\\mu_{1,true} = 0.037579, \\, \\mu_{2, true}=0.573537$\n",
    "\n",
    "and we have fixed the covariance matrix to be  a diagonal matrix with $\\sigma_1^2 = \\sigma_2^2 = 0.05$. \n",
    "We can do this using an inbuilt model class in astroabc."
   ]
  },
  {
   "cell_type": "code",
   "execution_count": 2,
   "metadata": {
    "collapsed": false
   },
   "outputs": [],
   "source": [
    "#make the fake data with diagonal covariance\n",
    "means= np.array([0.037579, 0.573537])\n",
    "cov =np.array([0.01,0.005,0.005,0.1])\n",
    "data = astroabc.Model(\"normal\",1000).make_mock((means,cov))"
   ]
  },
  {
   "cell_type": "markdown",
   "metadata": {},
   "source": [
    "In this example the make_mock method also provides a forwards simulating model for the data. "
   ]
  },
  {
   "cell_type": "code",
   "execution_count": 5,
   "metadata": {
    "collapsed": true
   },
   "outputs": [],
   "source": [
    "#define a method for simulating the data given input parameters\n",
    "def simulation(param, pool=None):\n",
    "    cov =np.array([0.01,0.005,0.005,0.1])\n",
    "    #Ideally do something with the pool here\n",
    "    return astroabc.Model(\"normal\",10000).make_mock((param,cov))\n",
    "\n",
    "model_sim = simulation"
   ]
  },
  {
   "cell_type": "markdown",
   "metadata": {},
   "source": [
    "Next we define a distance metric method. In this example instead of using all of the data (all 1000 draws from a 2D Gaussian) we use the means of the data as a summary statistic and our distance metric is the sum over the difference in the means for the 2D Gaussian "
   ]
  },
  {
   "cell_type": "code",
   "execution_count": 6,
   "metadata": {
    "collapsed": true
   },
   "outputs": [],
   "source": [
    "def dist_metric(d,x):\n",
    "    return np.sum(np.abs(np.mean(x,axis=0) - np.mean(d,axis=0)))"
   ]
  },
  {
   "cell_type": "markdown",
   "metadata": {},
   "source": [
    "Next we specify priors for each of the parameters we want to vary in the sampler. This is done by specifying a list of tuples. The zeroth element in each tuple should be a string specifying the prior for this parameter and the first element should be a list of the hyperparameters needed for this prior.\n",
    "e.g. below we use a normal distribution with mean  0 and variance 0.5 for the first parameter and a uniform distribution from 0.1 - 0.9 for the second parameter."
   ]
  },
  {
   "cell_type": "code",
   "execution_count": 5,
   "metadata": {
    "collapsed": true
   },
   "outputs": [],
   "source": [
    "priors =  [('normal', [0.03,0.1]), ('uniform', [0.1, 0.9])]"
   ]
  },
  {
   "cell_type": "markdown",
   "metadata": {},
   "source": [
    "Next we need to set some keywords for astroABC. This can be done by creating a dictionary of inputs which are passed to the sampler. Many of these entries have defaults and do not need to be specified explicitly.\n",
    "Only the name of the distance metric method needs to be explicity provided as a keyword.\n",
    "The full set of keywords are given in the doc string of the class. Some examples are\n",
    "\n",
    "- tol_type: which specifies the decreasing tolerance levels. \"exp\",\"lin\", \"log\" and \"const\" are options. (default = 'exp')\n",
    "\n",
    "- verbose: level of verbosity, 0 = no printout to screen, 1 = print to screen  (default = 0)\n",
    "\n",
    "- adapt_t: Boolean True/False for adaptive threshold setting (default = False)\n",
    "\n",
    "- threshold: qth quantile used in adaptive threshold setting (default = 75)\n",
    "\n",
    "- pert_kernel: 1 =component wise pert. with local diag variance; 2 = multivariate pert. based on local covariance\n",
    "\n",
    "- variance_method: 0 =weighted covariance, 1= Filippi, 2 = TVZ, 3= Leodoit_Wolf, 4=k-nn (default = 0)\n",
    "\n",
    "- dfunc:method for calculating the distance metric\n",
    "\n",
    "- from_restart: Boolean True/False\n",
    "\n",
    "- restart: string name of restart file\n",
    "\n",
    "- outfile:string specifying name of output file (default = abc_out.txt)\n",
    "\n",
    "- mpi: Boolean True/False (default = False)\n",
    "\n",
    "- mp:Boolean True/False (default = False)\n",
    "\n",
    "- num_proc:number of threads for mp setting (default = None)\n",
    "\n",
    "Please see the doc strings of the astroABC sampler for details on each of these settings."
   ]
  },
  {
   "cell_type": "code",
   "execution_count": 11,
   "metadata": {
    "collapsed": false
   },
   "outputs": [],
   "source": [
    "prop={'dfunc':dist_metric, 'outfile':\"gaussian_example.txt\", 'verbose':1, 'adapt_t': True, 'pert_kernel':2}"
   ]
  },
  {
   "cell_type": "markdown",
   "metadata": {},
   "source": [
    "Now we are ready to create an instance of our sampler. \n",
    "To do this we just need to specify the following to the astroabc.ABC_class\n",
    "\n",
    "astroabc.ABC_class(number of parameters,number of particles,data,tolerance levels,number of iterations,priors,prop)\n",
    "\n",
    "To begin let's run in serial using 100 particles for 30 iterations with default tolerance levels of a maximum threshold of 0.7 and  a minimum threshold of 0.05:"
   ]
  },
  {
   "cell_type": "code",
   "execution_count": 17,
   "metadata": {
    "collapsed": false
   },
   "outputs": [
    {
     "name": "stdout",
     "output_type": "stream",
     "text": [
      "\t \t\n",
      "\t ########################     astroABC     ########################\t\n",
      "\t \t\n",
      "\t Npart=100 \t numt=20 \t tol=[0.5000,0.0020] exp\n",
      "\t Priors= [('normal', [0.03, 0.1]), ('uniform', [0.1, 0.9])]\n"
     ]
    }
   ],
   "source": [
    "sampler = astroabc.ABC_class(2,100,data,[0.5,0.002],20,priors,**prop)"
   ]
  },
  {
   "cell_type": "markdown",
   "metadata": {},
   "source": [
    "Then we simply begin sampling on our data..."
   ]
  },
  {
   "cell_type": "code",
   "execution_count": 18,
   "metadata": {
    "collapsed": false
   },
   "outputs": [
    {
     "name": "stdout",
     "output_type": "stream",
     "text": [
      "\t Step: 0 \t tol: 0.5 \t Params: [0.040139860497527539, 0.5355768963603833]\n",
      "\t Step: 1 \t tol: 0.354064574958 \t Params: [0.046838165133325657, 0.56654536691196422]\n",
      "\t Step: 2 \t tol: 0.261651536253 \t Params: [0.037751719827584206, 0.55041916895372933]\n",
      "\t Step: 3 \t tol: 0.221798580668 \t Params: [0.038140956593183575, 0.55943980606774857]\n",
      "\t Step: 4 \t tol: 0.186027005025 \t Params: [0.034596891484849339, 0.56152118522716599]\n",
      "\t Step: 5 \t tol: 0.160454969808 \t Params: [0.031781317973171908, 0.57302381823815984]\n",
      "\t Step: 6 \t tol: 0.135543461059 \t Params: [0.030273926371335594, 0.58076248773139294]\n",
      "\t Step: 7 \t tol: 0.123033511249 \t Params: [0.032647540122884025, 0.57712553215962592]\n",
      "\t Step: 8 \t tol: 0.102913192695 \t Params: [0.03847202237464329, 0.57548728408385086]\n",
      "\t Step: 9 \t tol: 0.0845686757962 \t Params: [0.040592844201121539, 0.57515644196485383]\n",
      "\t Step: 10 \t tol: 0.0690766316298 \t Params: [0.042632286196032737, 0.5723541551721445]\n",
      "\t Step: 11 \t tol: 0.0563866145223 \t Params: [0.042849168205409606, 0.57162275626120906]\n",
      "\t Step: 12 \t tol: 0.0468658205385 \t Params: [0.038117817825116466, 0.57363865180603613]\n",
      "\t Step: 13 \t tol: 0.0401366291115 \t Params: [0.036522145472646254, 0.57019512624422053]\n",
      "\t Step: 14 \t tol: 0.0343610548129 \t Params: [0.03588168263900321, 0.5703161346804092]\n",
      "\t Step: 15 \t tol: 0.027998542018 \t Params: [0.040024087002842643, 0.56926789211924744]\n",
      "\t Step: 16 \t tol: 0.0234153806605 \t Params: [0.040609138231515483, 0.57068525141253257]\n",
      "\t Step: 17 \t tol: 0.0201597135435 \t Params: [0.040057085309744445, 0.57062824885630758]\n",
      "\t Step: 18 \t tol: 0.0168930461558 \t Params: [0.039878376526130986, 0.57136103408082972]\n",
      "\t Step: 19 \t tol: 0.0146359249038 \t Params: [0.039541813919347912, 0.57089984734346555]\n"
     ]
    }
   ],
   "source": [
    "sampler.sample(model_sim)"
   ]
  },
  {
   "cell_type": "markdown",
   "metadata": {
    "collapsed": true
   },
   "source": [
    "The output above shows the estimated means of the 2D Gaussian averaged over all 100 particles at each iteration, together with the tolerance level. Note above that the sampling may end before 20 iterations if the minimum tolerance level is reached first.\n",
    "Recall that the true parameter values are $\\mu_{1,true} = 0.037579, \\, \\mu_{2, true}=0.573537$"
   ]
  },
  {
   "cell_type": "markdown",
   "metadata": {},
   "source": [
    "# K-Nearest Neighbours estimation for data sample with covariance matrix\n",
    "\n",
    "We could also have created a dataset with a full covariance matrix using "
   ]
  },
  {
   "cell_type": "code",
   "execution_count": 3,
   "metadata": {
    "collapsed": false
   },
   "outputs": [],
   "source": [
    "means= np.array([0.7579, 0.273537])\n",
    "cov = np.array([0.1,0.01,0.01,0.1])\n",
    "data_cov = astroabc.Model(\"normal\",1000).make_mock((means,cov))"
   ]
  },
  {
   "cell_type": "markdown",
   "metadata": {},
   "source": [
    "Keeping model simulation and distance methods the same as above. We can select a different way of estimating the covariance amongst all the particles using k-nearest neighbours. This returns a local covariance estimate and in many cases this reaches convergence faster then using a weighted covariance amongst all particles."
   ]
  },
  {
   "cell_type": "code",
   "execution_count": 7,
   "metadata": {
    "collapsed": false
   },
   "outputs": [],
   "source": [
    "priors =  [('uniform', [0.1,0.9]), ('uniform', [0.1, 0.9])]\n",
    "prop={'dfunc':dist_metric, 'outfile':\"gaussian_example.txt\", 'verbose':1, \\\n",
    "      'adapt_t': True, 'variance_method':4, 'k_near':10 }"
   ]
  },
  {
   "cell_type": "code",
   "execution_count": 8,
   "metadata": {
    "collapsed": false
   },
   "outputs": [
    {
     "name": "stdout",
     "output_type": "stream",
     "text": [
      "\t \t\n",
      "\t ########################     astroABC     ########################\t\n",
      "\t \t\n",
      "\t Npart=100 \t numt=25 \t tol=[0.5000,0.0020] exp\n",
      "\t Priors= [('uniform', [0.1, 0.9]), ('uniform', [0.1, 0.9])]\n"
     ]
    }
   ],
   "source": [
    "sampler = astroabc.ABC_class(2,100,data_cov,[0.5,0.002],25,priors,**prop)"
   ]
  },
  {
   "cell_type": "code",
   "execution_count": 9,
   "metadata": {
    "collapsed": false
   },
   "outputs": [
    {
     "name": "stdout",
     "output_type": "stream",
     "text": [
      "\t Step: 0 \t tol: 0.5 \t Params: [0.66366919184489048, 0.3729825288914318]\n",
      "\t Step: 1 \t tol: 0.407869955895 \t Params: [0.71644068552277818, 0.31311619656861717]\n",
      "\t Step: 2 \t tol: 0.314173010502 \t Params: [0.71973364510120197, 0.30472098870181896]\n",
      "\t Step: 3 \t tol: 0.247220769843 \t Params: [0.74309854759947802, 0.31202383415779866]\n",
      "\t Step: 4 \t tol: 0.208977460917 \t Params: [0.74955150893760658, 0.30530924763346606]\n",
      "\t Step: 5 \t tol: 0.173437769956 \t Params: [0.75540886292262655, 0.27598489972317963]\n",
      "\t Step: 6 \t tol: 0.147265391232 \t Params: [0.73467421073595374, 0.27258526368149033]\n",
      "\t Step: 7 \t tol: 0.125562979165 \t Params: [0.74653438457981647, 0.28204732756431516]\n",
      "\t Step: 8 \t tol: 0.102850304174 \t Params: [0.75507504241252843, 0.29018422197432536]\n",
      "\t Step: 9 \t tol: 0.0881760202565 \t Params: [0.75044575469710284, 0.28819667347093508]\n",
      "\t Step: 10 \t tol: 0.0766153234568 \t Params: [0.74329732404576376, 0.27777129159574793]\n",
      "\t Step: 11 \t tol: 0.0668926368822 \t Params: [0.74481576107149694, 0.27878112008814948]\n",
      "\t Step: 12 \t tol: 0.0550385575715 \t Params: [0.74469091141373933, 0.27312296807609948]\n",
      "\t Step: 13 \t tol: 0.0453620716575 \t Params: [0.74729229471461556, 0.27157975707124948]\n",
      "\t Step: 14 \t tol: 0.0392733806598 \t Params: [0.75039795762649319, 0.27981237866897229]\n",
      "\t Step: 15 \t tol: 0.0298777445162 \t Params: [0.75178640712467582, 0.28050471439383734]\n",
      "\t Step: 16 \t tol: 0.0240826753426 \t Params: [0.7494625785640312, 0.27916134789346342]\n",
      "\t Step: 17 \t tol: 0.0201624844726 \t Params: [0.74756263498491715, 0.27820515434735621]\n",
      "\t Step: 18 \t tol: 0.0164914386789 \t Params: [0.74863214086973939, 0.27657652671219757]\n",
      "\t Step: 19 \t tol: 0.0140932553732 \t Params: [0.74863917997769358, 0.27736733035523436]\n",
      "\t Step: 20 \t tol: 0.0116981449621 \t Params: [0.74817046186778802, 0.2785395453386299]\n",
      "\t Step: 21 \t tol: 0.00964776466224 \t Params: [0.74958122315907416, 0.28011106332785674]\n",
      "\t Step: 22 \t tol: 0.00835752598928 \t Params: [0.74986501758127944, 0.2801373351450967]\n",
      "\t Step: 23 \t tol: 0.00693664656854 \t Params: [0.74909234211558073, 0.27907530163750743]\n",
      "\t Step: 24 \t tol: 0.00581265428583 \t Params: [0.74884463697075032, 0.2790780591864952]\n"
     ]
    }
   ],
   "source": [
    "sampler.sample(model_sim)"
   ]
  },
  {
   "cell_type": "code",
   "execution_count": null,
   "metadata": {
    "collapsed": true
   },
   "outputs": [],
   "source": []
  }
 ],
 "metadata": {
  "kernelspec": {
   "display_name": "Python 2",
   "language": "python",
   "name": "python2"
  },
  "language_info": {
   "codemirror_mode": {
    "name": "ipython",
    "version": 2
   },
   "file_extension": ".py",
   "mimetype": "text/x-python",
   "name": "python",
   "nbconvert_exporter": "python",
   "pygments_lexer": "ipython2",
   "version": "2.7.12"
  }
 },
 "nbformat": 4,
 "nbformat_minor": 0
}
