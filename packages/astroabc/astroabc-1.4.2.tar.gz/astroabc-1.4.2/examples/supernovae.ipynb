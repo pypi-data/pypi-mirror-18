{
 "cells": [
  {
   "cell_type": "markdown",
   "metadata": {},
   "source": [
    "# Supernova Example"
   ]
  },
  {
   "cell_type": "markdown",
   "metadata": {},
   "source": [
    "## Introduction"
   ]
  },
  {
   "cell_type": "markdown",
   "metadata": {},
   "source": [
    "In this toy example we compare ABC and MCMC as methods of estimating cosmological parameters from supernovae data.  The following model describes the distance modulus as a function of redshift:  \n",
    "\n",
    "$$\\mu_{i}^{model}(z_{i};\\Omega_{m},w_{0}) \\propto 5log_{10}(\\frac{c(1+z)}{h_{0}})\\int_{0}^{z}\\frac{dz'}{E(z')}$$\n",
    "\n",
    "\n",
    "$$E(z) = \\sqrt{\\Omega_{m} (1+z)^{3} + (1-\\Omega_{m})e^{3\\int_{0}^{z} dln(1+z')[1+w(z')]}}$$\n",
    "\n",
    "Both ABC and MCMC use this model to estimate the posterior distributions of matter density $\\Omega_{m}$ and the dark energy equation of state $w_{0}$.\n",
    "\n",
    "To demonstrate the difference between ABC and MCMC, we first generate a dataset containing artificial noise such that the distribution of the data is non-Gaussian.  \n",
    "* To use MCMC we are required to specify a likelihood function $\\mathcal{L}(D|\\Omega_{m}, w_{0})$.  By making the standard assumption of a Gaussian likelihood, we are (incorrectly) assumming that the data is Gaussian distributed. Under this assumption we expect biased results from MCMC.  \n",
    " \n",
    " \n",
    "* To use ABC, we must be able to simulate the data at every point in parameter space.  The simulation can naturally include non-Gaussian noise (in many physical examples it is easier to include noise in a simulation then to account for it analytically).    \n",
    "\n",
    "\n",
    "\n",
    "\n",
    "\n",
    "\n",
    "\n",
    "\n"
   ]
  },
  {
   "cell_type": "code",
   "execution_count": 1,
   "metadata": {
    "collapsed": false
   },
   "outputs": [],
   "source": [
    "%matplotlib inline\n",
    "import matplotlib\n",
    "import matplotlib.pyplot as plt\n",
    "import seaborn as sns\n",
    "sns.set(color_codes=True)\n",
    "import numpy as np\n",
    "from scipy.stats import skewnorm\n",
    "import math\n",
    "import astroabc\n",
    "from distance_calc import DistanceCalc   \n",
    "from bin_data import *"
   ]
  },
  {
   "cell_type": "markdown",
   "metadata": {},
   "source": [
    "## The Data"
   ]
  },
  {
   "cell_type": "markdown",
   "metadata": {},
   "source": [
    "First, we need to provide a dataset.  The aim is to generate values of the distance modulus, $\\mu_{i}$, with fixed \"true\" parameters $\\Omega_{m}$ and $w_{0}$\n",
    "\n",
    "$$\\Omega_{m} = 0.3$$\n",
    "$$w_{0} = -1.0$$\n",
    "\n",
    "SNANA is used to generate ~400 supernova light curves which are then fit with the SALT-II light curve fitter. The  data span the redshift interval $z \\in [0.5,1.0]$ and are binned into 20 redshift bins."
   ]
  },
  {
   "cell_type": "code",
   "execution_count": 2,
   "metadata": {
    "collapsed": false
   },
   "outputs": [],
   "source": [
    "\n",
    "zbins,avmu_bin,averr_bin,mu_in_bin_new,mu_in_bin_new = read_data()"
   ]
  },
  {
   "cell_type": "markdown",
   "metadata": {},
   "source": [
    "### Adding noise to the data"
   ]
  },
  {
   "cell_type": "markdown",
   "metadata": {},
   "source": [
    "To add artificial noise to the data we use a skewed normal distribution.  The standard normal distribution has a probability distribution function given by\n",
    "\n",
    "$$ \\phi(x) = \\frac{1}{\\sqrt{2 \\pi}} e^{-\\frac{x^{2}}{2}}$$\n",
    "\n",
    "and a cumulative distribution function: \n",
    "\n",
    "$$\\Phi(x) = \\frac{1}{2} [1 + erf(\\frac{x}{\\sqrt{2}})] $$\n",
    "\n",
    "The skewed normal distribution $f(x)$ with parameter $\\alpha$ is given by \n",
    "\n",
    "$$f(x) = 2\\phi(x)\\Phi(\\alpha x)$$\n",
    "\n",
    "Using this probability distribution function, we can draw a random sample from the skewed normal distribution."
   ]
  },
  {
   "cell_type": "code",
   "execution_count": 8,
   "metadata": {
    "collapsed": false
   },
   "outputs": [
    {
     "data": {
      "image/png": "[encoded data removed]",
      "text/plain": [
       "<matplotlib.figure.Figure at 0x1134962d0>"
      ]
     },
     "metadata": {},
     "output_type": "display_data"
    }
   ],
   "source": [
    "e = -0.1 #location\n",
    "w = 0.3 #scale\n",
    "a = 5.0 #skew\n",
    "\n",
    "plt.figure(figsize=(17,8))\n",
    "plt.hist(skewnorm.rvs(a, loc=e, scale=w, size=10000),normed=True,bins=20,color='#593686')\n",
    "plt.title(\"Distribution of a random sample\",fontsize=17);"
   ]
  },
  {
   "cell_type": "markdown",
   "metadata": {},
   "source": [
    "From this distribution, the noisy data is generated.  At each $z_{i}$ a random number is drawn from the above distribution and added to $\\mu_{i}$.  \n"
   ]
  },
  {
   "cell_type": "code",
   "execution_count": 9,
   "metadata": {
    "collapsed": false
   },
   "outputs": [],
   "source": [
    "data = np.zeros(len(zbins)) \n",
    "\n",
    "for i in range(len(zbins)):\n",
    "    data[i] = avmu_bin[i] + skewnorm.rvs(a, loc=e, scale=w, size=1)"
   ]
  },
  {
   "cell_type": "markdown",
   "metadata": {},
   "source": [
    "A comparison of the data before and after noise is added is shown below:"
   ]
  },
  {
   "cell_type": "code",
   "execution_count": 10,
   "metadata": {
    "collapsed": false
   },
   "outputs": [
    {
     "data": {
      "image/png": "[encoded data removed]",
      "text/plain": [
       "<matplotlib.figure.Figure at 0x102fb9b90>"
      ]
     },
     "metadata": {},
     "output_type": "display_data"
    }
   ],
   "source": [
    "plt.figure(figsize=(17,8))\n",
    "plt.errorbar(zbins,avmu_bin,averr_bin,marker=\"o\",linestyle=\"None\",label=\"without noise\",color='#593686')\n",
    "plt.scatter(zbins,data,color='r',label=\"with noise\")\n",
    "plt.legend(loc=\"upper left\",prop={'size':17});\n",
    "plt.xlabel(\"$z$\",fontsize=20)\n",
    "plt.ylabel(\"$\\mu(z)$\",fontsize=20)\n",
    "plt.title(\"Data before and after noise is added\",fontsize=17);"
   ]
  },
  {
   "cell_type": "markdown",
   "metadata": {},
   "source": [
    "To demonstrate the non-Gaussian distribution of the data at each $z_{i}$, we focus on the data at $z_{1}=0.5$.  The distribution of a large random sample at this redshift is shown below.  Each value in this sample is generated by adding a randomly drawn number from the skewed normal distribution to $\\mu_{1}$.  The value of $\\mu_{1}$ before noise is added is shown in red. As we can see the data is now a skewed distribution around the expected mean."
   ]
  },
  {
   "cell_type": "code",
   "execution_count": 11,
   "metadata": {
    "collapsed": false
   },
   "outputs": [
    {
     "data": {
      "image/png": "[encoded data removed]",
      "text/plain": [
       "<matplotlib.figure.Figure at 0x113650750>"
      ]
     },
     "metadata": {},
     "output_type": "display_data"
    }
   ],
   "source": [
    "z = 0\n",
    "distribution = np.zeros(10000)\n",
    "\n",
    "for j in range(10000):\n",
    "    distribution[j] = avmu_bin[z] + skewnorm.rvs(a, loc=e, scale=w, size=1)\n",
    "\n",
    "plt.figure(figsize=(17,8))\n",
    "plt.title(\"Distribution of the data at redshift z=0.5\",fontsize=17);\n",
    "plt.hist(distribution,bins=20,color='#593686',normed=True)\n",
    "plt.plot((avmu_bin[z], avmu_bin[z]), (0, 2.5), 'r-', label=\"True $\\mu$ at $z = 0.5$\");\n",
    "plt.legend(prop={'size':16});"
   ]
  },
  {
   "cell_type": "markdown",
   "metadata": {},
   "source": [
    "## ABC"
   ]
  },
  {
   "cell_type": "markdown",
   "metadata": {},
   "source": [
    "ABC is used to estimate the posterior distribution of the unknown parameters $\\Omega_{m}$ and $w_{0}$ from the data.  To use ABC we need to specify:\n",
    "* A metric $\\rho$\n",
    "* Prior distributions of $\\Omega_{m}$ and $w_{0}$\n",
    "* A simulation function\n",
    "\n",
    "\n",
    "For more information on each of these, please see the [Introduction](https://github.com/EliseJ/astroABC/blob/master/examples/intro.ipynb) page or the simple [Gaussian]( http://localhost:8889/notebooks/multi-gaussian%20example.ipynb)  demo\n",
    "\n",
    "In this example the metric $\\rho$ is defined to be\n",
    "$$\\rho(\\mu,\\mu_{sim}(z)) = \\sum_{i} \\frac{(\\mu_{i} - \\mu_{sim}(z_{i}))^{2}}{2 \\sigma_{i}^{2}}$$\n",
    "where $\\sigma_{i}$ is the error on the data point $\\mu_{i}$."
   ]
  },
  {
   "cell_type": "code",
   "execution_count": 56,
   "metadata": {
    "collapsed": true
   },
   "outputs": [],
   "source": [
    "def my_dist(d,x):\n",
    "    if x[0]==None:\n",
    "        return float('Inf')\n",
    "    else:\n",
    "        return np.sum(((x-d)/averr_bin)**2)          "
   ]
  },
  {
   "cell_type": "markdown",
   "metadata": {},
   "source": [
    "Parameters needed for ABC are specified:\n"
   ]
  },
  {
   "cell_type": "code",
   "execution_count": 61,
   "metadata": {
    "collapsed": false
   },
   "outputs": [],
   "source": [
    "nparam = 2\n",
    "npart = 100 #number of particles/walkers\n",
    "niter = 20  #number of iterations\n",
    "tlevels = [500.0,0.005] #maximum,minimum tolerance\n",
    "\n",
    "prop={'tol_type':'exp',\"verbose\":1,'adapt_t':True,\n",
    "      'threshold':75,'pert_kernel':2,'variance_method':0,\n",
    "      'dist_type': 'user','dfunc':my_dist, 'restart':\"restart_test.txt\", \\\n",
    "      'outfile':\"abc_pmc_output_\"+str(nparam)+\"param.txt\",'mpi':False,\n",
    "      'mp':True,'num_proc':2, 'from_restart':False}"
   ]
  },
  {
   "cell_type": "markdown",
   "metadata": {},
   "source": [
    "The prior distributions of $\\Omega_{m}$ and $w_{0}$ are chosen as follows:\n",
    "* For $\\Omega_{m}$ we use a normal distribution with mean $0.3$ and standard deviation $0.5$.\n",
    "* For $w_{0}$ we use a normal distribution with mean $-1.0$ and standard deviation $0.5$."
   ]
  },
  {
   "cell_type": "code",
   "execution_count": 62,
   "metadata": {
    "collapsed": true
   },
   "outputs": [],
   "source": [
    "priorname  = [\"normal\",\"normal\"]\n",
    "hyperp = [[0.3,0.5], [-1.0,0.5]]\n",
    "prior = zip(priorname,hyperp)"
   ]
  },
  {
   "cell_type": "markdown",
   "metadata": {},
   "source": [
    "Finally, we need a simulation function.  This must be able to simulate the data at every point in parameter space.  At each $z_{i}$ the simulation uses $\\mu_{model}(z_{i};\\Omega_{m},w_{0})$ given by\n",
    "$$\\mu_{i}^{model}(z_{i};\\Omega_{m},w_{0}) \\propto 5log_{10}(\\frac{c(1+z)}{h_{0}})\\int_{0}^{z}\\frac{dz'}{E(z')}$$\n",
    "\n",
    "to produce a value of distance modulus.  To account for noise in the data we then add a number randomly drawn from a skewed normal distribution.  "
   ]
  },
  {
   "cell_type": "code",
   "execution_count": 63,
   "metadata": {
    "collapsed": false
   },
   "outputs": [],
   "source": [
    "def ABCsimulation(param): #param = [om, w0] \n",
    "    if param[0] < 0.0 or param[0] > 1.0:\n",
    "        return [None]*len(zbins)\n",
    "    else:\n",
    "        model_1_class = DistanceCalc(param[0],0,1-param[0],0,[param[1],0],0.7)  #om,ok,ol,wmodel,de_params,h0\n",
    "        data_abc = np.zeros(len(zbins))\n",
    "        for i in range(len(zbins)):\n",
    "                data_abc[i] = model_1_class.mu(zbins[i]) + skewnorm.rvs(a, loc=e, scale=w, size=1)\n",
    "        return data_abc\n"
   ]
  },
  {
   "cell_type": "markdown",
   "metadata": {},
   "source": [
    "The ABC sampler is run for 20 iterations.  At each iteration the current estimate of the unknown parameters is shown.\n"
   ]
  },
  {
   "cell_type": "code",
   "execution_count": 64,
   "metadata": {
    "collapsed": false
   },
   "outputs": [
    {
     "name": "stdout",
     "output_type": "stream",
     "text": [
      "\t \t\n",
      "\t ########################     astroABC     ########################\t\n",
      "\t \t\n",
      "\t Npart=100 \t numt=20 \t tol=[500.00,0.01] exp\n",
      "\t Priors= [('normal', [0.3, 0.5]), ('normal', [-1.0, 0.5])]\n",
      "\t Running sampler...\t \n",
      "\t Step: 0 \t tol: 500.0 \t Params: [0.46389807484020656, -0.90492788203298247]\n",
      "\t Step: 1 \t tol: 89.0141406021 \t Params: [0.4775746987458922, -1.2928565995582146]\n",
      "\t Step: 2 \t tol: 66.6876789697 \t Params: [0.46794633736827362, -1.3258142756600364]\n",
      "\t Step: 3 \t tol: 47.8808717135 \t Params: [0.43810079532178514, -1.3997220144340075]\n",
      "\t Step: 4 \t tol: 38.657580275 \t Params: [0.36625456137371676, -1.17854813306815]\n",
      "\t Step: 5 \t tol: 30.8887529225 \t Params: [0.37187027326624816, -1.2707414769677658]\n",
      "\t Step: 6 \t tol: 27.2438388842 \t Params: [0.38087708126229253, -1.3302125542848551]\n",
      "\t Step: 7 \t tol: 25.4885082318 \t Params: [0.36532260479350709, -1.2186682526815782]\n",
      "\t Step: 8 \t tol: 23.2745377834 \t Params: [0.36376422081349269, -1.1802678086731309]\n",
      "\t Step: 9 \t tol: 21.3389530467 \t Params: [0.35787261169949708, -1.2119578463690037]\n",
      "\t Step: 10 \t tol: 19.1607904786 \t Params: [0.32762286685207248, -1.1466492601106157]\n",
      "\t Step: 11 \t tol: 17.8826764761 \t Params: [0.32395411415228975, -1.1139847847506656]\n",
      "\t Step: 12 \t tol: 16.92172842 \t Params: [0.32205900638402335, -1.0884139668914994]\n",
      "\t Step: 13 \t tol: 16.0302172864 \t Params: [0.35329468000745351, -1.1736822777041647]\n",
      "\t Step: 14 \t tol: 15.1777424835 \t Params: [0.37558899746436702, -1.2826120467349702]\n",
      "\t Step: 15 \t tol: 13.9635845257 \t Params: [0.3657172533105873, -1.2649951617925976]\n",
      "\t Step: 16 \t tol: 12.9692166169 \t Params: [0.36167661082256308, -1.2985981257903538]\n",
      "\t Step: 17 \t tol: 12.2162307081 \t Params: [0.37533406769079136, -1.3173506814500673]\n",
      "\t Step: 18 \t tol: 11.6384084906 \t Params: [0.36370335229219464, -1.2562708409920422]\n",
      "\t Step: 19 \t tol: 11.1969995216 \t Params: [0.36215707854355117, -1.2247669528796206]\n"
     ]
    }
   ],
   "source": [
    "sampler = astroabc.ABC_class(nparam,npart,data,tlevels,niter,prior,**prop)\n",
    "sampler.sample(ABCsimulation)"
   ]
  },
  {
   "cell_type": "markdown",
   "metadata": {},
   "source": [
    "### Results"
   ]
  },
  {
   "cell_type": "markdown",
   "metadata": {
    "collapsed": false
   },
   "source": [
    "The following figure shows the progress of the ABC particles as the iteration number increases (and the tolerance level decreases).  Initially, at iteration 1, the particles are scattered over a wide area of parameter space according to the prior.  As the iteration number increases the tolerance $\\epsilon_{i}$ decreases, causing the particles to converge to the true values of $\\Omega_{m}$ and $w_{0}$.  \n",
    "\n",
    "<img src='abc_particles.png',width=1500>"
   ]
  },
  {
   "cell_type": "markdown",
   "metadata": {
    "collapsed": false
   },
   "source": [
    "After only 20 iterations the ABC sampler obtains the following results for $\\Omega_{m}$ and $w_{0}$:\n",
    "$$\\Omega_{m} = 0.36 \\pm 0.12$$\n",
    "$$w_{0} = -1.22 \\pm 0.4$$\n",
    "\n",
    "\n"
   ]
  },
  {
   "cell_type": "markdown",
   "metadata": {},
   "source": [
    "The 1- and 2-$\\sigma$ contours for $\\Omega_{m}$ and $w_{0}$ are shown below:\n",
    "\n",
    "<img src='abc_contours.png',width=1500>"
   ]
  },
  {
   "cell_type": "markdown",
   "metadata": {},
   "source": [
    "## MCMC"
   ]
  },
  {
   "cell_type": "markdown",
   "metadata": {},
   "source": [
    "Next we use MCMC to estimate the posterior distributions of the parameters $\\Omega_{m}$ and $w_{0}$. \n",
    "\n",
    "The prior distributions of $\\Omega_{m}$ and $w_{0}$ are chosen to be the same as those used in ABC: \n",
    "* For $\\Omega_{m}$ we use a normal distribution with mean $0.3$ and standard deviation $0.5$.\n",
    "* For $w_{0}$ we use a normal distribution with mean $-1.0$ and standard deviation $0.5$.\n",
    "\n",
    "The proposal distribution is chosen to be a normal distribution for both parameters.\n",
    "\n",
    "A Gaussian likelihood $\\mathcal{L}(D|\\Omega_{m}, w_{0})$ is specified:\n",
    "$$\\mathcal{L}(D|\\Omega_{m}, w_{0}) \\propto exp(-\\sum_{i}\\frac{(\\mu_{i} - \\mu_{model}(z_{i}))^{2}}{2\\sigma_{i}^{2}})$$\n",
    "\n",
    "By using this likelihood, we assume that the distribution of each data point is Gaussian, as shown by the distribution on the left.  In reality, this is not the case, as shown by the skewed distribution on the right:\n"
   ]
  },
  {
   "cell_type": "markdown",
   "metadata": {
    "collapsed": false
   },
   "source": [
    "<img src='distributions.png'>"
   ]
  },
  {
   "cell_type": "markdown",
   "metadata": {},
   "source": [
    "By making this assumption we expect MCMC to produce biased results."
   ]
  },
  {
   "cell_type": "markdown",
   "metadata": {
    "collapsed": true
   },
   "source": [
    "### Results"
   ]
  },
  {
   "cell_type": "markdown",
   "metadata": {},
   "source": [
    "The results of running an MCMC sampler are:\n",
    "\n",
    "$$\\Omega_{m} = 0.17 \\pm 0.11$$\n",
    "$$w_{0} = -1.26 \\pm 0.55$$"
   ]
  },
  {
   "cell_type": "markdown",
   "metadata": {},
   "source": [
    "These results are quite different from the true values of $\\Omega_{m}$ and $w_{0}$ and there is a clear bias in the value of $\\Omega_m$ recovered.  The following distributions show samples from the posterior distributions of $\\Omega_{m}$ and $w_{0}$ obtained by MCMC."
   ]
  },
  {
   "cell_type": "markdown",
   "metadata": {
    "collapsed": false
   },
   "source": [
    "<img src='mcmc_results.png'>\n"
   ]
  },
  {
   "cell_type": "markdown",
   "metadata": {},
   "source": [
    "The 1- and 2-$\\sigma$ contours of the $\\Omega_{m}$ and $w_{0}$ posterior distribution are shown below, where the red star indicates the true values $\\Omega_{m} = 0.3$ and $w_{0} = -1.0$.  We can clearly see that the assumption of a Gaussian likelihood has led to biased results from the MCMC sampler.  "
   ]
  },
  {
   "cell_type": "markdown",
   "metadata": {
    "collapsed": false
   },
   "source": [
    "<img src='mcmc_contours.png'>"
   ]
  },
  {
   "cell_type": "markdown",
   "metadata": {
    "collapsed": true
   },
   "source": [
    "## Summary"
   ]
  },
  {
   "cell_type": "markdown",
   "metadata": {},
   "source": [
    "The table summarises the values of $\\Omega_{m}$ and $w_{0}$ obtained by the ABC and MCMC samplers and compares these to the true values of the parameters.\n",
    "\n",
    "|   | True values | ABC | MCMC   |\n",
    "|---|-------------|------|-------|\n",
    "| $\\Omega_{m}$ | 0.3         |   0.36 $\\pm$ 0.12  |  0.17 $\\pm$ 0.11 |\n",
    "| $w_{0}$ | -1.0        |  -1.22 $\\pm$ 0.4 | -1.26 $\\pm$ 0.55 |\n",
    "\n",
    "\n",
    "Within error, ABC predicts the correct values of $\\Omega_{m}$ and $w_{0}$.  In contrast, MCMC does not find the correct values of $\\Omega_{m}$ and $w_{0}$.  This can be more clearly seen in a side by side comparison of the contour plots:"
   ]
  },
  {
   "cell_type": "markdown",
   "metadata": {
    "collapsed": true
   },
   "source": [
    "\n",
    "\n",
    "<table><tr><td><img src='abc_contours.png'></td><td><img src='mcmc_contours.png'></td></tr></table>"
   ]
  },
  {
   "cell_type": "markdown",
   "metadata": {},
   "source": []
  }
 ],
 "metadata": {
  "kernelspec": {
   "display_name": "Python 2",
   "language": "python",
   "name": "python2"
  },
  "language_info": {
   "codemirror_mode": {
    "name": "ipython",
    "version": 2
   },
   "file_extension": ".py",
   "mimetype": "text/x-python",
   "name": "python",
   "nbconvert_exporter": "python",
   "pygments_lexer": "ipython2",
   "version": "2.7.12"
  }
 },
 "nbformat": 4,
 "nbformat_minor": 0
}
