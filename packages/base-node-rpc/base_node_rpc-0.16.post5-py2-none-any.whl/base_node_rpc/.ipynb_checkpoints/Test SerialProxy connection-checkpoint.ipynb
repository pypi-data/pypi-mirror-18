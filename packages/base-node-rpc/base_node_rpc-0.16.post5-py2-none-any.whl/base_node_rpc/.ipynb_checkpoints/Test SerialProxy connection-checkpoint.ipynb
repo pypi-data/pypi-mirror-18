{
 "cells": [
  {
   "cell_type": "code",
   "execution_count": 1,
   "metadata": {
    "collapsed": true
   },
   "outputs": [],
   "source": [
    "from base_node_rpc import SerialProxy"
   ]
  },
  {
   "cell_type": "code",
   "execution_count": 2,
   "metadata": {
    "collapsed": false
   },
   "outputs": [
    {
     "data": {
      "text/plain": [
       "1154"
      ]
     },
     "execution_count": 2,
     "metadata": {},
     "output_type": "execute_result"
    }
   ],
   "source": [
    "try:\n",
    "    proxy.terminate()\n",
    "except NameError:\n",
    "    pass\n",
    "\n",
    "proxy = SerialProxy()\n",
    "proxy.ram_free()"
   ]
  },
  {
   "cell_type": "code",
   "execution_count": 5,
   "metadata": {
    "collapsed": false
   },
   "outputs": [
    {
     "data": {
      "text/plain": [
       "base_node_software_version                                                     \n",
       "package_name                                                      base-node-rpc\n",
       "display_name                                                                   \n",
       "manufacturer                                                        Wheeler Lab\n",
       "url                           http://github.com/wheeler-microfluidics/base_n...\n",
       "software_version                                                     0.12.post9\n",
       "dtype: object"
      ]
     },
     "execution_count": 5,
     "metadata": {},
     "output_type": "execute_result"
    }
   ],
   "source": [
    "proxy.properties"
   ]
  }
 ],
 "metadata": {
  "kernelspec": {
   "display_name": "Python 2",
   "language": "python",
   "name": "python2"
  },
  "language_info": {
   "codemirror_mode": {
    "name": "ipython",
    "version": 2
   },
   "file_extension": ".py",
   "mimetype": "text/x-python",
   "name": "python",
   "nbconvert_exporter": "python",
   "pygments_lexer": "ipython2",
   "version": "2.7.9"
  }
 },
 "nbformat": 4,
 "nbformat_minor": 0
}
