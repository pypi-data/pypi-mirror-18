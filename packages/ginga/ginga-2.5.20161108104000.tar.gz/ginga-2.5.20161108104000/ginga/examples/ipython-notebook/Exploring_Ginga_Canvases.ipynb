{
 "metadata": {
  "kernelspec": {
   "display_name": "Python [py3k]",
   "language": "python",
   "name": "Python [py3k]"
  },
  "language_info": {
   "codemirror_mode": {
    "name": "ipython",
    "version": 3
   },
   "file_extension": ".py",
   "mimetype": "text/x-python",
   "name": "python",
   "nbconvert_exporter": "python",
   "pygments_lexer": "ipython3",
   "version": "3.5.2"
  },
  "name": "",
  "signature": "sha256:6c49addad43f44136404f4401e168ac1db5eb7d973b2abe509f63fe9a4dec401"
 },
 "nbformat": 3,
 "nbformat_minor": 0,
 "worksheets": [
  {
   "cells": [
    {
     "cell_type": "code",
     "collapsed": false,
     "input": [
      "from ginga.version import version\n",
      "version"
     ],
     "language": "python",
     "metadata": {},
     "outputs": [
      {
       "metadata": {},
       "output_type": "pyout",
       "prompt_number": 1,
       "text": [
        "'2.5.20160505170200'"
       ]
      }
     ],
     "prompt_number": 1
    },
    {
     "cell_type": "code",
     "collapsed": false,
     "input": [
      "from ginga.util import bezier\n",
      "from ginga.pilw import CanvasRenderPil"
     ],
     "language": "python",
     "metadata": {},
     "outputs": [],
     "prompt_number": 2
    },
    {
     "cell_type": "code",
     "collapsed": false,
     "input": [
      "from ginga.pilw.ImageViewPil import ImageViewPil\n",
      "from ginga.misc.log import get_logger\n",
      "logger = get_logger('foo', log_stderr=True)"
     ],
     "language": "python",
     "metadata": {},
     "outputs": [],
     "prompt_number": 3
    },
    {
     "cell_type": "code",
     "collapsed": false,
     "input": [
      "v1 = ImageViewPil(logger)\n",
      "wd, ht = 512, 512\n",
      "v1.configure_surface(wd, ht)"
     ],
     "language": "python",
     "metadata": {},
     "outputs": [
      {
       "output_type": "stream",
       "stream": "stderr",
       "text": [
        "2016-11-04 15:42:44,251 | W | ImageViewPil.py:133 (update_image) | Subclass should override this method\n"
       ]
      }
     ],
     "prompt_number": 4
    },
    {
     "cell_type": "code",
     "collapsed": true,
     "input": [
      "def show(viewer):\n",
      "    return viewer.get_surface()"
     ],
     "language": "python",
     "metadata": {},
     "outputs": [],
     "prompt_number": 4
    },
    {
     "cell_type": "code",
     "collapsed": false,
     "input": [
      "v1.set_bg(0.7, 0.7, 0.7)\n",
      "show(v1)"
     ],
     "language": "python",
     "metadata": {},
     "outputs": [
      {
       "output_type": "stream",
       "stream": "stderr",
       "text": [
        "2016-09-08 08:46:59,721 | W | ImageViewPil.py:133 (update_image) | Subclass should override this method\n"
       ]
      },
      {
       "metadata": {},
       "output_type": "pyout",
       "png": "[encoded data removed]",
       "prompt_number": 5,
       "text": [
        "<PIL.Image.Image image mode=RGB size=512x512 at 0x117525E10>"
       ]
      }
     ],
     "prompt_number": 5
    },
    {
     "cell_type": "code",
     "collapsed": true,
     "input": [
      "canvas = v1.get_canvas()"
     ],
     "language": "python",
     "metadata": {},
     "outputs": [],
     "prompt_number": 6
    },
    {
     "cell_type": "code",
     "collapsed": false,
     "input": [
      "canvas.get_drawtypes()"
     ],
     "language": "python",
     "metadata": {},
     "outputs": [
      {
       "metadata": {},
       "output_type": "pyout",
       "prompt_number": 7,
       "text": [
        "['annulus',\n",
        " 'beziercurve',\n",
        " 'box',\n",
        " 'circle',\n",
        " 'compass',\n",
        " 'crosshair',\n",
        " 'drawablecolorbar',\n",
        " 'ellipse',\n",
        " 'freepath',\n",
        " 'freepolygon',\n",
        " 'line',\n",
        " 'path',\n",
        " 'point',\n",
        " 'polygon',\n",
        " 'rectangle',\n",
        " 'righttriangle',\n",
        " 'ruler',\n",
        " 'square',\n",
        " 'squarebox',\n",
        " 'text',\n",
        " 'triangle']"
       ]
      }
     ],
     "prompt_number": 7
    },
    {
     "cell_type": "heading",
     "level": 2,
     "metadata": {},
     "source": [
      "Line Attributes"
     ]
    },
    {
     "cell_type": "code",
     "collapsed": false,
     "input": [
      "# Line attributes: color, alpha\n",
      "# \n",
      "# some backends: linewidth, style (solid/dash)\n",
      "    \n",
      "canvas.delete_all_objects()\n",
      "\n",
      "Ellipse = canvas.get_draw_class('ellipse')\n",
      "canvas.add(Ellipse(250, 250, 40, 100, color='blue3', linewidth=1,\n",
      "                   style='dash'))\n",
      "v1.set_pan(250, 250)\n",
      "show(v1)"
     ],
     "language": "python",
     "metadata": {},
     "outputs": [
      {
       "output_type": "stream",
       "stream": "stderr",
       "text": [
        "2016-09-08 08:48:59,330 | W | ImageViewPil.py:133 (update_image) | Subclass should override this method\n",
        "2016-09-08 08:48:59,344 | W | ImageViewPil.py:133 (update_image) | Subclass should override this method\n",
        "2016-09-08 08:48:59,360 | W | ImageViewPil.py:133 (update_image) | Subclass should override this method\n",
        "2016-09-08 08:48:59,376 | W | ImageViewPil.py:133 (update_image) | Subclass should override this method\n"
       ]
      },
      {
       "metadata": {},
       "output_type": "pyout",
       "png": "[encoded data removed]",
       "prompt_number": 9,
       "text": [
        "<PIL.Image.Image image mode=RGB size=512x512 at 0x117525E10>"
       ]
      }
     ],
     "prompt_number": 9
    },
    {
     "cell_type": "code",
     "collapsed": false,
     "input": [
      "# Specifying color by name\n",
      "\n",
      "from ginga import colors\n",
      "color_names = list(colors.get_colors())\n",
      "len(color_names)"
     ],
     "language": "python",
     "metadata": {},
     "outputs": [
      {
       "metadata": {},
       "output_type": "pyout",
       "prompt_number": 10,
       "text": [
        "658"
       ]
      }
     ],
     "prompt_number": 10
    },
    {
     "cell_type": "code",
     "collapsed": false,
     "input": [
      "# first 10\n",
      "color_names[:10]"
     ],
     "language": "python",
     "metadata": {},
     "outputs": [
      {
       "metadata": {},
       "output_type": "pyout",
       "prompt_number": 11,
       "text": [
        "['aliceblue',\n",
        " 'antiquewhite',\n",
        " 'antiquewhite1',\n",
        " 'antiquewhite2',\n",
        " 'antiquewhite3',\n",
        " 'antiquewhite4',\n",
        " 'aquamarine',\n",
        " 'aquamarine1',\n",
        " 'aquamarine2',\n",
        " 'aquamarine3']"
       ]
      }
     ],
     "prompt_number": 11
    },
    {
     "cell_type": "code",
     "collapsed": false,
     "input": [
      "# specifying color by a triple\n",
      "#\n",
      "my_clr = (0.73, 0.24, 0.78)\n",
      "canvas.add(Ellipse(250, 250, 40, 100, color=my_clr, linewidth=2,\n",
      "                   alpha=0.75, rot_deg=90.0))\n",
      "show(v1)"
     ],
     "language": "python",
     "metadata": {},
     "outputs": [
      {
       "output_type": "stream",
       "stream": "stderr",
       "text": [
        "2016-09-08 08:49:15,601 | W | ImageViewPil.py:133 (update_image) | Subclass should override this method\n"
       ]
      },
      {
       "metadata": {},
       "output_type": "pyout",
       "png": "[encoded data removed]",
       "prompt_number": 12,
       "text": [
        "<PIL.Image.Image image mode=RGB size=512x512 at 0x117525E10>"
       ]
      }
     ],
     "prompt_number": 12
    },
    {
     "cell_type": "heading",
     "level": 2,
     "metadata": {},
     "source": [
      "Fill attributes"
     ]
    },
    {
     "cell_type": "code",
     "collapsed": false,
     "input": [
      "# Fill attributes: fill=True/False, fillcolor, fillalpha\n",
      "canvas.delete_all_objects()\n",
      "\n",
      "RightTriangle = canvas.get_draw_class('righttriangle')\n",
      "canvas.add(RightTriangle(100, 200, 400, 400, color='gold', fill=True,\n",
      "                  fillcolor='coral2', fillalpha=1.0))"
     ],
     "language": "python",
     "metadata": {},
     "outputs": [
      {
       "output_type": "stream",
       "stream": "stderr",
       "text": [
        "2016-09-08 08:49:24,875 | W | ImageViewPil.py:133 (update_image) | Subclass should override this method\n",
        "2016-09-08 08:49:24,888 | W | ImageViewPil.py:133 (update_image) | Subclass should override this method\n"
       ]
      },
      {
       "metadata": {},
       "output_type": "pyout",
       "prompt_number": 13,
       "text": [
        "'@4'"
       ]
      }
     ],
     "prompt_number": 13
    },
    {
     "cell_type": "code",
     "collapsed": false,
     "input": [
      "Box = canvas.get_draw_class('box')\n",
      "canvas.add(Box(250, 250, 40, 120, color='brown', fill=True,\n",
      "                  fillcolor='purple', fillalpha=0.3, rot_deg=-30.0))"
     ],
     "language": "python",
     "metadata": {},
     "outputs": [
      {
       "output_type": "stream",
       "stream": "stderr",
       "text": [
        "2016-09-08 08:49:28,145 | W | ImageViewPil.py:133 (update_image) | Subclass should override this method\n"
       ]
      },
      {
       "metadata": {},
       "output_type": "pyout",
       "prompt_number": 14,
       "text": [
        "'@5'"
       ]
      }
     ],
     "prompt_number": 14
    },
    {
     "cell_type": "code",
     "collapsed": false,
     "input": [
      "v1.set_pan(250, 250)\n",
      "show(v1)"
     ],
     "language": "python",
     "metadata": {},
     "outputs": [
      {
       "output_type": "stream",
       "stream": "stderr",
       "text": [
        "2016-09-08 08:49:28,800 | W | ImageViewPil.py:133 (update_image) | Subclass should override this method\n"
       ]
      },
      {
       "metadata": {},
       "output_type": "pyout",
       "png": "[encoded data removed]",
       "prompt_number": 15,
       "text": [
        "<PIL.Image.Image image mode=RGB size=512x512 at 0x117525E10>"
       ]
      }
     ],
     "prompt_number": 15
    },
    {
     "cell_type": "code",
     "collapsed": false,
     "input": [
      "Box = canvas.get_draw_class('box')\n",
      "canvas.add(Box(250, 250, 40, 80, color='blue', alpha=1.0, rot_deg=45.0))"
     ],
     "language": "python",
     "metadata": {},
     "outputs": [
      {
       "output_type": "stream",
       "stream": "stderr",
       "text": [
        "2016-09-08 08:49:41,935 | W | ImageViewPil.py:133 (update_image) | Subclass should override this method\n"
       ]
      },
      {
       "metadata": {},
       "output_type": "pyout",
       "prompt_number": 16,
       "text": [
        "'@6'"
       ]
      }
     ],
     "prompt_number": 16
    },
    {
     "cell_type": "code",
     "collapsed": false,
     "input": [
      "canvas.delete_all_objects()"
     ],
     "language": "python",
     "metadata": {},
     "outputs": [
      {
       "output_type": "stream",
       "stream": "stderr",
       "text": [
        "2016-09-08 08:49:42,861 | W | ImageViewPil.py:133 (update_image) | Subclass should override this method\n"
       ]
      }
     ],
     "prompt_number": 17
    },
    {
     "cell_type": "code",
     "collapsed": false,
     "input": [
      "s = v1.get_surface()\n"
     ],
     "language": "python",
     "metadata": {},
     "outputs": [],
     "prompt_number": 18
    },
    {
     "cell_type": "heading",
     "level": 2,
     "metadata": {
      "collapsed": true
     },
     "source": [
      "Canvases"
     ]
    },
    {
     "cell_type": "code",
     "collapsed": false,
     "input": [
      "canvas.delete_all_objects()"
     ],
     "language": "python",
     "metadata": {},
     "outputs": [
      {
       "output_type": "stream",
       "stream": "stderr",
       "text": [
        "2016-09-08 08:58:49,051 | W | ImageViewPil.py:133 (update_image) | Subclass should override this method\n"
       ]
      }
     ],
     "prompt_number": 24
    },
    {
     "cell_type": "code",
     "collapsed": false,
     "input": [
      "Point = canvas.get_draw_class('point')\n",
      "pt = Point(200, 300, radius=10, color='blue')\n",
      "canvas.add(pt)"
     ],
     "language": "python",
     "metadata": {},
     "outputs": [
      {
       "output_type": "stream",
       "stream": "stderr",
       "text": [
        "2016-09-08 08:58:57,312 | W | ImageViewPil.py:133 (update_image) | Subclass should override this method\n"
       ]
      },
      {
       "metadata": {},
       "output_type": "pyout",
       "prompt_number": 25,
       "text": [
        "'@8'"
       ]
      }
     ],
     "prompt_number": 25
    },
    {
     "cell_type": "code",
     "collapsed": false,
     "input": [
      "v1.set_pan(250, 250)\n",
      "show(v1)"
     ],
     "language": "python",
     "metadata": {},
     "outputs": [
      {
       "output_type": "stream",
       "stream": "stderr",
       "text": [
        "2016-09-08 08:58:57,904 | W | ImageViewPil.py:133 (update_image) | Subclass should override this method\n"
       ]
      },
      {
       "metadata": {},
       "output_type": "pyout",
       "png": "[encoded data removed]",
       "prompt_number": 26,
       "text": [
        "<PIL.Image.Image image mode=RGB size=512x512 at 0x117525E10>"
       ]
      }
     ],
     "prompt_number": 26
    },
    {
     "cell_type": "code",
     "collapsed": true,
     "input": [
      "Canvas = canvas.get_draw_class('canvas')\n",
      "from ginga.canvas import coordmap\n",
      "crdmap = coordmap.OffsetMapper(v1, pt)"
     ],
     "language": "python",
     "metadata": {},
     "outputs": [],
     "prompt_number": null
    }
   ],
   "metadata": {}
  }
 ]
}