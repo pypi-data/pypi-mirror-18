{
 "metadata": {
  "name": "SAMP"
 },
 "nbformat": 3,
 "nbformat_minor": 0,
 "worksheets": [
  {
   "cells": [
    {
     "cell_type": "code",
     "collapsed": false,
     "input": [
      "cd /home/eric/Git/Ginga/ginga/misc/plugins"
     ],
     "language": "python",
     "metadata": {},
     "outputs": [
      {
       "output_type": "stream",
       "stream": "stdout",
       "text": [
        "/home/eric/Git/Ginga/ginga/misc/plugins\n"
       ]
      }
     ],
     "prompt_number": 2
    },
    {
     "cell_type": "code",
     "collapsed": false,
     "input": [
      "ls"
     ],
     "language": "python",
     "metadata": {},
     "outputs": [
      {
       "output_type": "stream",
       "stream": "stdout",
       "text": [
        "CatalogsBase.py   HistogramBase.pyc     PickBase.py    ThumbsBase.pyc\r\n",
        "CatalogsBase.pyc  HistogramBase.py~     PickBase.pyc   __init__.py\r\n",
        "CatalogsBase.py~  IIS_DataListener.py   PickBase.py~   __init__.pyc\r\n",
        "CutsBase.py       IIS_DataListener.py~  RC.py          \u001b[0m\u001b[00;32msampy.py\u001b[0m*\r\n",
        "CutsBase.pyc      IRAFBase.py           SAMP.py\r\n",
        "HistogramBase.py  IRAFBase.py~          ThumbsBase.py\r\n"
       ]
      }
     ],
     "prompt_number": 3
    },
    {
     "cell_type": "code",
     "collapsed": false,
     "input": [
      "from sampy import *\n",
      "import time"
     ],
     "language": "python",
     "metadata": {},
     "outputs": [],
     "prompt_number": 4
    },
    {
     "cell_type": "code",
     "collapsed": false,
     "input": [
      "cli1 = SAMPIntegratedClient(metadata = {\"samp.name\":\"Client 1\",\n",
      "                                        \"samp.description.text\":\"Test Client 1\",\n",
      "                                        \"cli1.version\":\"0.25\"})"
     ],
     "language": "python",
     "metadata": {},
     "outputs": [],
     "prompt_number": 5
    },
    {
     "cell_type": "code",
     "collapsed": false,
     "input": [
      "cli1.connect()"
     ],
     "language": "python",
     "metadata": {},
     "outputs": [],
     "prompt_number": 6
    },
    {
     "cell_type": "code",
     "collapsed": false,
     "input": [
      "cli2 = SAMPIntegratedClient(metadata = {\"samp.name\":\"Client 2\",\n",
      "                                        \"samp.description.text\":\"Test Client 2\",\n",
      "                                        \"cli2.version\":\"0.25\"})"
     ],
     "language": "python",
     "metadata": {},
     "outputs": [],
     "prompt_number": 7
    },
    {
     "cell_type": "code",
     "collapsed": false,
     "input": [
      "cli2.connect()"
     ],
     "language": "python",
     "metadata": {},
     "outputs": [],
     "prompt_number": 8
    },
    {
     "cell_type": "code",
     "collapsed": false,
     "input": [
      "print \"CLI1\", cli1.getPrivateKey(), cli1.getPublicId()\n",
      "print \"CLI2\", cli2.getPrivateKey(), cli2.getPublicId()\n"
     ],
     "language": "python",
     "metadata": {},
     "outputs": [
      {
       "output_type": "stream",
       "stream": "stdout",
       "text": [
        "CLI1 94cf77775f28b2abd284fb405863c992 cli#1\n",
        "CLI2 0352d0f9efe568b8668e829864d29d6d cli#2\n"
       ]
      }
     ],
     "prompt_number": 9
    },
    {
     "cell_type": "code",
     "collapsed": false,
     "input": [
      "# Function called when a notification is received\n",
      "def test_receive_notification(private_key, sender_id, mtype, params, extra):\n",
      "    print \"Notification:\", private_key, sender_id, mtype, params, extra"
     ],
     "language": "python",
     "metadata": {},
     "outputs": [],
     "prompt_number": 10
    },
    {
     "cell_type": "code",
     "collapsed": false,
     "input": [
      "# Function called when a call is received\n",
      "def test_receive_call(private_key, sender_id, msg_id, mtype, params, extra):\n",
      "    print \"Call:\", private_key, sender_id, msg_id, mtype, params, extra\n",
      "    cli1.ereply(msg_id, SAMP_STATUS_OK, result = {\"txt\": \"printed\"})\n"
     ],
     "language": "python",
     "metadata": {},
     "outputs": [],
     "prompt_number": 11
    },
    {
     "cell_type": "code",
     "collapsed": false,
     "input": [
      "# Function called when a response is received\n",
      "def test_receive_response(private_key, sender_id, msg_id, response):\n",
      "  print \"Response:\", private_key, sender_id, msg_id, response\n"
     ],
     "language": "python",
     "metadata": {},
     "outputs": [],
     "prompt_number": 12
    },
    {
     "cell_type": "code",
     "collapsed": false,
     "input": [
      "# Subscribe Client 1 to \"samp.*\" and \"samp.app.*\" MType and bind it to\n",
      "# the related functions\n",
      "cli1.bindReceiveNotification(\"samp.app.*\", test_receive_notification)\n",
      "cli1.bindReceiveCall(\"samp.app.*\", test_receive_call)\n"
     ],
     "language": "python",
     "metadata": {},
     "outputs": [],
     "prompt_number": 13
    },
    {
     "cell_type": "code",
     "collapsed": false,
     "input": [
      "# Bind Client 2 message-tags received to suitable functions\n",
      "cli2.bindReceiveResponse(\"my-dummy-print\", test_receive_response)\n",
      "cli2.bindReceiveResponse(\"my-dummy-print-specific\", test_receive_response)\n"
     ],
     "language": "python",
     "metadata": {},
     "outputs": [],
     "prompt_number": 14
    },
    {
     "cell_type": "code",
     "collapsed": false,
     "input": [
      "# Client 2 notifies to All \"samp.app.echo\" MType using myhub\n",
      "cli2.enotifyAll(\"samp.app.echo\", txt = \"Hello world!\")\n"
     ],
     "language": "python",
     "metadata": {},
     "outputs": [
      {
       "output_type": "pyout",
       "prompt_number": 15,
       "text": [
        "['cli#1']"
       ]
      },
      {
       "output_type": "stream",
       "stream": "stdout",
       "text": [
        "Notification: 94cf77775f28b2abd284fb405863c992 cli#2 samp.app.echo {'txt': 'Hello world!'} {'host': 'localhost', 'user': 'unknown'}\n"
       ]
      }
     ],
     "prompt_number": 15
    },
    {
     "cell_type": "code",
     "collapsed": false,
     "input": [
      "print cli2.getSubscribedClients(\"samp.app.echo\")"
     ],
     "language": "python",
     "metadata": {},
     "outputs": [
      {
       "output_type": "stream",
       "stream": "stdout",
       "text": [
        "{'cli#1': {}}\n"
       ]
      }
     ],
     "prompt_number": 16
    },
    {
     "cell_type": "code",
     "collapsed": false,
     "input": [
      "# Client 2 calls to All \"samp.app.echo\" MType using \"my-dummy-print\"\n",
      "# as message-tag\n",
      "print cli2.callAll(\"my-dummy-print\",\n",
      "                   {\"samp.mtype\": \"samp.app.echo\",\n",
      "                    \"samp.params\": {\"txt\": \"Hello world!\"}})\n"
     ],
     "language": "python",
     "metadata": {},
     "outputs": [
      {
       "output_type": "stream",
       "stream": "stdout",
       "text": [
        "{'cli#1': 'msg#1;;cli#hub;;cli#2;;my-dummy-print'}\n"
       ]
      }
     ],
     "prompt_number": 17
    },
    {
     "cell_type": "code",
     "collapsed": false,
     "input": [
      "try:\n",
      "    print cli2.call(cli1.getPublicId(),\n",
      "                   \"my-dummy-print-specific\",\n",
      "                   {\"samp.mtype\": \"samp.app.echo\",\n",
      "                    \"samp.params\": {\"txt\": \"Hello Cli 1!\"}})\n",
      "except SAMPProxyError, e:\n",
      "    print \"Error (%d): %s\" % (e.faultCode, e.faultString)\n"
     ],
     "language": "python",
     "metadata": {},
     "outputs": [
      {
       "output_type": "stream",
       "stream": "stdout",
       "text": [
        "Response: 0352d0f9efe568b8668e829864d29d6d cli#1 my-dummy-print {'samp.status': 'samp.ok', 'samp.result': {'txt': 'printed'}}\n",
        "msg#2;;cli#hub;;cli#2;;my-dummy-print-specific"
       ]
      }
     ],
     "prompt_number": 18
    },
    {
     "cell_type": "code",
     "collapsed": false,
     "input": [
      "# Function called to test synchronous calls\n",
      "def test_receive_sync_call(private_key, sender_id, msg_id, mtype, params, extra):\n",
      "    print \"SYNC Call:\", sender_id, msg_id, mtype, params, extra\n",
      "    time.sleep(2)\n",
      "    cli1.reply(msg_id, {\"samp.status\": SAMP_STATUS_OK,\n",
      "                        \"samp.result\": {\"txt\": \"printed sync\"}})\n"
     ],
     "language": "python",
     "metadata": {},
     "outputs": [
      {
       "output_type": "stream",
       "stream": "stdout",
       "text": [
        "Response: 0352d0f9efe568b8668e829864d29d6d cli#1 my-dummy-print-specific {'samp.status': 'samp.ok', 'samp.result': {'txt': 'printed'}}\n"
       ]
      }
     ],
     "prompt_number": 19
    },
    {
     "cell_type": "code",
     "collapsed": false,
     "input": [
      "# Bind test MType for sync calls\n",
      "cli1.bindReceiveCall(\"samp.test\", test_receive_sync_call)"
     ],
     "language": "python",
     "metadata": {},
     "outputs": [],
     "prompt_number": 20
    },
    {
     "cell_type": "code",
     "collapsed": false,
     "input": [
      "print cli2.callAll(\"my-dummy-print\",\n",
      "                   {\"samp.mtype\": \"x-samp.query.by-meta\",\n",
      "                    \"samp.params\": {\"key\": \"samp.name\"}, \"value\": \"ds9\"})"
     ],
     "language": "python",
     "metadata": {},
     "outputs": [
      {
       "output_type": "stream",
       "stream": "stdout",
       "text": [
        "{}\n"
       ]
      }
     ],
     "prompt_number": 23
    },
    {
     "cell_type": "code",
     "collapsed": false,
     "input": [
      "# ask ds9 to open a FITS file\n",
      "print cli2.callAll(\"my-dummy-print\",\n",
      "                   {\"samp.mtype\": \"image.load.fits\",\n",
      "                    \"samp.params\": {\"url\": \"file:///home/eric/testdata/SPCAM/SUPA01118760.fits\",\n",
      "                                    \"image-id\": \"SUPA01118760\", \"name\": \"SUPA01118760\"}, \"value\": \"ds9\"})"
     ],
     "language": "python",
     "metadata": {},
     "outputs": [
      {
       "output_type": "stream",
       "stream": "stdout",
       "text": [
        "{'cli#3': 'msg#3;;cli#hub;;cli#2;;my-dummy-print'}\n"
       ]
      }
     ],
     "prompt_number": 24
    },
    {
     "cell_type": "code",
     "collapsed": false,
     "input": [
      "# ask ginga to open a FITS file\n",
      "print cli2.callAll(\"my-dummy-print\",\n",
      "                   {\"samp.mtype\": \"image.load.fits\",\n",
      "                    \"samp.params\": {\"url\": \"file:///home/eric/testdata/SPCAM/SUPA01118760.fits\",\n",
      "                                    \"image-id\": \"SUPA01118760\", \"name\": \"SUPA01118760\"}, \"value\": \"ginga\"})"
     ],
     "language": "python",
     "metadata": {},
     "outputs": [
      {
       "output_type": "stream",
       "stream": "stdout",
       "text": [
        "Response: 0352d0f9efe568b8668e829864d29d6d cli#3 my-dummy-print {'samp.status': 'samp.ok', 'samp.result': {}}\n",
        "{'cli#4': 'msg#5;;cli#hub;;cli#2;;my-dummy-print', 'cli#3': 'msg#4;;cli#hub;;cli#2;;my-dummy-print'}"
       ]
      },
      {
       "output_type": "stream",
       "stream": "stdout",
       "text": [
        "\n"
       ]
      },
      {
       "output_type": "stream",
       "stream": "stdout",
       "text": [
        "Response: 0352d0f9efe568b8668e829864d29d6d cli#3 my-dummy-print {'samp.status': 'samp.ok', 'samp.result': {}}\n",
        "Response:"
       ]
      }
     ],
     "prompt_number": 25
    },
    {
     "cell_type": "code",
     "collapsed": false,
     "input": [],
     "language": "python",
     "metadata": {},
     "outputs": []
    }
   ],
   "metadata": {}
  }
 ]
}