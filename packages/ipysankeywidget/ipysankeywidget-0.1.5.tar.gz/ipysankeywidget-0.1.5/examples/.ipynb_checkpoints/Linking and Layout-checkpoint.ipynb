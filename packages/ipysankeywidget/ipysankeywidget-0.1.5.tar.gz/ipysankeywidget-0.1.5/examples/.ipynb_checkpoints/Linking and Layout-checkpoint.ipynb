{
 "cells": [
  {
   "cell_type": "markdown",
   "metadata": {},
   "source": [
    "# Linking and Layout\n",
    "> [<i class=\"fa fa-2x fa-paper-plane text-info fa-fw\"> </i> Simpler example](../index.ipynb)\n",
    ">\n",
    "> [<i class=\"fa fa-2x fa-space-shuttle text-info fa-fw\"> </i> Advanced examples](./More examples.ipynb)\n",
    ">\n",
    "> [<i class=\"fa fa-2x fa-image text-info fa-fw\"> </i> Exporting Images](./Exporting Images.ipynb)"
   ]
  },
  {
   "cell_type": "code",
   "execution_count": 1,
   "metadata": {
    "collapsed": true
   },
   "outputs": [],
   "source": [
    "from ipysankeywidget import SankeyWidget"
   ]
  },
  {
   "cell_type": "markdown",
   "metadata": {},
   "source": [
    "> <i class=\"fa fa-info-circle fa-2x fa-fw text-primary\"></i> This uses the base [ipywidgets](https://github.com/ipython/ipywidgets) for layout and data, but you can use any widgets!"
   ]
  },
  {
   "cell_type": "code",
   "execution_count": 2,
   "metadata": {
    "collapsed": true
   },
   "outputs": [],
   "source": [
    "from ipywidgets import (\n",
    "    Box,\n",
    "    HBox,\n",
    "    FloatSlider,\n",
    ")"
   ]
  },
  {
   "cell_type": "code",
   "execution_count": 3,
   "metadata": {
    "collapsed": true
   },
   "outputs": [],
   "source": [
    "links = [\n",
    "    {'source': 'start', 'target': 'A', 'value': 2},\n",
    "    {'source': 'A', 'target': 'B', 'value': 2},\n",
    "    {'source': 'B', 'target': 'start', 'value': 0.2},\n",
    "    {'source': 'C', 'target': 'A', 'value': 2},\n",
    "    {'source': 'A', 'target': 'C', 'value': 2},\n",
    "]"
   ]
  },
  {
   "cell_type": "code",
   "execution_count": 4,
   "metadata": {
    "collapsed": true
   },
   "outputs": [],
   "source": [
    "sankey = SankeyWidget(value=dict(links=links))\n",
    "sankey"
   ]
  },
  {
   "cell_type": "markdown",
   "metadata": {},
   "source": [
    "> <i class=\"fa fa-gears fa-2x fa-fw text-info\"></i> A convenience factory function"
   ]
  },
  {
   "cell_type": "code",
   "execution_count": 8,
   "metadata": {
    "collapsed": true
   },
   "outputs": [],
   "source": [
    "def slider(link, i, sankey):\n",
    "    value = FloatSlider(description=\"{source} → {target}\".format(**link),\n",
    "                        value=link['value'])\n",
    "\n",
    "    def _change(change):\n",
    "        sankey.value[\"links\"][i][\"value\"] = value.value\n",
    "        sankey.send_state()\n",
    "    \n",
    "    value.observe(_change)\n",
    "    \n",
    "    return value"
   ]
  },
  {
   "cell_type": "markdown",
   "metadata": {},
   "source": [
    "Build up a slider per link to control the value:"
   ]
  },
  {
   "cell_type": "code",
   "execution_count": 9,
   "metadata": {
    "collapsed": false
   },
   "outputs": [
    {
     "data": {
      "text/plain": [
       "[<ipywidgets.widgets.widget_float.FloatSlider at 0x7f635e43a2b0>,\n",
       " <ipywidgets.widgets.widget_float.FloatSlider at 0x7f635ec9cf28>,\n",
       " <ipywidgets.widgets.widget_float.FloatSlider at 0x7f635e43a5c0>,\n",
       " <ipywidgets.widgets.widget_float.FloatSlider at 0x7f635e43a630>,\n",
       " <ipywidgets.widgets.widget_float.FloatSlider at 0x7f635e43a400>]"
      ]
     },
     "execution_count": 9,
     "metadata": {},
     "output_type": "execute_result"
    }
   ],
   "source": [
    "sliders = [slider(link, i, sankey) for i, link in enumerate(links)]\n",
    "sliders"
   ]
  },
  {
   "cell_type": "code",
   "execution_count": 10,
   "metadata": {
    "collapsed": false
   },
   "outputs": [],
   "source": [
    "box = HBox(children=[sankey, Box(children=sliders)])\n",
    "box"
   ]
  },
  {
   "cell_type": "code",
   "execution_count": null,
   "metadata": {
    "collapsed": true
   },
   "outputs": [],
   "source": []
  }
 ],
 "metadata": {
  "kernelspec": {
   "display_name": "Python 3",
   "language": "python",
   "name": "python3"
  },
  "language_info": {
   "codemirror_mode": {
    "name": "ipython",
    "version": 3
   },
   "file_extension": ".py",
   "mimetype": "text/x-python",
   "name": "python",
   "nbconvert_exporter": "python",
   "pygments_lexer": "ipython3",
   "version": "3.5.1"
  },
  "widgets": {
   "state": {
    "0233b0466af14410a6991edbfc86c0b8": {
     "views": []
    },
    "0b97231173bb479c87141bb7dd573cb2": {
     "views": []
    },
    "138b429ee2b7487c8f86b63b46bfa7bd": {
     "views": []
    },
    "1b649cbf5eac41fcaa2b6081c0ef7945": {
     "views": []
    },
    "1df7b71e4a614e65867bd145119536ee": {
     "views": []
    },
    "326619460cee4409828b7456789895ee": {
     "views": []
    },
    "3717bc76815644b7b2be430dfc832085": {
     "views": []
    },
    "43d38b1d6d234305a69f1055e7443428": {
     "views": [
      {
       "cell_index": 10
      }
     ]
    },
    "4413133cd3054936a0a1be1070643866": {
     "views": []
    },
    "46ede53d9bd44a3592cc047a768b4e6c": {
     "views": []
    },
    "4d4dbf354511458bb2d221d50ad99507": {
     "views": []
    },
    "4df5a9d47aaa47daa78eff916b1544d5": {
     "views": []
    },
    "55afedb2de034b0ebf764bdd92327025": {
     "views": []
    },
    "56648dcb20704f8289dd5a062eda4459": {
     "views": []
    },
    "67669c8e870343f9ac1e7727544bcbb0": {
     "views": []
    },
    "70a58d7173fa495d95e85483680b11ed": {
     "views": []
    },
    "76231a01cdf5432a93e315708111a6c5": {
     "views": []
    },
    "7801c6b81a26477b9c56f03495eefd25": {
     "views": [
      {
       "cell_index": 5
      }
     ]
    },
    "7d712b8e2df54990aef09afe73d918e3": {
     "views": []
    },
    "81e4252f60654aa0917fb60a01f28990": {
     "views": []
    },
    "9abb84871d6e44afa17bddd4008ecc33": {
     "views": []
    },
    "a0995c6bbe76493f8f2cf5ce2e0e2aa8": {
     "views": []
    },
    "b788828f31b9424d90319194025393fc": {
     "views": []
    },
    "d8dac670aa0c4d19be0d312c40bdfb46": {
     "views": []
    },
    "d9b193eec2a84c62b77c3aa2f0a2ea23": {
     "views": []
    },
    "d9d0f5b998eb42b6bd601414a571f40d": {
     "views": []
    },
    "e50bb5acdc364c0480e743695dc7be6b": {
     "views": []
    },
    "f255ad7d13e141dca76c526665df9800": {
     "views": []
    },
    "fc863db01235473aad32db04b2938acc": {
     "views": []
    },
    "fec1611f50ec4ce19412e2716749fd15": {
     "views": []
    }
   },
   "version": "1.1.2"
  }
 },
 "nbformat": 4,
 "nbformat_minor": 0
}
