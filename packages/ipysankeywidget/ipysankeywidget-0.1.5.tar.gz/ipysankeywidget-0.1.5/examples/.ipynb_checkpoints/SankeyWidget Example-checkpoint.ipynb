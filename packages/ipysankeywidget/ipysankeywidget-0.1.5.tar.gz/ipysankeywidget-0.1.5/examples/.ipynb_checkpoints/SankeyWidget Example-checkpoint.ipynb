{
 "cells": [
  {
   "cell_type": "markdown",
   "metadata": {},
   "source": [
    "# SankeyWidget\n",
    "\n",
    "> [<i class=\"fa fa-2x fa-space-shuttle text-info fa-fw\"> </i> Advanced examples](./More examples.ipynb)\n",
    ">\n",
    "> [<i class=\"fa fa-2x fa-link text-info fa-fw\"> </i> Linking and Layout](./Linking and Layout.ipynb)\n",
    ">\n",
    "> [<i class=\"fa fa-2x fa-image text-info fa-fw\"> </i> Exporting Images](./Exporting Images.ipynb)"
   ]
  },
  {
   "cell_type": "markdown",
   "metadata": {},
   "source": [
    "> <i class=\"fa fa-info-circle fa-2x text-primary\"></i> Execute each of these cells in order, such as with <label class=\"label label-default\">Shift+Enter</label>"
   ]
  },
  {
   "cell_type": "markdown",
   "metadata": {},
   "source": [
    "First, load `SankeyWidget`:"
   ]
  },
  {
   "cell_type": "code",
   "execution_count": 1,
   "metadata": {
    "collapsed": false
   },
   "outputs": [],
   "source": [
    "from ipysankeywidget import SankeyWidget"
   ]
  },
  {
   "cell_type": "markdown",
   "metadata": {},
   "source": [
    "Then, create an instance of `SankeyWidget`:"
   ]
  },
  {
   "cell_type": "code",
   "execution_count": 60,
   "metadata": {
    "collapsed": false
   },
   "outputs": [],
   "source": [
    "links = [\n",
    "    {'source': 'start', 'target': 'A', 'value': 2},\n",
    "    {'source': 'A', 'target': 'B', 'value': 2},\n",
    "    {'source': 'B', 'target': 'start', 'value': 0.2},\n",
    "    {'source': 'C', 'target': 'A', 'value': 2},\n",
    "    {'source': 'A', 'target': 'C', 'value': 2},\n",
    "]\n",
    "nodes = [\n",
    "    {'id': 'start', 'forceY': 0.1}\n",
    "]\n",
    "overrideLinks = {\n",
    "    'C-__C_A_2-undefined': {'r0': 40, 'r1': 40}\n",
    "}"
   ]
  },
  {
   "cell_type": "code",
   "execution_count": 61,
   "metadata": {
    "collapsed": false
   },
   "outputs": [],
   "source": [
    "nbsankeyExample = SankeyWidget(value={'links': links, 'nodes': nodes, 'overrideLinks': overrideLinks},\n",
    "                               width=400, height=200, margins=dict(top=0, bottom=0))"
   ]
  },
  {
   "cell_type": "markdown",
   "metadata": {},
   "source": [
    "Display the widget:"
   ]
  },
  {
   "cell_type": "code",
   "execution_count": 63,
   "metadata": {
    "collapsed": false
   },
   "outputs": [],
   "source": [
    "nbsankeyExample"
   ]
  },
  {
   "cell_type": "markdown",
   "metadata": {},
   "source": [
    "> <i class=\"fa fa-image fa-2x\"></i> You should see a simple Sankey diagram with 4 nodes and 5 flows"
   ]
  },
  {
   "cell_type": "markdown",
   "metadata": {},
   "source": [
    "Now, you can update the `value`:"
   ]
  },
  {
   "cell_type": "code",
   "execution_count": null,
   "metadata": {
    "collapsed": false
   },
   "outputs": [],
   "source": [
    "nbsankeyExample.value['links'][0]['value'] = 1\n",
    "nbsankeyExample.send_state()"
   ]
  },
  {
   "cell_type": "markdown",
   "metadata": {},
   "source": [
    "><i class=\"fa fa-image fa-2x\"></i> You should see the diagram change."
   ]
  }
 ],
 "metadata": {
  "hide_input": true,
  "kernelspec": {
   "display_name": "Python 3",
   "language": "python",
   "name": "python3"
  },
  "language_info": {
   "codemirror_mode": {
    "name": "ipython",
    "version": 3
   },
   "file_extension": ".py",
   "mimetype": "text/x-python",
   "name": "python",
   "nbconvert_exporter": "python",
   "pygments_lexer": "ipython3",
   "version": "3.5.1"
  },
  "widgets": {
   "state": {
    "00376dea70774b1bb9deb55f18fcd31a": {
     "views": []
    },
    "088f50f44c7b481b8cf6e8441f3b6f79": {
     "views": []
    },
    "09e68f72d11040b5a2f41566a31c77f3": {
     "views": []
    },
    "0a3be3e117194528921b488ac27957c1": {
     "views": []
    },
    "11f80c6aa1d34a4fb6798b6f31fa8977": {
     "views": []
    },
    "1eb68a2afcc342008b52107ba4ea40b5": {
     "views": []
    },
    "1fba3789b6b7424ca2d6e2a1cd669e42": {
     "views": []
    },
    "23c03c6f55c048d990c1157a745d2ad4": {
     "views": []
    },
    "2d14f5a6ffef4c37a7c0b4cc2e7120c6": {
     "views": []
    },
    "2ee02d7ec15c47f3b4bf058837acf19f": {
     "views": []
    },
    "3402c1b750d74c50ba54d49504d8131e": {
     "views": []
    },
    "398d67ef9d4d45af9898ecc4b6345a39": {
     "views": []
    },
    "4b197b7be6034a74a9e2b8e4fc529062": {
     "views": []
    },
    "6b095730227a48f18fdceafd57e08eed": {
     "views": []
    },
    "6ccec357d9ff42f6bbc5458197c5b5cf": {
     "views": []
    },
    "6eec102c56f34244aba269d68f24d478": {
     "views": []
    },
    "77056ad5d2794d7eaf2013eeef3b8698": {
     "views": []
    },
    "7eb94e5bd5d6427999b0e1160a1ac131": {
     "views": []
    },
    "852b5647861343d9a4eedfdc3d67b86d": {
     "views": []
    },
    "87205df57a9b4d8daa4d7e80414bf73b": {
     "views": [
      {
       "cell_index": 8
      }
     ]
    },
    "87873a82975d44bdbf35cb32d7d8a640": {
     "views": []
    },
    "91c699365e074e118ec0f4da3422aad0": {
     "views": []
    },
    "96bf6cf36fc14b7b9985d3b6f766f660": {
     "views": []
    },
    "9dacea2668944533b4b60cf84964665e": {
     "views": []
    },
    "9fbf2b2702a148f0b3158991d01c4ed0": {
     "views": []
    },
    "a4dd1a97d33442efad94a36c6bc55336": {
     "views": []
    },
    "b4f36310d1aa48ee80b42fadbe65b50b": {
     "views": []
    },
    "b85c0f023ff84e68be4fa0afa0ebe811": {
     "views": []
    },
    "b90b53d8e893481a8e03d66ddb4405c0": {
     "views": []
    },
    "c94db97fd0d843f987edd3ccc6f89362": {
     "views": []
    },
    "cc576d8f78c447bba6dc7bd657dd086d": {
     "views": []
    },
    "ccc047137d044e9fb096de912aa28d1b": {
     "views": []
    },
    "d2830150a766401b81dc3abc2cd0e3aa": {
     "views": []
    },
    "d9296bc96cb547518246981317e51e57": {
     "views": []
    },
    "dacff2d86c8142f8b65e3bb734824f9b": {
     "views": []
    },
    "e9f6d00eca7c4496b78670d90c210463": {
     "views": [
      {
       "cell_index": 8
      }
     ]
    },
    "ea29ce33f54249998fc131f19d13572c": {
     "views": []
    },
    "ea46a7e5a89f4eb889d891dbead8d29f": {
     "views": []
    },
    "f0d0dbc446e64655acf2be69daf0de9e": {
     "views": []
    },
    "fbef1d2e48ed49b4a04f8b42f68fed8e": {
     "views": []
    }
   },
   "version": "1.1.2"
  }
 },
 "nbformat": 4,
 "nbformat_minor": 0
}
