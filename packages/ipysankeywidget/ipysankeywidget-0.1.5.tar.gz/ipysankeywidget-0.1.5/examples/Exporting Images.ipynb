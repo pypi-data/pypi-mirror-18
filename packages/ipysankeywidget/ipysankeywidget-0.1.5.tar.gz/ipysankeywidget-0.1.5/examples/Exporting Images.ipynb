{
 "cells": [
  {
   "cell_type": "markdown",
   "metadata": {},
   "source": [
    "# Exporting Images\n",
    "\n",
    "> [<i class=\"fa fa-2x fa-paper-plane text-info fa-fw\"> </i> Simpler example](../index.ipynb)\n",
    ">\n",
    "> [<i class=\"fa fa-2x fa-space-shuttle text-info fa-fw\"> </i> Advanced examples](./More examples.ipynb)\n",
    ">\n",
    "> [<i class=\"fa fa-2x fa-link text-info fa-fw\"> </i> Linking and Layout](./Linking and Layout.ipynb)\n",
    "\n",
    "Any `SankeyWidget` can be exported as either an raster (PNG) or vector (SVG) image."
   ]
  },
  {
   "cell_type": "code",
   "execution_count": 1,
   "metadata": {
    "collapsed": true
   },
   "outputs": [],
   "source": [
    "from ipysankeywidget import SankeyWidget"
   ]
  },
  {
   "cell_type": "code",
   "execution_count": 2,
   "metadata": {
    "collapsed": true
   },
   "outputs": [],
   "source": [
    "links = [\n",
    "    {'source': 'start', 'target': 'A', 'value': 2},\n",
    "    {'source': 'A', 'target': 'B', 'value': 2},\n",
    "    {'source': 'B', 'target': 'start', 'value': 0.2},\n",
    "    {'source': 'C', 'target': 'A', 'value': 2},\n",
    "    {'source': 'A', 'target': 'C', 'value': 2},\n",
    "]"
   ]
  },
  {
   "cell_type": "code",
   "execution_count": 3,
   "metadata": {
    "collapsed": false
   },
   "outputs": [],
   "source": [
    "nbsankeyExample = SankeyWidget(value={'links': links}, width=400, height=200,\n",
    "                               margins=dict(top=0, bottom=0))"
   ]
  },
  {
   "cell_type": "code",
   "execution_count": 4,
   "metadata": {
    "collapsed": true
   },
   "outputs": [],
   "source": [
    "nbsankeyExample"
   ]
  },
  {
   "cell_type": "markdown",
   "metadata": {},
   "source": [
    "You can use `IPython.display` classes to ensure embedded versions of your diagram will persist in your notebook, even without JavaScript!"
   ]
  },
  {
   "cell_type": "code",
   "execution_count": 5,
   "metadata": {
    "collapsed": true
   },
   "outputs": [],
   "source": [
    "from IPython.display import (\n",
    "    Image,\n",
    "    SVG\n",
    ")"
   ]
  },
  {
   "cell_type": "code",
   "execution_count": 6,
   "metadata": {
    "collapsed": false
   },
   "outputs": [
    {
     "data": {
      "image/png": "[encoded data removed]",
      "text/plain": [
       "<IPython.core.display.Image object>"
      ]
     },
     "execution_count": 6,
     "metadata": {},
     "output_type": "execute_result"
    }
   ],
   "source": [
    "Image(nbsankeyExample.png)"
   ]
  },
  {
   "cell_type": "code",
   "execution_count": 7,
   "metadata": {
    "collapsed": false
   },
   "outputs": [
    {
     "data": {
      "image/svg+xml": [
       "<svg height=\"200\" style=\"font-family: &quot;Helvetica Neue&quot;,Helvetica,Arial,sans-serif;\" viewBox=\"0 0 400 200\" width=\"400\" xmlns=\"http://www.w3.org/2000/svg\"><g class=\"sankey\" transform=\"translate(100,0)\"><g class=\"groups\"/><g class=\"links\"><path class=\"link\" d=\"M199.99999999999997,20 A8.225806451612904 8.225806451612904 1.5707963267948966 0 1 208.2258064516129,28.225806451612904 L208.2258064516129,117.29390681003584 A8.225806451612904 8.225806451612904 1.5707963267948966 0 1 199.99999999999997,125.51971326164873 L199.99999999999997,122.29390681003584 A5 5 1.5707963267948966 0 0 204.99999999999997,117.29390681003584 L204.99999999999997,28.225806451612904 A5 5 1.5707963267948966 0 0 199.99999999999997,23.225806451612904 Z\" style=\"fill: rgb(31, 119, 180);\"><title>B → start\n",
       "200m</title></path><path class=\"link\" d=\"M85.48387096774192,114.51612903225806 A255.69134334274827 255.69134334274827 0.08308834223097827 0 1 106.70440452601753,115.39822604371386 L179.0471850635754,121.42293834987669 A252.46553689113534 252.46553689113534 0.08308834223097827 0 0 199.99999999999997,122.29390681003584 L199.99999999999997,125.51971326164873 A255.69134334274827 255.69134334274827 0.08308834223097827 0 1 178.77946644172437,124.63761625019293 L106.43668590416652,118.61290394403011 A252.46553689113534 252.46553689113534 0.08308834223097827 0 0 85.48387096774192,117.74193548387096 Z\" style=\"fill: rgb(31, 119, 180);\"><title>B → start\n",
       "200m</title></path><path class=\"link\" d=\"M0,176.7741935483871 A25.331940498077877 25.331940498077877 0.7758040220488237 0 0 17.73971118204872,169.52566690322024 L65.48515894897703,122.68769369018362 A28.55774694969078 28.55774694969078 0.7758040220488237 0 1 85.48387096774192,114.51612903225806 L85.48387096774192,117.74193548387096 A25.331940498077877 25.331940498077877 0.7758040220488237 0 0 67.74415978569321,124.99046212903782 L19.998712018764895,171.82843534207447 A28.55774694969078 28.55774694969078 0.7758040220488237 0 1 0,180.00000000000003 Z\" style=\"fill: rgb(31, 119, 180);\"><title>B → start\n",
       "200m</title></path><path class=\"link\" d=\"M0,176.7741935483871 A5 5 1.5707963267948966 0 1 -5,171.7741935483871 L-5,28.225806451612904 A5 5 1.5707963267948966 0 1 0,23.225806451612904 L0,20 A8.225806451612904 8.225806451612904 1.5707963267948966 0 0 -8.225806451612904,28.225806451612904 L-8.225806451612904,171.7741935483871 A8.225806451612904 8.225806451612904 1.5707963267948966 0 0 0,180.00000000000003 Z\" style=\"fill: rgb(31, 119, 180);\"><title>B → start\n",
       "200m</title></path><path class=\"link\" d=\"M0,19.999999999999996 A0 0 0 0 0 0,19.999999999999996 L85.48387096774192,19.999999999999996 A0 0 0 0 0 85.48387096774192,19.999999999999996 L85.48387096774192,52.258064516129025 A0 0 0 0 0 85.48387096774192,52.258064516129025 L0,52.258064516129025 A0 0 0 0 0 0,52.258064516129025 Z\" style=\"fill: rgb(31, 119, 180);\"><title>start → A\n",
       "2.00</title></path><path class=\"link\" d=\"M85.48387096774192,19.999999999999996 A0 0 0 0 0 85.48387096774192,19.999999999999996 L199.99999999999997,19.999999999999996 A0 0 0 0 0 199.99999999999997,19.999999999999996 L199.99999999999997,52.258064516129025 A0 0 0 0 0 199.99999999999997,52.258064516129025 L85.48387096774192,52.258064516129025 A0 0 0 0 0 85.48387096774192,52.258064516129025 Z\" style=\"fill: rgb(31, 119, 180);\"><title>A → B\n",
       "2.00</title></path><path class=\"link\" d=\"M85.48387096774192,52.25806451612904 A144.91825231653542 144.91825231653542 0.16545226735194007 0 1 109.35168090604165,54.23707273494222 L181.44504293248062,66.27512899808914 A112.66018780040639 112.66018780040639 0.16545226735194007 0 0 199.99999999999997,67.81362007168458 L199.99999999999997,100.0716845878136 A144.91825231653542 144.91825231653542 0.16545226735194007 0 1 176.13219006170024,98.09267636900043 L104.03882803526128,86.0546201058535 A112.66018780040639 112.66018780040639 0.16545226735194007 0 0 85.48387096774192,84.51612903225806 Z\" style=\"fill: rgb(31, 119, 180);\"><title>A → C\n",
       "2.00</title></path><path class=\"link\" d=\"M199.99999999999997,67.81362007168458 A37.25806451612903 37.25806451612903 1.5707963267948966 0 1 237.258064516129,105.0716845878136 L237.258064516129,142.74193548387098 A37.25806451612903 37.25806451612903 1.5707963267948966 0 1 199.99999999999997,180 L199.99999999999997,147.74193548387098 A5 5 1.5707963267948966 0 0 204.99999999999997,142.74193548387098 L204.99999999999997,105.0716845878136 A5 5 1.5707963267948966 0 0 199.99999999999997,100.0716845878136 Z\" style=\"fill: rgb(31, 119, 180);\"><title>C → A\n",
       "2.00</title></path><path class=\"link\" d=\"M85.48387096774192,147.74193548387098 A0 0 0 0 0 85.48387096774192,147.74193548387098 L199.99999999999997,147.74193548387098 A0 0 0 0 0 199.99999999999997,147.74193548387098 L199.99999999999997,180 A0 0 0 0 0 199.99999999999997,180 L85.48387096774192,180 A0 0 0 0 0 85.48387096774192,180 Z\" style=\"fill: rgb(31, 119, 180);\"><title>C → A\n",
       "2.00</title></path><path class=\"link\" d=\"M85.48387096774192,147.74193548387098 A5 5 1.5707963267948966 0 1 80.48387096774192,142.74193548387098 L80.48387096774192,89.51612903225806 A5 5 1.5707963267948966 0 1 85.48387096774192,84.51612903225806 L85.48387096774192,52.25806451612904 A37.25806451612903 37.25806451612903 1.5707963267948966 0 0 48.2258064516129,89.51612903225806 L48.2258064516129,142.74193548387098 A37.25806451612903 37.25806451612903 1.5707963267948966 0 0 85.48387096774192,180 Z\" style=\"fill: rgb(31, 119, 180);\"><title>C → A\n",
       "2.00</title></path></g><g class=\"nodes\"><g class=\"node node-style-default\" style=\"display: inline;\" transform=\"translate(0,20)\"><title>start</title><text dy=\".35em\" style=\"opacity: 1;\" text-anchor=\"start\" transform=\"translate(-4,-10)\">start</text><line style=\"stroke: rgb(0, 0, 0); stroke-width: 1px;\" x1=\"0\" x2=\"0\" y1=\"-5\" y2=\"32.25806451612903\"/><rect height=\"37.25806451612903\" style=\"fill: none; visibility: hidden; pointer-events: all;\" width=\"10\" x=\"-5\" y=\"-5\"/></g><g class=\"node node-style-default\" style=\"display: inline;\" transform=\"translate(85.48387096774192,20)\"><title>A</title><text dy=\".35em\" style=\"opacity: 1;\" text-anchor=\"start\" transform=\"translate(-4,-10)\">A</text><line style=\"stroke: rgb(0, 0, 0); stroke-width: 1px;\" x1=\"0\" x2=\"0\" y1=\"-5\" y2=\"64.51612903225806\"/><rect height=\"69.51612903225806\" style=\"fill: none; visibility: hidden; pointer-events: all;\" width=\"10\" x=\"-5\" y=\"-5\"/></g><g class=\"node node-style-default\" style=\"display: inline;\" transform=\"translate(199.99999999999997,20)\"><title>B</title><text dy=\".35em\" style=\"opacity: 1;\" text-anchor=\"start\" transform=\"translate(-4,-10)\">B</text><line style=\"stroke: rgb(0, 0, 0); stroke-width: 1px;\" x1=\"0\" x2=\"0\" y1=\"-5\" y2=\"32.25806451612903\"/><rect height=\"37.25806451612903\" style=\"fill: none; visibility: hidden; pointer-events: all;\" width=\"10\" x=\"-5\" y=\"-5\"/></g><g class=\"node node-style-default\" style=\"display: inline;\" transform=\"translate(199.99999999999997,67.81362007168458)\"><title>C</title><text dy=\".35em\" style=\"opacity: 1;\" text-anchor=\"start\" transform=\"translate(4,16.129032258064516)\">C</text><line style=\"stroke: rgb(0, 0, 0); stroke-width: 1px;\" x1=\"0\" x2=\"0\" y1=\"0\" y2=\"32.25806451612903\"/><rect height=\"37.25806451612903\" style=\"fill: none; visibility: hidden; pointer-events: all;\" width=\"10\" x=\"-5\" y=\"-5\"/></g><g class=\"node node-style-default\" style=\"display: none;\" transform=\"translate(199.99999999999997,122.29390681003584)\"><title/><text dy=\".35em\" style=\"opacity: 1;\" text-anchor=\"start\" transform=\"translate(-4,-10)\"/><line style=\"stroke: rgb(0, 0, 0); stroke-width: 1px;\" x1=\"0\" x2=\"0\" y1=\"-5\" y2=\"3.2258064516129035\"/><rect height=\"8.225806451612904\" style=\"fill: none; visibility: hidden; pointer-events: all;\" width=\"10\" x=\"-5\" y=\"-5\"/></g><g class=\"node node-style-default\" style=\"display: none;\" transform=\"translate(85.48387096774192,114.51612903225806)\"><title/><text dy=\".35em\" style=\"opacity: 1;\" text-anchor=\"start\" transform=\"translate(-4,-10)\"/><line style=\"stroke: rgb(0, 0, 0); stroke-width: 1px;\" x1=\"0\" x2=\"0\" y1=\"-5\" y2=\"3.2258064516129035\"/><rect height=\"8.225806451612904\" style=\"fill: none; visibility: hidden; pointer-events: all;\" width=\"10\" x=\"-5\" y=\"-5\"/></g><g class=\"node node-style-default\" style=\"display: none;\" transform=\"translate(0,176.7741935483871)\"><title/><text dy=\".35em\" style=\"opacity: 1;\" text-anchor=\"start\" transform=\"translate(-4,-10)\"/><line style=\"stroke: rgb(0, 0, 0); stroke-width: 1px;\" x1=\"0\" x2=\"0\" y1=\"-5\" y2=\"3.2258064516129035\"/><rect height=\"8.225806451612904\" style=\"fill: none; visibility: hidden; pointer-events: all;\" width=\"10\" x=\"-5\" y=\"-5\"/></g><g class=\"node node-style-default\" style=\"display: none;\" transform=\"translate(199.99999999999997,147.74193548387098)\"><title/><text dy=\".35em\" style=\"opacity: 1;\" text-anchor=\"start\" transform=\"translate(-4,-10)\"/><line style=\"stroke: rgb(0, 0, 0); stroke-width: 1px;\" x1=\"0\" x2=\"0\" y1=\"-5\" y2=\"32.25806451612903\"/><rect height=\"37.25806451612903\" style=\"fill: none; visibility: hidden; pointer-events: all;\" width=\"10\" x=\"-5\" y=\"-5\"/></g><g class=\"node node-style-default\" style=\"display: none;\" transform=\"translate(85.48387096774192,147.74193548387098)\"><title/><text dy=\".35em\" style=\"opacity: 1;\" text-anchor=\"start\" transform=\"translate(-4,-10)\"/><line style=\"stroke: rgb(0, 0, 0); stroke-width: 1px;\" x1=\"0\" x2=\"0\" y1=\"-5\" y2=\"32.25806451612903\"/><rect height=\"37.25806451612903\" style=\"fill: none; visibility: hidden; pointer-events: all;\" width=\"10\" x=\"-5\" y=\"-5\"/></g></g><g class=\"slice-titles\" transform=\"translate(100,0)\"/></g></svg>"
      ],
      "text/plain": [
       "<IPython.core.display.SVG object>"
      ]
     },
     "execution_count": 7,
     "metadata": {},
     "output_type": "execute_result"
    }
   ],
   "source": [
    "SVG(nbsankeyExample.svg)"
   ]
  }
 ],
 "metadata": {
  "anaconda-cloud": {},
  "kernelspec": {
   "display_name": "Python [default]",
   "language": "python",
   "name": "python3"
  },
  "language_info": {
   "codemirror_mode": {
    "name": "ipython",
    "version": 3
   },
   "file_extension": ".py",
   "mimetype": "text/x-python",
   "name": "python",
   "nbconvert_exporter": "python",
   "pygments_lexer": "ipython3",
   "version": "3.5.2"
  },
  "widgets": {
   "state": {
    "95974dc1a3e74a4a8c4375d6f54d73d5": {
     "views": [
      {
       "cell_index": 4
      }
     ]
    }
   },
   "version": "1.2.0"
  }
 },
 "nbformat": 4,
 "nbformat_minor": 0
}
