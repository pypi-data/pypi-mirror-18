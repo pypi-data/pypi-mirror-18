{
 "cells": [
  {
   "cell_type": "markdown",
   "metadata": {},
   "source": [
    "# More examples\n",
    "> [<i class=\"fa fa-2x fa-paper-plane text-info fa-fw\"> </i> Simpler example](./SankeyWidget Example.ipynb)\n",
    ">\n",
    "> [<i class=\"fa fa-2x fa-link text-info fa-fw\"> </i> Linking and Layout](./Linking and Layout.ipynb)"
   ]
  },
  {
   "cell_type": "code",
   "execution_count": null,
   "metadata": {
    "collapsed": false
   },
   "outputs": [],
   "source": [
    "from ipysankeywidget import SankeyWidget"
   ]
  },
  {
   "cell_type": "markdown",
   "metadata": {},
   "source": [
    "> <i class=\"fa fa-gears fa-2x fa-fw text-info\"></i> A convenience factory function"
   ]
  },
  {
   "cell_type": "code",
   "execution_count": null,
   "metadata": {
    "collapsed": true
   },
   "outputs": [],
   "source": [
    "def sankey(width=300, margin_top=10, **value):\n",
    "    \"\"\"Show SankeyWidget with default values for size and margins\"\"\"\n",
    "    return SankeyWidget(value=value, width=str(width), height=200,\n",
    "                        margins=dict(top=margin_top, bottom=0, left=30, right=60))"
   ]
  },
  {
   "cell_type": "markdown",
   "metadata": {},
   "source": [
    "## Rank assignment"
   ]
  },
  {
   "cell_type": "markdown",
   "metadata": {},
   "source": [
    "### Rank sets"
   ]
  },
  {
   "cell_type": "markdown",
   "metadata": {},
   "source": [
    "You can adjust the left-right placement of nodes by putting them in rank sets: all nodes in the same set end up with the same rank."
   ]
  },
  {
   "cell_type": "code",
   "execution_count": null,
   "metadata": {
    "collapsed": false
   },
   "outputs": [],
   "source": [
    "links = [\n",
    "    {'source': 'A', 'target': 'B', 'value': 1},\n",
    "    {'source': 'B', 'target': 'C', 'value': 1},\n",
    "    {'source': 'A', 'target': 'D', 'value': 1},\n",
    "]\n",
    "sankey(links=links)"
   ]
  },
  {
   "cell_type": "code",
   "execution_count": null,
   "metadata": {
    "collapsed": false
   },
   "outputs": [],
   "source": [
    "rank_sets = [\n",
    "    { 'type': 'same', 'nodes': ['C', 'D'] }\n",
    "]\n",
    "sankey(links=links, rankSets=rank_sets)"
   ]
  },
  {
   "cell_type": "code",
   "execution_count": null,
   "metadata": {
    "collapsed": false
   },
   "outputs": [],
   "source": [
    "order = [\n",
    "    ['A'],\n",
    "    ['D', 'B'],\n",
    "    ['C'],\n",
    "]\n",
    "sankey(links=links, order=order)"
   ]
  },
  {
   "cell_type": "code",
   "execution_count": null,
   "metadata": {
    "collapsed": true
   },
   "outputs": [],
   "source": [
    "order = [\n",
    "    [ [   ], ['A'], [],   ],\n",
    "    [ ['B'], [   ], ['D'] ],\n",
    "    [ [   ], ['C'], []    ],\n",
    "]\n",
    "sankey(links=links, order=order)"
   ]
  },
  {
   "cell_type": "markdown",
   "metadata": {},
   "source": [
    "### Reversed nodes"
   ]
  },
  {
   "cell_type": "markdown",
   "metadata": {},
   "source": [
    "Most nodes are assumed to link from left to right, but sometimes there are return links which should be shown from right to left."
   ]
  },
  {
   "cell_type": "code",
   "execution_count": null,
   "metadata": {
    "collapsed": false
   },
   "outputs": [],
   "source": [
    "links = [\n",
    "    {'source': 'A', 'target': 'B', 'value': 1},\n",
    "    {'source': 'B', 'target': 'C', 'value': 1},\n",
    "    {'source': 'C', 'target': 'D', 'value': 1},\n",
    "    {'source': 'A', 'target': 'E', 'value': 0.5},\n",
    "]\n",
    "\n",
    "nodes = [\n",
    "    {'id': 'C', 'direction': 'l'},\n",
    "    {'id': 'D', 'direction': 'l'},\n",
    "]\n",
    "\n",
    "sankey(links=links, nodes=nodes)"
   ]
  },
  {
   "cell_type": "markdown",
   "metadata": {},
   "source": [
    "Variations:"
   ]
  },
  {
   "cell_type": "code",
   "execution_count": null,
   "metadata": {
    "collapsed": true
   },
   "outputs": [],
   "source": [
    "nodes = [\n",
    "    {'id': 'C', 'direction': 'r'},\n",
    "    {'id': 'D', 'direction': 'l'},\n",
    "]\n",
    "sankey(links=links, nodes=nodes)"
   ]
  },
  {
   "cell_type": "code",
   "execution_count": null,
   "metadata": {
    "collapsed": true
   },
   "outputs": [],
   "source": [
    "nodes = [\n",
    "    {'id': 'C', 'direction': 'l'},\n",
    "    {'id': 'D', 'direction': 'r'},\n",
    "]\n",
    "sankey(links=links, nodes=nodes)"
   ]
  },
  {
   "cell_type": "markdown",
   "metadata": {},
   "source": [
    "## Styling"
   ]
  },
  {
   "cell_type": "markdown",
   "metadata": {},
   "source": [
    "By default, the links are coloured according to their type:"
   ]
  },
  {
   "cell_type": "code",
   "execution_count": null,
   "metadata": {
    "collapsed": true
   },
   "outputs": [],
   "source": [
    "links = [\n",
    "    {'source': 'A', 'target': 'B', 'value': 3, 'type': 'x'},\n",
    "    {'source': 'B', 'target': 'C', 'value': 2, 'type': 'y'},\n",
    "    {'source': 'B', 'target': 'D', 'value': 1, 'type': 'z'},\n",
    "]\n",
    "sankey(links=links)"
   ]
  },
  {
   "cell_type": "markdown",
   "metadata": {},
   "source": [
    "You can also set the colours directly:"
   ]
  },
  {
   "cell_type": "code",
   "execution_count": null,
   "metadata": {
    "collapsed": true
   },
   "outputs": [],
   "source": [
    "links = [\n",
    "    {'source': 'A', 'target': 'B', 'value': 3, 'color': 'steelblue'},\n",
    "    {'source': 'B', 'target': 'C', 'value': 2, 'color': '#aaa'},\n",
    "    {'source': 'B', 'target': 'D', 'value': 1, 'color': 'goldenrod'},\n",
    "]\n",
    "sankey(links=links)"
   ]
  },
  {
   "cell_type": "markdown",
   "metadata": {},
   "source": [
    "Process titles default to their ids, but can be overridden. There are also one built-in alternative \"style\" of node:\n",
    "- `process` is drawn with a thicker line"
   ]
  },
  {
   "cell_type": "code",
   "execution_count": null,
   "metadata": {
    "collapsed": false
   },
   "outputs": [],
   "source": [
    "nodes = [\n",
    "    {'id': 'B', 'title': 'Middle node', 'style': 'process' },\n",
    "]\n",
    "sankey(links=links, nodes=nodes)"
   ]
  },
  {
   "cell_type": "markdown",
   "metadata": {},
   "source": [
    "Of course, you can also use CSS to adjust the styling:"
   ]
  },
  {
   "cell_type": "code",
   "execution_count": null,
   "metadata": {
    "collapsed": false
   },
   "outputs": [],
   "source": [
    "%%html\n",
    "<style>\n",
    ".sankey .node {\n",
    "    font-style: italic;\n",
    "}\n",
    "</style>"
   ]
  },
  {
   "cell_type": "markdown",
   "metadata": {},
   "source": [
    "## Aligning link types"
   ]
  },
  {
   "cell_type": "code",
   "execution_count": null,
   "metadata": {
    "collapsed": true
   },
   "outputs": [],
   "source": [
    "links = [\n",
    "    {'source': 'A1', 'target': 'B', 'value': 1.5, 'type': 'x'},\n",
    "    {'source': 'A1', 'target': 'B', 'value': 0.5, 'type': 'y'},\n",
    "    {'source': 'A2', 'target': 'B', 'value': 0.5, 'type': 'x'},\n",
    "    {'source': 'A2', 'target': 'B', 'value': 1.5, 'type': 'y'},\n",
    "    {'source': 'B',  'target': 'C', 'value': 2.0, 'type': 'x'},\n",
    "    {'source': 'B',  'target': 'C', 'value': 2.0, 'type': 'y'},\n",
    "]\n",
    "sankey(links=links, nodes=[])"
   ]
  },
  {
   "cell_type": "code",
   "execution_count": null,
   "metadata": {
    "collapsed": true
   },
   "outputs": [],
   "source": [
    "sankey(links=links, alignLinkTypes=True)"
   ]
  },
  {
   "cell_type": "code",
   "execution_count": null,
   "metadata": {
    "collapsed": true
   },
   "outputs": [],
   "source": [
    "order = [\n",
    "    ['A2', 'A1'],\n",
    "    ['B'],\n",
    "    ['C'],\n",
    "]\n",
    "sankey(links=links, alignLinkTypes=True, order=order)"
   ]
  },
  {
   "cell_type": "markdown",
   "metadata": {},
   "source": [
    "## Dynamic updating"
   ]
  },
  {
   "cell_type": "code",
   "execution_count": null,
   "metadata": {
    "collapsed": false
   },
   "outputs": [],
   "source": [
    "from ipywidgets import Button, VBox\n",
    "\n",
    "links = [\n",
    "    {'source': 'A', 'target': 'B', 'value': 1},\n",
    "    {'source': 'B', 'target': 'C', 'value': 1},\n",
    "    {'source': 'A', 'target': 'D', 'value': 1},\n",
    "]\n",
    "order = [\n",
    "    ['A'],\n",
    "    ['D', 'B'],\n",
    "    ['C'],\n",
    "]\n",
    "s = sankey(links=links, order=order)\n",
    "\n",
    "def swap(x):\n",
    "    global order\n",
    "    order = [list(reversed(o)) for o in order]\n",
    "    s.value = {'links': links, 'order': order}\n",
    "b = Button(description='Swap')\n",
    "b.on_click(swap)\n",
    "\n",
    "VBox([b, s])"
   ]
  },
  {
   "cell_type": "markdown",
   "metadata": {
    "collapsed": true
   },
   "source": [
    "## Node groups"
   ]
  },
  {
   "cell_type": "code",
   "execution_count": null,
   "metadata": {
    "collapsed": true
   },
   "outputs": [],
   "source": [
    "links = [\n",
    "    {'source': 'A', 'target': 'B', 'value': 3, 'type': 'x'},\n",
    "    {'source': 'B', 'target': 'C', 'value': 2, 'type': 'y'},\n",
    "    {'source': 'B', 'target': 'D', 'value': 1, 'type': 'z'},\n",
    "]\n",
    "groups = [\n",
    "    {'id': 'G', 'title': 'Group', 'nodes': ['C', 'D']}\n",
    "]\n",
    "sankey(links=links, nodes=[], groups=groups, margin_top=50)"
   ]
  }
 ],
 "metadata": {
  "anaconda-cloud": {},
  "hide_input": true,
  "kernelspec": {
   "display_name": "Python [default]",
   "language": "python",
   "name": "python3"
  },
  "language_info": {
   "codemirror_mode": {
    "name": "ipython",
    "version": 3
   },
   "file_extension": ".py",
   "mimetype": "text/x-python",
   "name": "python",
   "nbconvert_exporter": "python",
   "pygments_lexer": "ipython3",
   "version": "3.5.2"
  }
 },
 "nbformat": 4,
 "nbformat_minor": 0
}
