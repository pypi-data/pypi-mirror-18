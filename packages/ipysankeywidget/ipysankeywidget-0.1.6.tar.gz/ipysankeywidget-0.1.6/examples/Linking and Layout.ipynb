{
 "cells": [
  {
   "cell_type": "markdown",
   "metadata": {},
   "source": [
    "# Linking and Layout\n",
    "> [<i class=\"fa fa-2x fa-paper-plane text-info fa-fw\"> </i> Simpler example](../index.ipynb)\n",
    ">\n",
    "> [<i class=\"fa fa-2x fa-space-shuttle text-info fa-fw\"> </i> Advanced examples](./More examples.ipynb)\n",
    ">\n",
    "> [<i class=\"fa fa-2x fa-image text-info fa-fw\"> </i> Exporting Images](./Exporting Images.ipynb)"
   ]
  },
  {
   "cell_type": "code",
   "execution_count": 24,
   "metadata": {
    "collapsed": true
   },
   "outputs": [],
   "source": [
    "from ipysankeywidget import SankeyWidget"
   ]
  },
  {
   "cell_type": "markdown",
   "metadata": {},
   "source": [
    "> <i class=\"fa fa-info-circle fa-2x fa-fw text-primary\"></i> This uses the base [ipywidgets](https://github.com/ipython/ipywidgets) for layout and data, but you can use any widgets!"
   ]
  },
  {
   "cell_type": "code",
   "execution_count": 22,
   "metadata": {
    "collapsed": true
   },
   "outputs": [],
   "source": [
    "from ipywidgets import (\n",
    "    Box,\n",
    "    HBox,\n",
    "    FloatSlider,\n",
    ")"
   ]
  },
  {
   "cell_type": "code",
   "execution_count": 2,
   "metadata": {
    "collapsed": true
   },
   "outputs": [],
   "source": [
    "links = [\n",
    "    {'source': 'start', 'target': 'A', 'value': 2},\n",
    "    {'source': 'A', 'target': 'B', 'value': 2},\n",
    "    {'source': 'B', 'target': 'start', 'value': 0.2},\n",
    "    {'source': 'C', 'target': 'A', 'value': 2},\n",
    "    {'source': 'A', 'target': 'C', 'value': 2},\n",
    "]"
   ]
  },
  {
   "cell_type": "code",
   "execution_count": 28,
   "metadata": {
    "collapsed": true
   },
   "outputs": [],
   "source": [
    "sankey = SankeyWidget(value=dict(links=links))\n",
    "sankey"
   ]
  },
  {
   "cell_type": "markdown",
   "metadata": {},
   "source": [
    "> <i class=\"fa fa-gears fa-2x fa-fw text-info\"></i> A convenience factory function"
   ]
  },
  {
   "cell_type": "code",
   "execution_count": 29,
   "metadata": {
    "collapsed": true
   },
   "outputs": [],
   "source": [
    "def slider(link, i, sankey):\n",
    "    value = FloatSlider(description=\"{source} → {target}\".format(**link))\n",
    "\n",
    "    def _change(change):\n",
    "        sankey.value[\"links\"][i][\"value\"] = value.value\n",
    "        sankey.send_state()\n",
    "    \n",
    "    value.observe(_change)\n",
    "    \n",
    "    return value"
   ]
  },
  {
   "cell_type": "markdown",
   "metadata": {},
   "source": [
    "Build up a slider per link to control the value:"
   ]
  },
  {
   "cell_type": "code",
   "execution_count": 32,
   "metadata": {
    "collapsed": false
   },
   "outputs": [
    {
     "data": {
      "text/plain": [
       "[<ipywidgets.widgets.widget_float.FloatSlider at 0x1064adbe0>,\n",
       " <ipywidgets.widgets.widget_float.FloatSlider at 0x1064da438>,\n",
       " <ipywidgets.widgets.widget_float.FloatSlider at 0x1064daa90>,\n",
       " <ipywidgets.widgets.widget_float.FloatSlider at 0x1064dab38>,\n",
       " <ipywidgets.widgets.widget_float.FloatSlider at 0x1064a45f8>]"
      ]
     },
     "execution_count": 32,
     "metadata": {},
     "output_type": "execute_result"
    }
   ],
   "source": [
    "sliders = [slider(link, i, sankey) for i, link in enumerate(links)]\n",
    "sliders"
   ]
  },
  {
   "cell_type": "code",
   "execution_count": 33,
   "metadata": {
    "collapsed": false
   },
   "outputs": [],
   "source": [
    "box = HBox(children=[sankey, Box(children=sliders)])\n",
    "box"
   ]
  }
 ],
 "metadata": {
  "kernelspec": {
   "display_name": "Python 3",
   "language": "python",
   "name": "python3"
  },
  "language_info": {
   "codemirror_mode": {
    "name": "ipython",
    "version": 3
   },
   "file_extension": ".py",
   "mimetype": "text/x-python",
   "name": "python",
   "nbconvert_exporter": "python",
   "pygments_lexer": "ipython3",
   "version": "3.5.1"
  },
  "widgets": {
   "state": {
    "045c3dbf8ae4464bb617921f8121b531": {
     "views": []
    },
    "0654236591e0477c8d536631b7f12ecd": {
     "views": []
    },
    "06aeac1df5f6426d81b90e9661128fb4": {
     "views": []
    },
    "072679125e5b4f14b0035aa0d1ce42d8": {
     "views": []
    },
    "10a4bb94f270402b9090f132fb32ced4": {
     "views": []
    },
    "121f86eaa41046c393f2d9527903752b": {
     "views": []
    },
    "19cf3f7bbcbb46ec813a4f68542e0c9a": {
     "views": []
    },
    "1c2437203a3548ae85877eabddce75d6": {
     "views": [
      {
       "cell_index": 10
      }
     ]
    },
    "1c6d90733cde44639000dd96c084368e": {
     "views": []
    },
    "1efef69ceb174d01abe70bece535da67": {
     "views": []
    },
    "23e97944be064e28b32041d5c53aa942": {
     "views": []
    },
    "2767ad92758c418aa84083a7491ad542": {
     "views": []
    },
    "298c1585706642eea1f3f298aee7869a": {
     "views": []
    },
    "2bc32b09fbcf49619e695a25dd5ee8ff": {
     "views": []
    },
    "2ea84505c50649baa58d39b0aacc51cf": {
     "views": []
    },
    "3128242d46ee42128fd101fff37a5dec": {
     "views": []
    },
    "32345fc88fd7425ba505143c90790f33": {
     "views": []
    },
    "350872223e454a11a6abd713a92280b1": {
     "views": []
    },
    "35959fa97a6c4153a43a7a2997936af9": {
     "views": []
    },
    "35cde16cf4bd4108b534fb796d84960a": {
     "views": []
    },
    "3b9df394e0cf4d1ca148958300fbba19": {
     "views": []
    },
    "3e9367b9d101445aa6ca61c88910da85": {
     "views": []
    },
    "40220584efb6483fa457e0805cbea92a": {
     "views": []
    },
    "41d86ba685ae4fadb5a8809ce5b2a641": {
     "views": []
    },
    "4b1b49cde49e49748f5400ee91577fb0": {
     "views": []
    },
    "4bd0b43ad0d940f6af4cd3d7c9e5942a": {
     "views": []
    },
    "4cd687d563714a47a2c284ec23b6d794": {
     "views": []
    },
    "4d6985d16e43460ba0e08c312d274584": {
     "views": []
    },
    "54989057ab4341db946938fb31c1d320": {
     "views": []
    },
    "55cea94e5d0d491fa1be07d54e7c44cf": {
     "views": []
    },
    "65ce7bd35c9a4330a5f30a767e3194f6": {
     "views": []
    },
    "684e57a26a6f47d29f77065d34b64dd6": {
     "views": []
    },
    "68e156bcf4e24969952bf3196999aa75": {
     "views": []
    },
    "68ef5bd93f1a46f19c8318bf0e0995c9": {
     "views": []
    },
    "695b0c25cc4449fa8d8fc2a41c101700": {
     "views": []
    },
    "6adc83d6c9994ad19a6f7764a2378a63": {
     "views": []
    },
    "763faea423f444e4b2f78e1630fc74f9": {
     "views": []
    },
    "76bda79b3c6c4d8794afce06a9c1921b": {
     "views": []
    },
    "7710b1671add4e8c986c6e7d11f8e97e": {
     "views": []
    },
    "7cf577cdd62548f49af84e4ce6f57863": {
     "views": []
    },
    "7d7f331a0e5843be849b49f7d7d9b34f": {
     "views": []
    },
    "7fb847e694314ee49ead7331012deea2": {
     "views": []
    },
    "8412aa4b1be24cbf9462ff2f378fba27": {
     "views": []
    },
    "8729702a906d499fa653dbaae241f4f2": {
     "views": []
    },
    "8c57e5250f2a40a699ee87d10f243a09": {
     "views": []
    },
    "91b598006c884f4da87e5ca1c2eeff18": {
     "views": []
    },
    "96aa8c76ab4a425d9c7c1912cb6275f8": {
     "views": []
    },
    "9a6190344c794cfd99e42d50b40d197b": {
     "views": []
    },
    "9d1b5fcea24746f8a234e846e20bc3d6": {
     "views": []
    },
    "a1c96003d6a7430cbf4ac2041f867f83": {
     "views": []
    },
    "a430cae588c04137b32cb638ed838a90": {
     "views": []
    },
    "a51349601dc74c7f8ab4e7ba3bd529ee": {
     "views": []
    },
    "a581d25ee58943c8ac019c23ce811467": {
     "views": []
    },
    "a666c86b8c49428db0138b666bb9b6dd": {
     "views": []
    },
    "a81c1640ccd7488290c0409cfe9ccb23": {
     "views": []
    },
    "a98c756041c94d26970f95a492f94cae": {
     "views": []
    },
    "aa4c07b2e4a244d8b3fb99cde1113107": {
     "views": []
    },
    "accdde1256954cf7a07019c719ccdb62": {
     "views": []
    },
    "ad076d8d5b78440b993f90374734fa4f": {
     "views": []
    },
    "ad3690d8380e468c98cc7f481edce95c": {
     "views": []
    },
    "af241de3c25b46babaf71d447e1fd58e": {
     "views": []
    },
    "b96edb049dee43f58a4d8a73a0662ae8": {
     "views": []
    },
    "bbcec21f9fef48b386af835182efd39d": {
     "views": []
    },
    "c0ead472e1904f28880fcfc2d393d458": {
     "views": []
    },
    "c1849ab79318427ba7937eb88dde799c": {
     "views": []
    },
    "c2cef45ff444475f8e92e9b70e4fd162": {
     "views": []
    },
    "c87999dc78604760895b7aabae90c4ca": {
     "views": []
    },
    "cbd495bbdea3455b82dae349b2e12acb": {
     "views": []
    },
    "cc1446ced9bc4090b47bb3b44f956428": {
     "views": []
    },
    "d34a8e4394aa4855a3c0c3bb8f89c0c9": {
     "views": []
    },
    "d35874588dad45a29369a88fbcf2560f": {
     "views": []
    },
    "d35a0de9fef94ead88568dc07cbd1023": {
     "views": []
    },
    "d3e11a716f0545ab95912a62a80e89d5": {
     "views": []
    },
    "d7f7f7cd3d5549389521ed383e5c5d34": {
     "views": []
    },
    "d87407175bfd4c22b07a64f560e45c54": {
     "views": []
    },
    "def4ac3fe8da4d1a880588c174e67152": {
     "views": []
    },
    "e45aa35de3b3474490fd5bb7be2d41e0": {
     "views": []
    },
    "eb2510ea9e7b45c1be7c67f29d4dfc7f": {
     "views": []
    },
    "ec014175307f4b6a82d955a89072a9a4": {
     "views": []
    },
    "ecd167ffd0bb4d7e9187937a7444e40a": {
     "views": []
    },
    "ed04dfde0f1f462f9437d0618e3d31d6": {
     "views": []
    },
    "efb24f4e3e9f44e8922ede7ce5747f86": {
     "views": []
    },
    "f12a35ba373c47439d47c13ce16bb062": {
     "views": []
    },
    "f2b2a6186c2c4d16b4380b56f9f4db4f": {
     "views": []
    },
    "f5ebc4944e414abf81c3c162f8012d44": {
     "views": []
    },
    "fb46362db1f443598e8c1bf7e881c635": {
     "views": []
    },
    "fc6b4530711648a6995b06f36501f2ac": {
     "views": [
      {
       "cell_index": 5
      }
     ]
    },
    "fdbc449033554c449b4d4a73c977b531": {
     "views": []
    }
   },
   "version": "1.1.2"
  }
 },
 "nbformat": 4,
 "nbformat_minor": 0
}
