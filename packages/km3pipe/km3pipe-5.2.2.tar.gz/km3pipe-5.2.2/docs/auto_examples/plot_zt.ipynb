{
  "cells": [
    {
      "execution_count": null,
      "metadata": {
        "collapsed": false
      },
      "cell_type": "code",
      "source": [
        "%matplotlib inline"
      ],
      "outputs": []
    },
    {
      "source": [
        "\n==================\nzt-plots.\n==================\n\nThis example shows how to create a zt-plot of a given DU and event ID.\n\n"
      ],
      "metadata": {},
      "cell_type": "markdown"
    },
    {
      "execution_count": null,
      "metadata": {
        "collapsed": false
      },
      "cell_type": "code",
      "source": [
        "import pandas as pd\nimport matplotlib.pyplot as plt\nimport km3pipe as kp\nimport km3pipe.style\nkm3pipe.style.use('default')\n\n\nDU = 26\nEVENT_ID = 23\nfilename = \"data/km3net_jul13_90m_muatm50T655.km3_v5r1.JTE_r2356.root.0-499.h5\"\ngeometry = kp.Geometry(filename=\"data/km3net_jul13_90m_r1494_corrected.detx\")\n\nall_hits = pd.read_hdf(filename, 'hits')\nhits = all_hits[all_hits.event_id == EVENT_ID].copy()\ngeometry.apply(hits)\n\nfig, ax = plt.subplots()\n\nhits[hits['du'] == DU].plot('time', 'pos_z', style='.', ax=ax)\ntriggered_hits = hits[(hits['du'] == DU) & (hits['triggered'] == True)]\ntriggered_hits.plot('time', 'pos_z', style='.', ax=ax)\n\ntry:\n    ax.legend_.remove()\nexcept AttributeError:\n    pass\nax.set_title(\"zt-plot of event {0} on DU{1}\".format(EVENT_ID, DU))\nax.set_xlabel(\"time [ns]\")\nax.set_ylabel(\"z [m]\")"
      ],
      "outputs": []
    }
  ],
  "nbformat": 4,
  "metadata": {
    "language_info": {
      "version": "3.5.2",
      "pygments_lexer": "ipython3",
      "name": "python",
      "nbconvert_exporter": "python",
      "codemirror_mode": {
        "version": 3,
        "name": "ipython"
      },
      "mimetype": "text/x-python",
      "file_extension": ".py"
    },
    "kernelspec": {
      "language": "python",
      "name": "python3",
      "display_name": "Python 3"
    }
  },
  "nbformat_minor": 0
}