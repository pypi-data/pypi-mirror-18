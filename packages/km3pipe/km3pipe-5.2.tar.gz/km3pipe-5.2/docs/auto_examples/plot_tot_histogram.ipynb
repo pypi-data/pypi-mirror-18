{
  "nbformat_minor": 0, 
  "nbformat": 4, 
  "cells": [
    {
      "execution_count": null, 
      "cell_type": "code", 
      "source": [
        "%matplotlib inline"
      ], 
      "outputs": [], 
      "metadata": {
        "collapsed": false
      }
    }, 
    {
      "source": [
        "\n==================\nToT histogram.\n==================\n\nThis example shows how to create a simple histogram of the PMT signals.\n\n"
      ], 
      "cell_type": "markdown", 
      "metadata": {}
    }, 
    {
      "execution_count": null, 
      "cell_type": "code", 
      "source": [
        "import pandas as pd\nimport matplotlib.pyplot as plt\nimport km3pipe.style\n\n\nfilename = \"data/km3net_jul13_90m_muatm50T655.km3_v5r1.JTE_r2356.root.0-499.h5\"\n\nhits = pd.read_hdf(filename, 'hits')\nhits.hist(\"tot\", bins=254, log=True, edgecolor='none')\nplt.title(\"ToT distribution\")\nplt.xlabel(\"ToT [ns]\")"
      ], 
      "outputs": [], 
      "metadata": {
        "collapsed": false
      }
    }
  ], 
  "metadata": {
    "kernelspec": {
      "display_name": "Python 2", 
      "name": "python2", 
      "language": "python"
    }, 
    "language_info": {
      "mimetype": "text/x-python", 
      "nbconvert_exporter": "python", 
      "name": "python", 
      "file_extension": ".py", 
      "version": "2.7.10", 
      "pygments_lexer": "ipython2", 
      "codemirror_mode": {
        "version": 2, 
        "name": "ipython"
      }
    }
  }
}