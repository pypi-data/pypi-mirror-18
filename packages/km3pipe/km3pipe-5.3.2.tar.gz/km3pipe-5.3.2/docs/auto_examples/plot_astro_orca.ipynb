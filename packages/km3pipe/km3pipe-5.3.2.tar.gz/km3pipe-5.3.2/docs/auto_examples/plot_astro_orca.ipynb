{
  "nbformat_minor": 0,
  "cells": [
    {
      "source": [
        "%matplotlib inline"
      ],
      "cell_type": "code",
      "execution_count": null,
      "metadata": {
        "collapsed": false
      },
      "outputs": []
    },
    {
      "source": [
        "\n================\nOrca Astro Test.\n================\n\nThis example needs Astropy: `pip install astropy`.\n\nTake some events in the detector and transform them\nto galactic coordinates.\n\n"
      ],
      "cell_type": "markdown",
      "metadata": {}
    },
    {
      "source": [
        "from astropy.coordinates import (Angle, Latitude, Longitude, Galactic, # noqa\n                                 EarthLocation, AltAz, SkyCoord)  # noqa\nfrom astropy.units import degree, minute, meter     # noqa\nfrom astropy.time import Time\nimport matplotlib.pyplot as plt\nimport numpy as np\n\nfrom km3pipe.constants import orca_longitude, orca_latitude, orca_height\nimport km3pipe.style\nkm3pipe.style.use('default')\n\n\n# load orca coordinates\norca_loc = EarthLocation.from_geodetic(\n    Longitude(orca_longitude * degree),\n    Latitude(orca_latitude * degree),\n    height=orca_height\n)\norca_frame = AltAz(obstime=Time.now(), location=orca_loc)\n\n# prepare canvases\nfig = plt.figure(figsize=(10, 4))\nax = fig.add_subplot(111, projection='aitoff')\n\n# generate some zenith + azimuth pairs\naz = np.random.rand(100)*360.0 * degree\nalt = (np.random.rand(100)*180.0-90.0) * degree\n\norca_event = SkyCoord(alt=alt, az=az, frame=orca_frame)\norca_event_origin = orca_event.galactic\nax.plot(orca_event_origin.l, orca_event_origin.b, 'o',\n        markersize=10, alpha=0.3, color='k')\nplt.show()"
      ],
      "cell_type": "code",
      "execution_count": null,
      "metadata": {
        "collapsed": false
      },
      "outputs": []
    }
  ],
  "nbformat": 4,
  "metadata": {
    "language_info": {
      "pygments_lexer": "ipython3",
      "name": "python",
      "file_extension": ".py",
      "codemirror_mode": {
        "name": "ipython",
        "version": 3
      },
      "version": "3.5.2",
      "mimetype": "text/x-python",
      "nbconvert_exporter": "python"
    },
    "kernelspec": {
      "name": "python3",
      "display_name": "Python 3",
      "language": "python"
    }
  }
}