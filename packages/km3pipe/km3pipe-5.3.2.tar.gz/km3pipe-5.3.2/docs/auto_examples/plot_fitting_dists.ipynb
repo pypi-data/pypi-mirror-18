{
  "cells": [
    {
      "source": [
        "%matplotlib inline"
      ],
      "outputs": [],
      "execution_count": null,
      "cell_type": "code",
      "metadata": {
        "collapsed": false
      }
    },
    {
      "source": [
        "\n# Fitting Distributions\n\n\nHistograms, PDF fits, Kernel Density.\n\n"
      ],
      "metadata": {},
      "cell_type": "markdown"
    },
    {
      "source": [
        "# Author: Moritz Lotze <mlotze@km3net.de>\n# License: BSD-3\n\nimport matplotlib.pyplot as plt\nimport numpy as np\nimport statsmodels.api as sm\n\nfrom astropy.stats import knuth_bin_width\nfrom scipy.stats import norm\nfrom sklearn.mixture import GaussianMixture\nfrom sklearn.grid_search import GridSearchCV\nfrom sklearn.neighbors import KernelDensity\n\nimport km3pipe.style\nkm3pipe.style.use('default')"
      ],
      "outputs": [],
      "execution_count": null,
      "cell_type": "code",
      "metadata": {
        "collapsed": false
      }
    },
    {
      "source": [
        "First generate some pseudodata: A bimodal gaussian, + noise.\n\n"
      ],
      "metadata": {},
      "cell_type": "markdown"
    },
    {
      "source": [
        "N = 100\nbmg = np.concatenate((np.random.normal(15, 1, 0.3 * N),\n                      np.random.normal(20, 1, 0.7 * N)))\nnoise_bmg = 0.5\ndata = np.random.normal(bmg, noise_bmg)[:, np.newaxis]\n\n# make X axis for plots\nx = np.linspace(5, 35, N+1)"
      ],
      "outputs": [],
      "execution_count": null,
      "cell_type": "code",
      "metadata": {
        "collapsed": false
      }
    },
    {
      "source": [
        "Histograms (nonparametric)\n--------------------------\n\nThe simplest nonparametric density estimation tool is the Histogram.\nChoosing the binning manually can be tedious, however:\n\n15 bins, spaced from ``data.min()`` to ``data.max()``.\n\n"
      ],
      "metadata": {},
      "cell_type": "markdown"
    },
    {
      "source": [
        "plt.hist(data, bins=15, alpha=.5, normed=True)"
      ],
      "outputs": [],
      "execution_count": null,
      "cell_type": "code",
      "metadata": {
        "collapsed": false
      }
    },
    {
      "source": [
        "Auto Binning (recommended)\n~~~~~~~~~~~~~~~~~~~~~~~~~~\n\nUse builtin (numpy's) heuristics to figure out best binning.\n\n"
      ],
      "metadata": {},
      "cell_type": "markdown"
    },
    {
      "source": [
        "plt.hist(data, bins='auto', alpha=.5, normed=True)"
      ],
      "outputs": [],
      "execution_count": null,
      "cell_type": "code",
      "metadata": {
        "collapsed": false
      }
    },
    {
      "source": [
        "Knuth\u2019s rule:\n^^^^^^^^^^^^^\n\nA fixed-width, Bayesian approach to determining the optimal bin\nwidth of a histogram.\n\n"
      ],
      "metadata": {},
      "cell_type": "markdown"
    },
    {
      "source": [
        "width, knuth_binlims = knuth_bin_width(data=data[:, 0], return_bins=True)\n\nplt.hist(data, bins=knuth_binlims, alpha=.5, normed=True)"
      ],
      "outputs": [],
      "execution_count": null,
      "cell_type": "code",
      "metadata": {
        "collapsed": false
      }
    },
    {
      "source": [
        "Bayesian Blocks\n^^^^^^^^^^^^^^^\n\nTODO: Compute optimal segmentation of data with Scargle\u2019s Bayesian Blocks.\nProduces bins of uneven width.\n\n"
      ],
      "metadata": {},
      "cell_type": "markdown"
    },
    {
      "source": [
        "Fit Distribution via Maximum Likelihood\n---------------------------------------\n\nIf we have a hypothesis what the distribution looks like (e.g. gaussian), and want to fit its parameters.\n\nThe nice thing is, you can define your own PDFs in scipy and fit it.\nOr take one from the dozens of pre-defined ones.\n\nHowever, there is no *bimodal* gaussian implemented in scipy yet :/\nIn this case, either define it yourself, or use a GMM (below)\n\n"
      ],
      "metadata": {},
      "cell_type": "markdown"
    },
    {
      "source": [
        "mu, sig = norm.fit(data)\n\nplt.fill(x, norm(mu, sig).pdf(x), alpha=.5, label='Fitted')\nplt.legend()\nprint('Unimodal Gaussian Fit:  Mean {:.4}, stdev {:.4}'.format(mu, sig))\nplt.hist(data, bins='auto', alpha=.3, normed=True)"
      ],
      "outputs": [],
      "execution_count": null,
      "cell_type": "code",
      "metadata": {
        "collapsed": false
      }
    },
    {
      "source": [
        "As expected, the result is rather silly, since we are only fitting *one*\nof the two gaussians.\n\n"
      ],
      "metadata": {},
      "cell_type": "markdown"
    },
    {
      "source": [
        "Fit Gaussian Mixture Model (GMM)\n~~~~~~~~~~~~~~~~~~~~~~~~~~~~~~~~\n\nAssuming the data is the sum of one or more gaussians.\nEasily handles multidimensional case as well.\n\n"
      ],
      "metadata": {},
      "cell_type": "markdown"
    },
    {
      "source": [
        "gmm = GaussianMixture(n_components=2, covariance_type='spherical')\ngmm.fit(data)\n\nmu1 = gmm.means_[0, 0]\nmu2 = gmm.means_[1, 0]\nsig1, sig2 = gmm.covariances_\nwgt1, wgt2 = gmm.weights_\nprint('''Fit:\n      1: Mean {:.4}, stdev {:.4}, weight {:.4}\n      2: Mean {:.4}, stdev {:.4}, weight {:.4}\n'''.format(mu1, sig1, wgt1, mu2, sig2, wgt2))\n\nplt.hist(data, bins='auto', alpha=.3, normed=True)\nplt.vlines((mu1, mu2), ymin=0, ymax=0.35, label='Fitted Means')\nplt.legend()\nplt.title('Gaussian Mixture Model')"
      ],
      "outputs": [],
      "execution_count": null,
      "cell_type": "code",
      "metadata": {
        "collapsed": false
      }
    },
    {
      "source": [
        "Kernel Density: (non-parametric)\n--------------------------------\n\nIf we have no strong assumptions about the underlying pdf.\n\n\"Smooth out\" each event with a kernel (e.g. gaussian) of\na certain bandwidth, then add together all these mini-functions.\n\nThe \"bandwidth\" (width of the kernel function) depends on the data, and\ncan be estimated using cross-validation + maximum likelihood\n\n"
      ],
      "metadata": {},
      "cell_type": "markdown"
    },
    {
      "source": [
        "in Statsmodels\n\n"
      ],
      "metadata": {},
      "cell_type": "markdown"
    },
    {
      "source": [
        "dens = sm.nonparametric.KDEUnivariate(data)\ndens.fit()\n\nkde_sm = dens.evaluate(x)\nplt.fill(x, kde_sm, alpha=.5, label='KDE')\nplt.hist(data, bins='auto', alpha=.3, normed=True)"
      ],
      "outputs": [],
      "execution_count": null,
      "cell_type": "code",
      "metadata": {
        "collapsed": false
      }
    },
    {
      "source": [
        "in scikit-learn\n\n"
      ],
      "metadata": {},
      "cell_type": "markdown"
    },
    {
      "source": [
        "params = {'bandwidth': np.logspace(-2, 2, 50)}\ngrid = GridSearchCV(KernelDensity(), params)\ngrid.fit(data)\n\nprint(\"best bandwidth: {0}\".format(grid.best_estimator_.bandwidth))\n\n# use the best estimator to compute the kernel density estimate\nkde_best = grid.best_estimator_\nkde_sk = np.exp(\n    kde_best.score_samples(x[:, np.newaxis])\n)\nplt.fill(x, kde_sk, alpha=.5, label='KDE')\nplt.hist(data, bins='auto', alpha=.3, normed=True)"
      ],
      "outputs": [],
      "execution_count": null,
      "cell_type": "code",
      "metadata": {
        "collapsed": false
      }
    },
    {
      "source": [
        "References\n----------\n\n- B.W. Silverman, \u201cDensity Estimation for Statistics and Data Analysis\u201d\n- Hastie, Tibshirani and Friedman, \u201cThe Elements of Statistical Learning: Data Mining, Inference, and Prediction\u201d, Springer (2009)\n- Liu, R., Yang, L. \u201cKernel estimation of multivariate cumulative distribution function.\u201d Journal of Nonparametric Statistics (2008)\n- Scargle, J., et al. \"Studies in astronomical time series analysis. vi. Bayesian Block Representations.\" The Astrophysical Journal 764.2 (2013)\n\n"
      ],
      "metadata": {},
      "cell_type": "markdown"
    }
  ],
  "nbformat_minor": 0,
  "metadata": {
    "kernelspec": {
      "display_name": "Python 3",
      "name": "python3",
      "language": "python"
    },
    "language_info": {
      "nbconvert_exporter": "python",
      "file_extension": ".py",
      "mimetype": "text/x-python",
      "name": "python",
      "pygments_lexer": "ipython3",
      "codemirror_mode": {
        "version": 3,
        "name": "ipython"
      },
      "version": "3.5.2"
    }
  },
  "nbformat": 4
}