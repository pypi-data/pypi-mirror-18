{
  "nbformat_minor": 0,
  "metadata": {
    "kernelspec": {
      "name": "python3",
      "display_name": "Python 3",
      "language": "python"
    },
    "language_info": {
      "nbconvert_exporter": "python",
      "version": "3.5.2",
      "codemirror_mode": {
        "name": "ipython",
        "version": 3
      },
      "name": "python",
      "mimetype": "text/x-python",
      "pygments_lexer": "ipython3",
      "file_extension": ".py"
    }
  },
  "cells": [
    {
      "execution_count": null,
      "source": [
        "%matplotlib inline"
      ],
      "outputs": [],
      "metadata": {
        "collapsed": false
      },
      "cell_type": "code"
    },
    {
      "source": [
        "\n==================\nToT histogram.\n==================\n\nThis example shows how to create a simple histogram of the PMT signals.\n\n"
      ],
      "metadata": {},
      "cell_type": "markdown"
    },
    {
      "execution_count": null,
      "source": [
        "import pandas as pd\nimport matplotlib.pyplot as plt\nimport km3pipe.style\nkm3pipe.style.use('default')\n\n\nfilename = \"data/km3net_jul13_90m_muatm50T655.km3_v5r1.JTE_r2356.root.0-499.h5\"\n\nhits = pd.read_hdf(filename, 'hits')\nhits.hist(\"tot\", bins=254, log=True, edgecolor='none')\nplt.title(\"ToT distribution\")\nplt.xlabel(\"ToT [ns]\")"
      ],
      "outputs": [],
      "metadata": {
        "collapsed": false
      },
      "cell_type": "code"
    }
  ],
  "nbformat": 4
}