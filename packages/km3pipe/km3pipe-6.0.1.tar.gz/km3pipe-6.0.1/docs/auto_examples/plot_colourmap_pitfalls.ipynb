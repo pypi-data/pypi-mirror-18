{
  "metadata": {
    "language_info": {
      "name": "python",
      "codemirror_mode": {
        "name": "ipython",
        "version": 3
      },
      "nbconvert_exporter": "python",
      "version": "3.5.2",
      "pygments_lexer": "ipython3",
      "file_extension": ".py",
      "mimetype": "text/x-python"
    },
    "kernelspec": {
      "name": "python3",
      "display_name": "Python 3",
      "language": "python"
    }
  },
  "cells": [
    {
      "cell_type": "code",
      "metadata": {
        "collapsed": false
      },
      "outputs": [],
      "execution_count": null,
      "source": [
        "%matplotlib inline"
      ]
    },
    {
      "cell_type": "markdown",
      "metadata": {},
      "source": [
        "\n==================\nColormap pitfalls.\n==================\n\nChoosing the right colormap is important. A bad colormap like ``jet``\n(standard in ROOT and matplotlib < 2.0) fools you into seeing structure\nwhere there isn't any.\n\n"
      ]
    },
    {
      "cell_type": "code",
      "metadata": {
        "collapsed": false
      },
      "outputs": [],
      "execution_count": null,
      "source": [
        "import numpy as np\nimport matplotlib.pyplot as plt\nfrom mpl_toolkits.axes_grid1 import make_axes_locatable\nimport km3pipe.style\nkm3pipe.style.use('default')\n\n\nx = np.linspace(-np.pi, np.pi, 300)\nxx, yy = np.meshgrid(x, x)\nz = np.cos(xx) + np.cos(yy)\n\nfig, axes = plt.subplots(2, 2)\n\nfor ax, colourmap in zip(axes.flatten(),\n                         ['gray', 'jet', 'cubehelix', 'viridis']):\n    ax.set_title(colourmap)\n    im = ax.imshow(z, cmap=plt.get_cmap(colourmap))\n    divider = make_axes_locatable(ax)\n    cax = divider.append_axes('right', size='7%', pad=0.05)\n    cbar = plt.colorbar(im, cax=cax)"
      ]
    }
  ],
  "nbformat": 4,
  "nbformat_minor": 0
}