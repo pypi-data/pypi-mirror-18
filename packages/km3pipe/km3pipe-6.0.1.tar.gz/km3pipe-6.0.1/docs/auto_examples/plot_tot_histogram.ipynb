{
  "metadata": {
    "language_info": {
      "name": "python",
      "codemirror_mode": {
        "name": "ipython",
        "version": 3
      },
      "nbconvert_exporter": "python",
      "version": "3.5.2",
      "pygments_lexer": "ipython3",
      "file_extension": ".py",
      "mimetype": "text/x-python"
    },
    "kernelspec": {
      "name": "python3",
      "display_name": "Python 3",
      "language": "python"
    }
  },
  "cells": [
    {
      "cell_type": "code",
      "metadata": {
        "collapsed": false
      },
      "outputs": [],
      "execution_count": null,
      "source": [
        "%matplotlib inline"
      ]
    },
    {
      "cell_type": "markdown",
      "metadata": {},
      "source": [
        "\n==================\nToT histogram.\n==================\n\nCreate a simple histogram of the PMT signals (ToTs) in all events.\n\n"
      ]
    },
    {
      "cell_type": "code",
      "metadata": {
        "collapsed": false
      },
      "outputs": [],
      "execution_count": null,
      "source": [
        "# Author: Tamas Gal <tgal@km3net.de>\n# License: BSD-3\n\nimport pandas as pd\nimport matplotlib.pyplot as plt\nimport km3pipe.style\nkm3pipe.style.use('default')\n\n\nfilename = \"data/km3net_jul13_90m_muatm50T655.km3_v5r1.JTE_r2356.root.0-499.h5\"\n\nhits = pd.read_hdf(filename, 'hits')\nhits.hist(\"tot\", bins=254, log=True, edgecolor='none')\nplt.title(\"ToT distribution\")\nplt.xlabel(\"ToT [ns]\")"
      ]
    }
  ],
  "nbformat": 4,
  "nbformat_minor": 0
}