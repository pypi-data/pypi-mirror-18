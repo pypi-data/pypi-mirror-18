{
 "cells": [
  {
   "cell_type": "markdown",
   "metadata": {},
   "source": [
    "# octavemagic: Octave inside IPython"
   ]
  },
  {
   "cell_type": "markdown",
   "metadata": {},
   "source": [
    "## Installation"
   ]
  },
  {
   "cell_type": "markdown",
   "metadata": {},
   "source": [
    "The `octavemagic` extension provides the ability to interact with Octave.  It is provided by the `oct2py` package,\n",
    "which may be installed using `pip` or `easy_install`.\n",
    "\n",
    "To enable the extension, load it as follows:"
   ]
  },
  {
   "cell_type": "code",
   "execution_count": 1,
   "metadata": {
    "collapsed": true
   },
   "outputs": [],
   "source": [
    "%load_ext oct2py.ipython"
   ]
  },
  {
   "cell_type": "markdown",
   "metadata": {},
   "source": [
    "## Overview"
   ]
  },
  {
   "cell_type": "markdown",
   "metadata": {},
   "source": [
    "Loading the extension enables three magic functions: `%octave`, `%octave_push`, and `%octave_pull`.\n",
    "\n",
    "The first is for executing one or more lines of Octave, while the latter allow moving variables between the Octave and Python workspace.\n",
    "Here you see an example of how to execute a single line of Octave, and how to transfer the generated value back to Python:"
   ]
  },
  {
   "cell_type": "code",
   "execution_count": 2,
   "metadata": {},
   "outputs": [
    {
     "name": "stdout",
     "output_type": "stream",
     "text": [
      "\n",
      "            set(0, 'defaultfigurepaperposition', [0 0 3.7333333333333334 2.8]);\n",
      "            set(0, 'defaultfigurepaperunits', 'inches');\n",
      "            set(0, 'defaultfigureunits', 'inches');\n",
      "            \n",
      "            set(0, 'defaultfigurevisible', 'on');\n",
      "            \n",
      "\n",
      "            set(0, 'defaultfigurepaperposition', [0 0 3.7333333333333334 2.8]);\n",
      "            set(0, 'defaultfigurepaperunits', 'inches');\n",
      "            set(0, 'defaultfigureunits', 'inches');\n",
      "            \n",
      "            set(0, 'defaultfigurevisible', 'on');\n",
      "            \n",
      "\n",
      "            set(0, 'defaultfigurepaperposition', [0 0 3.7333333333333334 2.8]);\n",
      "            set(0, 'defaultfigurepaperunits', 'inches');\n",
      "            set(0, 'defaultfigureunits', 'inches');\n",
      "            \n",
      "            set(0, 'defaultfigurevisible', 'on');\n",
      "            \n",
      "\n",
      "            set(0, 'defaultfigurepaperposition', [0 0 3.7333333333333334 2.8]);\n",
      "            set(0, 'defaultfigurepaperunits', 'inches');\n",
      "            set(0, 'defaultfigureunits', 'inches');\n",
      "            \n",
      "               set(0, 'defaultfigurevisible', 'off');\n",
      "               graphics_toolkit('gnuplot');\n",
      "               \n"
     ]
    },
    {
     "data": {
      "text/plain": []
     },
     "metadata": {},
     "output_type": "display_data"
    },
    {
     "data": {
      "text/plain": [
       "array([[ 1.,  2.],\n",
       "       [ 3.,  4.]])"
      ]
     },
     "execution_count": 2,
     "metadata": {},
     "output_type": "execute_result"
    }
   ],
   "source": [
    "x = %octave [1 2; 3 4];\n",
    "x"
   ]
  },
  {
   "cell_type": "code",
   "execution_count": 3,
   "metadata": {},
   "outputs": [
    {
     "name": "stdout",
     "output_type": "stream",
     "text": [
      "\n",
      "            set(0, 'defaultfigurepaperposition', [0 0 3.7333333333333334 2.8]);\n",
      "            set(0, 'defaultfigurepaperunits', 'inches');\n",
      "            set(0, 'defaultfigureunits', 'inches');\n",
      "            \n",
      "            set(0, 'defaultfigurevisible', 'on');\n",
      "            \n",
      "\n",
      "            set(0, 'defaultfigurepaperposition', [0 0 3.7333333333333334 2.8]);\n",
      "            set(0, 'defaultfigurepaperunits', 'inches');\n",
      "            set(0, 'defaultfigureunits', 'inches');\n",
      "            \n",
      "            set(0, 'defaultfigurevisible', 'on');\n",
      "            \n",
      "\n",
      "            set(0, 'defaultfigurepaperposition', [0 0 3.7333333333333334 2.8]);\n",
      "            set(0, 'defaultfigurepaperunits', 'inches');\n",
      "            set(0, 'defaultfigureunits', 'inches');\n",
      "            \n",
      "               set(0, 'defaultfigurevisible', 'off');\n",
      "               graphics_toolkit('gnuplot');\n",
      "               \n"
     ]
    },
    {
     "data": {
      "text/plain": []
     },
     "metadata": {},
     "output_type": "display_data"
    },
    {
     "name": "stdout",
     "output_type": "stream",
     "text": [
      "\n",
      "            set(0, 'defaultfigurepaperposition', [0 0 3.7333333333333334 2.8]);\n",
      "            set(0, 'defaultfigurepaperunits', 'inches');\n",
      "            set(0, 'defaultfigureunits', 'inches');\n",
      "            \n",
      "            set(0, 'defaultfigurevisible', 'on');\n",
      "            \n"
     ]
    },
    {
     "data": {
      "text/plain": [
       "array([[2, 4, 6]])"
      ]
     },
     "execution_count": 3,
     "metadata": {},
     "output_type": "execute_result"
    }
   ],
   "source": [
    "a = [1, 2, 3]\n",
    "\n",
    "%octave_push a\n",
    "%octave a = a * 2;\n",
    "%octave_pull a\n",
    "a"
   ]
  },
  {
   "cell_type": "markdown",
   "metadata": {},
   "source": [
    "When using the cell magic, `%%octave` (note the double `%`), multiple lines of Octave can be executed together.  Unlike\n",
    "with the single cell magic, no value is returned, so we use the `-i` and `-o` flags to specify input and output variables.  Also note the use of the semicolon to suppress the Octave output."
   ]
  },
  {
   "cell_type": "code",
   "execution_count": 4,
   "metadata": {},
   "outputs": [
    {
     "name": "stdout",
     "output_type": "stream",
     "text": [
      "\n",
      "            set(0, 'defaultfigurepaperposition', [0 0 3.7333333333333334 2.8]);\n",
      "            set(0, 'defaultfigurepaperunits', 'inches');\n",
      "            set(0, 'defaultfigureunits', 'inches');\n",
      "            \n",
      "            set(0, 'defaultfigurevisible', 'on');\n",
      "            \n",
      "\n",
      "            set(0, 'defaultfigurepaperposition', [0 0 3.7333333333333334 2.8]);\n",
      "            set(0, 'defaultfigurepaperunits', 'inches');\n",
      "            set(0, 'defaultfigureunits', 'inches');\n",
      "            \n",
      "            set(0, 'defaultfigurevisible', 'on');\n",
      "            \n",
      "\n",
      "            set(0, 'defaultfigurepaperposition', [0 0 3.7333333333333334 2.8]);\n",
      "            set(0, 'defaultfigurepaperunits', 'inches');\n",
      "            set(0, 'defaultfigureunits', 'inches');\n",
      "            \n",
      "               set(0, 'defaultfigurevisible', 'off');\n",
      "               graphics_toolkit('gnuplot');\n",
      "               \n",
      "\n",
      "            set(0, 'defaultfigurepaperposition', [0 0 3.7333333333333334 2.8]);\n",
      "            set(0, 'defaultfigurepaperunits', 'inches');\n",
      "            set(0, 'defaultfigureunits', 'inches');\n",
      "            \n",
      "            set(0, 'defaultfigurevisible', 'on');\n",
      "            \n",
      "\n",
      "            set(0, 'defaultfigurepaperposition', [0 0 3.7333333333333334 2.8]);\n",
      "            set(0, 'defaultfigurepaperunits', 'inches');\n",
      "            set(0, 'defaultfigureunits', 'inches');\n",
      "            \n",
      "            set(0, 'defaultfigurevisible', 'on');\n",
      "            \n",
      "\n",
      "            set(0, 'defaultfigurepaperposition', [0 0 3.7333333333333334 2.8]);\n",
      "            set(0, 'defaultfigurepaperunits', 'inches');\n",
      "            set(0, 'defaultfigureunits', 'inches');\n",
      "            \n",
      "            set(0, 'defaultfigurevisible', 'on');\n",
      "            \n"
     ]
    },
    {
     "data": {
      "text/plain": []
     },
     "metadata": {},
     "output_type": "display_data"
    }
   ],
   "source": [
    "%%octave -i x -o U,S,V\n",
    "[U, S, V] = svd(x);"
   ]
  },
  {
   "cell_type": "code",
   "execution_count": 5,
   "metadata": {},
   "outputs": [
    {
     "name": "stdout",
     "output_type": "stream",
     "text": [
      "[[-0.40455358 -0.9145143 ]\n",
      " [-0.9145143   0.40455358]] [[ 5.4649857   0.        ]\n",
      " [ 0.          0.36596619]] [[-0.57604844  0.81741556]\n",
      " [-0.81741556 -0.57604844]]\n"
     ]
    }
   ],
   "source": [
    "print(U, S, V)"
   ]
  },
  {
   "cell_type": "markdown",
   "metadata": {},
   "source": [
    "## Plotting"
   ]
  },
  {
   "cell_type": "markdown",
   "metadata": {},
   "source": [
    "Plot output is automatically captured and displayed, and using the `-f` flag you may choose its format (currently, `png` and `svg` are supported)."
   ]
  },
  {
   "cell_type": "code",
   "execution_count": null,
   "metadata": {},
   "outputs": [
    {
     "name": "stdout",
     "output_type": "stream",
     "text": [
      "\n",
      "            set(0, 'defaultfigurepaperposition', [0 0 3.7333333333333334 2.8]);\n",
      "            set(0, 'defaultfigurepaperunits', 'inches');\n",
      "            set(0, 'defaultfigureunits', 'inches');\n",
      "            \n",
      "            set(0, 'defaultfigurevisible', 'on');\n",
      "            \n",
      "\n",
      "            set(0, 'defaultfigurepaperposition', [0 0 3.7333333333333334 2.8]);\n",
      "            set(0, 'defaultfigurepaperunits', 'inches');\n",
      "            set(0, 'defaultfigureunits', 'inches');\n",
      "            \n",
      "               set(0, 'defaultfigurevisible', 'off');\n",
      "               graphics_toolkit('gnuplot');\n",
      "               \n"
     ]
    },
    {
     "data": {
      "text/plain": [
       "12*x^4 - 2.5*x^3 - 8*x^2 - 0.1*x^1 + 8"
      ]
     },
     "metadata": {},
     "output_type": "display_data"
    },
    {
     "data": {
      "image/svg+xml": [
       "<svg height=\"201px\" viewBox=\"0 0 268 201\" width=\"268px\" xmlns=\"http://www.w3.org/2000/svg\" xmlns:xlink=\"http://www.w3.org/1999/xlink\">\n",
       "\n",
       "<title>Gnuplot</title>\n",
       "<desc>Produced by GNUPLOT 5.0 patchlevel 3 </desc>\n",
       "\n",
       "<g id=\"gnuplot_canvas\">\n",
       "\n",
       "<rect fill=\"none\" height=\"201\" width=\"268\" x=\"0\" y=\"0\"/>\n",
       "<defs>\n",
       "\n",
       "\t<circle id=\"gpDot\" r=\"0.5\" stroke-width=\"0.5\"/>\n",
       "\t<path d=\"M-1,0 h2 M0,-1 v2\" id=\"gpPt0\" stroke=\"currentColor\" stroke-width=\"0.333\"/>\n",
       "\t<path d=\"M-1,-1 L1,1 M1,-1 L-1,1\" id=\"gpPt1\" stroke=\"currentColor\" stroke-width=\"0.333\"/>\n",
       "\t<path d=\"M-1,0 L1,0 M0,-1 L0,1 M-1,-1 L1,1 M-1,1 L1,-1\" id=\"gpPt2\" stroke=\"currentColor\" stroke-width=\"0.333\"/>\n",
       "\t<rect height=\"2\" id=\"gpPt3\" stroke=\"currentColor\" stroke-width=\"0.333\" width=\"2\" x=\"-1\" y=\"-1\"/>\n",
       "\t<rect fill=\"currentColor\" height=\"2\" id=\"gpPt4\" stroke=\"currentColor\" stroke-width=\"0.333\" width=\"2\" x=\"-1\" y=\"-1\"/>\n",
       "\t<circle cx=\"0\" cy=\"0\" id=\"gpPt5\" r=\"1\" stroke=\"currentColor\" stroke-width=\"0.333\"/>\n",
       "\t<use fill=\"currentColor\" id=\"gpPt6\" stroke=\"none\" xlink:href=\"#gpPt5\"/>\n",
       "\t<path d=\"M0,-1.33 L-1.33,0.67 L1.33,0.67 z\" id=\"gpPt7\" stroke=\"currentColor\" stroke-width=\"0.333\"/>\n",
       "\t<use fill=\"currentColor\" id=\"gpPt8\" stroke=\"none\" xlink:href=\"#gpPt7\"/>\n",
       "\t<use id=\"gpPt9\" stroke=\"currentColor\" transform=\"rotate(180)\" xlink:href=\"#gpPt7\"/>\n",
       "\t<use fill=\"currentColor\" id=\"gpPt10\" stroke=\"none\" xlink:href=\"#gpPt9\"/>\n",
       "\t<use id=\"gpPt11\" stroke=\"currentColor\" transform=\"rotate(45)\" xlink:href=\"#gpPt3\"/>\n",
       "\t<use fill=\"currentColor\" id=\"gpPt12\" stroke=\"none\" xlink:href=\"#gpPt11\"/>\n",
       "\t<path d=\"M0,1.330 L1.265,0.411 L0.782,-1.067 L-0.782,-1.076 L-1.265,0.411 z\" id=\"gpPt13\" stroke=\"currentColor\" stroke-width=\"0.333\"/>\n",
       "\t<use fill=\"currentColor\" id=\"gpPt14\" stroke=\"none\" xlink:href=\"#gpPt13\"/>\n",
       "\t<filter filterUnits=\"objectBoundingBox\" height=\"1\" id=\"textbox\" width=\"1\" x=\"0\" y=\"0\">\n",
       "\t  <feFlood flood-color=\"white\" flood-opacity=\"1\" result=\"bgnd\"/>\n",
       "\t  <feComposite in=\"SourceGraphic\" in2=\"bgnd\" operator=\"atop\"/>\n",
       "\t</filter>\n",
       "\t<filter filterUnits=\"objectBoundingBox\" height=\"1\" id=\"greybox\" width=\"1\" x=\"0\" y=\"0\">\n",
       "\t  <feFlood flood-color=\"lightgrey\" flood-opacity=\"1\" result=\"grey\"/>\n",
       "\t  <feComposite in=\"SourceGraphic\" in2=\"grey\" operator=\"atop\"/>\n",
       "\t</filter>\n",
       "</defs>\n",
       "<g color=\"white\" fill=\"none\" stroke=\"currentColor\" stroke-linecap=\"butt\" stroke-linejoin=\"miter\" stroke-width=\"1.00\">\n",
       "</g>\n",
       "<g color=\"black\" fill=\"none\" stroke=\"currentColor\" stroke-linecap=\"butt\" stroke-linejoin=\"miter\" stroke-width=\"1.00\">\n",
       "\t<g shape-rendering=\"crispEdges\" stroke=\"none\">\n",
       "\t\t<polygon fill=\"rgb(255, 255, 255)\" points=\"30.8,177.6 251.8,177.6 251.8,11.4 30.8,11.4 \"/>\n",
       "\t</g>\n",
       "</g>\n",
       "<g color=\"black\" fill=\"none\" stroke=\"rgb(255, 255, 255)\" stroke-linecap=\"butt\" stroke-linejoin=\"miter\" stroke-width=\"0.50\">\n",
       "</g>\n",
       "<g color=\"black\" fill=\"none\" stroke=\"currentColor\" stroke-linecap=\"butt\" stroke-linejoin=\"miter\" stroke-width=\"0.50\">\n",
       "\t<path d=\"M30.8,177.6 L39.2,177.6 M251.9,177.6 L243.5,177.6  \" stroke=\"black\"/>\t<g fill=\"rgb(0,0,0)\" font-family=\"{}\" font-size=\"10.00\" stroke=\"none\" text-anchor=\"end\" transform=\"translate(25.2,181.3)\">\n",
       "\t\t<text><tspan font-family=\"{}\">6</tspan></text>\n",
       "\t</g>\n",
       "</g>\n",
       "<g color=\"black\" fill=\"none\" stroke=\"currentColor\" stroke-linecap=\"butt\" stroke-linejoin=\"miter\" stroke-width=\"0.50\">\n",
       "\t<path d=\"M30.8,153.8 L39.2,153.8 M251.9,153.8 L243.5,153.8  \" stroke=\"black\"/>\t<g fill=\"rgb(0,0,0)\" font-family=\"{}\" font-size=\"10.00\" stroke=\"none\" text-anchor=\"end\" transform=\"translate(25.2,157.5)\">\n",
       "\t\t<text><tspan font-family=\"{}\">6.5</tspan></text>\n",
       "\t</g>\n",
       "</g>\n",
       "<g color=\"black\" fill=\"none\" stroke=\"currentColor\" stroke-linecap=\"butt\" stroke-linejoin=\"miter\" stroke-width=\"0.50\">\n",
       "\t<path d=\"M30.8,130.1 L39.2,130.1 M251.9,130.1 L243.5,130.1  \" stroke=\"black\"/>\t<g fill=\"rgb(0,0,0)\" font-family=\"{}\" font-size=\"10.00\" stroke=\"none\" text-anchor=\"end\" transform=\"translate(25.2,133.8)\">\n",
       "\t\t<text><tspan font-family=\"{}\">7</tspan></text>\n",
       "\t</g>\n",
       "</g>\n",
       "<g color=\"black\" fill=\"none\" stroke=\"currentColor\" stroke-linecap=\"butt\" stroke-linejoin=\"miter\" stroke-width=\"0.50\">\n",
       "\t<path d=\"M30.8,106.3 L39.2,106.3 M251.9,106.3 L243.5,106.3  \" stroke=\"black\"/>\t<g fill=\"rgb(0,0,0)\" font-family=\"{}\" font-size=\"10.00\" stroke=\"none\" text-anchor=\"end\" transform=\"translate(25.2,110.0)\">\n",
       "\t\t<text><tspan font-family=\"{}\">7.5</tspan></text>\n",
       "\t</g>\n",
       "</g>\n",
       "<g color=\"black\" fill=\"none\" stroke=\"currentColor\" stroke-linecap=\"butt\" stroke-linejoin=\"miter\" stroke-width=\"0.50\">\n",
       "\t<path d=\"M30.8,82.6 L39.2,82.6 M251.9,82.6 L243.5,82.6  \" stroke=\"black\"/>\t<g fill=\"rgb(0,0,0)\" font-family=\"{}\" font-size=\"10.00\" stroke=\"none\" text-anchor=\"end\" transform=\"translate(25.2,86.3)\">\n",
       "\t\t<text><tspan font-family=\"{}\">8</tspan></text>\n",
       "\t</g>\n",
       "</g>\n",
       "<g color=\"black\" fill=\"none\" stroke=\"currentColor\" stroke-linecap=\"butt\" stroke-linejoin=\"miter\" stroke-width=\"0.50\">\n",
       "\t<path d=\"M30.8,58.8 L39.2,58.8 M251.9,58.8 L243.5,58.8  \" stroke=\"black\"/>\t<g fill=\"rgb(0,0,0)\" font-family=\"{}\" font-size=\"10.00\" stroke=\"none\" text-anchor=\"end\" transform=\"translate(25.2,62.5)\">\n",
       "\t\t<text><tspan font-family=\"{}\">8.5</tspan></text>\n",
       "\t</g>\n",
       "</g>\n",
       "<g color=\"black\" fill=\"none\" stroke=\"currentColor\" stroke-linecap=\"butt\" stroke-linejoin=\"miter\" stroke-width=\"0.50\">\n",
       "\t<path d=\"M30.8,35.1 L39.2,35.1 M251.9,35.1 L243.5,35.1  \" stroke=\"black\"/>\t<g fill=\"rgb(0,0,0)\" font-family=\"{}\" font-size=\"10.00\" stroke=\"none\" text-anchor=\"end\" transform=\"translate(25.2,38.8)\">\n",
       "\t\t<text><tspan font-family=\"{}\">9</tspan></text>\n",
       "\t</g>\n",
       "</g>\n",
       "<g color=\"black\" fill=\"none\" stroke=\"currentColor\" stroke-linecap=\"butt\" stroke-linejoin=\"miter\" stroke-width=\"0.50\">\n",
       "\t<path d=\"M30.8,11.3 L39.2,11.3 M251.9,11.3 L243.5,11.3  \" stroke=\"black\"/>\t<g fill=\"rgb(0,0,0)\" font-family=\"{}\" font-size=\"10.00\" stroke=\"none\" text-anchor=\"end\" transform=\"translate(25.2,15.0)\">\n",
       "\t\t<text><tspan font-family=\"{}\">9.5</tspan></text>\n",
       "\t</g>\n",
       "</g>\n",
       "<g color=\"black\" fill=\"none\" stroke=\"currentColor\" stroke-linecap=\"butt\" stroke-linejoin=\"miter\" stroke-width=\"0.50\">\n",
       "\t<path d=\"M30.8,177.6 L30.8,169.2 M30.8,11.3 L30.8,19.7  \" stroke=\"black\"/>\t<g fill=\"rgb(0,0,0)\" font-family=\"{}\" font-size=\"10.00\" stroke=\"none\" text-anchor=\"middle\" transform=\"translate(30.8,193.3)\">\n",
       "\t\t<text><tspan font-family=\"{}\">0</tspan></text>\n",
       "\t</g>\n",
       "</g>\n",
       "<g color=\"black\" fill=\"none\" stroke=\"currentColor\" stroke-linecap=\"butt\" stroke-linejoin=\"miter\" stroke-width=\"0.50\">\n",
       "\t<path d=\"M75.0,177.6 L75.0,169.2 M75.0,11.3 L75.0,19.7  \" stroke=\"black\"/>\t<g fill=\"rgb(0,0,0)\" font-family=\"{}\" font-size=\"10.00\" stroke=\"none\" text-anchor=\"middle\" transform=\"translate(75.0,193.3)\">\n",
       "\t\t<text><tspan font-family=\"{}\">0.2</tspan></text>\n",
       "\t</g>\n",
       "</g>\n",
       "<g color=\"black\" fill=\"none\" stroke=\"currentColor\" stroke-linecap=\"butt\" stroke-linejoin=\"miter\" stroke-width=\"0.50\">\n",
       "\t<path d=\"M119.2,177.6 L119.2,169.2 M119.2,11.3 L119.2,19.7  \" stroke=\"black\"/>\t<g fill=\"rgb(0,0,0)\" font-family=\"{}\" font-size=\"10.00\" stroke=\"none\" text-anchor=\"middle\" transform=\"translate(119.2,193.3)\">\n",
       "\t\t<text><tspan font-family=\"{}\">0.4</tspan></text>\n",
       "\t</g>\n",
       "</g>\n",
       "<g color=\"black\" fill=\"none\" stroke=\"currentColor\" stroke-linecap=\"butt\" stroke-linejoin=\"miter\" stroke-width=\"0.50\">\n",
       "\t<path d=\"M163.5,177.6 L163.5,169.2 M163.5,11.3 L163.5,19.7  \" stroke=\"black\"/>\t<g fill=\"rgb(0,0,0)\" font-family=\"{}\" font-size=\"10.00\" stroke=\"none\" text-anchor=\"middle\" transform=\"translate(163.5,193.3)\">\n",
       "\t\t<text><tspan font-family=\"{}\">0.6</tspan></text>\n",
       "\t</g>\n",
       "</g>\n",
       "<g color=\"black\" fill=\"none\" stroke=\"currentColor\" stroke-linecap=\"butt\" stroke-linejoin=\"miter\" stroke-width=\"0.50\">\n",
       "\t<path d=\"M207.7,177.6 L207.7,169.2 M207.7,11.3 L207.7,19.7  \" stroke=\"black\"/>\t<g fill=\"rgb(0,0,0)\" font-family=\"{}\" font-size=\"10.00\" stroke=\"none\" text-anchor=\"middle\" transform=\"translate(207.7,193.3)\">\n",
       "\t\t<text><tspan font-family=\"{}\">0.8</tspan></text>\n",
       "\t</g>\n",
       "</g>\n",
       "<g color=\"black\" fill=\"none\" stroke=\"currentColor\" stroke-linecap=\"butt\" stroke-linejoin=\"miter\" stroke-width=\"0.50\">\n",
       "\t<path d=\"M251.9,177.6 L251.9,169.2 M251.9,11.3 L251.9,19.7  \" stroke=\"black\"/>\t<g fill=\"rgb(0,0,0)\" font-family=\"{}\" font-size=\"10.00\" stroke=\"none\" text-anchor=\"middle\" transform=\"translate(251.9,193.3)\">\n",
       "\t\t<text><tspan font-family=\"{}\">1</tspan></text>\n",
       "\t</g>\n",
       "</g>\n",
       "<g color=\"black\" fill=\"none\" stroke=\"currentColor\" stroke-linecap=\"butt\" stroke-linejoin=\"miter\" stroke-width=\"0.50\">\n",
       "</g>\n",
       "<g color=\"black\" fill=\"none\" stroke=\"currentColor\" stroke-linecap=\"butt\" stroke-linejoin=\"miter\" stroke-width=\"0.50\">\n",
       "\t<path d=\"M30.8,11.3 L30.8,177.6 L251.9,177.6 L251.9,11.3 L30.8,11.3 Z  \" stroke=\"black\"/></g>\n",
       "<g color=\"black\" fill=\"none\" stroke=\"currentColor\" stroke-linecap=\"butt\" stroke-linejoin=\"miter\" stroke-width=\"0.50\">\n",
       "</g>\n",
       "\t<g id=\"gnuplot_plot_1a\"><title>gnuplot_plot_1a</title>\n",
       "<g color=\"black\" fill=\"none\" stroke=\"currentColor\" stroke-linecap=\"butt\" stroke-linejoin=\"miter\" stroke-width=\"0.50\">\n",
       "\t<path d=\"M30.8,82.6 L33.0,82.7 L35.2,82.8 L37.4,83.1 L39.6,83.4 L41.9,83.8 L44.1,84.2 L46.3,84.8   L48.5,85.4 L50.7,86.1 L52.9,86.9 L55.1,87.8 L57.3,88.7 L59.5,89.7 L61.8,90.8 L64.0,91.9   L66.2,93.2 L68.4,94.5 L70.6,95.8 L72.8,97.3 L75.0,98.8 L77.2,100.3 L79.4,101.9 L81.7,103.6   L83.9,105.4 L86.1,107.1 L88.3,109.0 L90.5,110.9 L92.7,112.8 L94.9,114.8 L97.1,116.8 L99.3,118.8   L101.6,120.9 L103.8,123.0 L106.0,125.2 L108.2,127.3 L110.4,129.5 L112.6,131.7 L114.8,133.9 L117.0,136.1   L119.2,138.3 L121.5,140.5 L123.7,142.7 L125.9,144.8 L128.1,147.0 L130.3,149.1 L132.5,151.2 L134.7,153.3   L136.9,155.3 L139.1,157.3 L141.4,159.2 L143.6,161.0 L145.8,162.8 L148.0,164.6 L150.2,166.2 L152.4,167.8   L154.6,169.2 L156.8,170.6 L159.0,171.9 L161.2,173.0 L163.5,174.0 L165.7,174.9 L167.9,175.7 L170.1,176.3   L172.3,176.8 L174.5,177.1 L176.7,177.2 L178.9,177.2 L181.1,177.0 L183.4,176.6 L185.6,176.0 L187.8,175.2   L190.0,174.2 L192.2,172.9 L194.4,171.4 L196.6,169.7 L198.8,167.7 L201.0,165.4 L203.3,162.9 L205.5,160.0   L207.7,156.9 L209.9,153.5 L212.1,149.8 L214.3,145.7 L216.5,141.3 L218.7,136.6 L220.9,131.5 L223.2,126.0   L225.4,120.1 L227.6,113.9 L229.8,107.2 L232.0,100.2 L234.2,92.7 L236.4,84.8 L238.6,76.4 L240.8,67.6   L243.1,58.3 L245.3,48.5 L247.5,38.2 L249.7,27.4 L251.9,16.1  \" stroke=\"rgb(  0,   0, 255)\"/></g>\n",
       "\t</g>\n",
       "<g color=\"white\" fill=\"none\" stroke=\"rgb(  0,   0, 255)\" stroke-linecap=\"butt\" stroke-linejoin=\"miter\" stroke-width=\"2.00\">\n",
       "</g>\n",
       "<g color=\"black\" fill=\"none\" stroke=\"currentColor\" stroke-linecap=\"butt\" stroke-linejoin=\"miter\" stroke-width=\"2.00\">\n",
       "</g>\n",
       "<g color=\"black\" fill=\"none\" stroke=\"black\" stroke-linecap=\"butt\" stroke-linejoin=\"miter\" stroke-width=\"0.50\">\n",
       "</g>\n",
       "<g color=\"black\" fill=\"none\" stroke=\"currentColor\" stroke-linecap=\"butt\" stroke-linejoin=\"miter\" stroke-width=\"0.50\">\n",
       "</g>\n",
       "</g>\n",
       "</svg>"
      ]
     },
     "metadata": {},
     "output_type": "display_data"
    }
   ],
   "source": [
    "%%octave -f svg\n",
    "\n",
    "p = [12 -2.5 -8 -0.1 8];\n",
    "x = 0:0.01:1;\n",
    "\n",
    "polyout(p, 'x')\n",
    "plot(x, polyval(p, x));"
   ]
  },
  {
   "cell_type": "markdown",
   "metadata": {},
   "source": [
    "The plot size is adjusted using the `-s` flag:"
   ]
  },
  {
   "cell_type": "code",
   "execution_count": null,
   "metadata": {},
   "outputs": [
    {
     "name": "stdout",
     "output_type": "stream",
     "text": [
      "\n",
      "            set(0, 'defaultfigurepaperposition', [0 0 3.7333333333333334 2.8]);\n",
      "            set(0, 'defaultfigurepaperunits', 'inches');\n",
      "            set(0, 'defaultfigureunits', 'inches');\n",
      "            \n",
      "            set(0, 'defaultfigurevisible', 'on');\n",
      "            \n",
      "\n",
      "            set(0, 'defaultfigurepaperposition', [0 0 3.3333333333333335 3.3333333333333335]);\n",
      "            set(0, 'defaultfigurepaperunits', 'inches');\n",
      "            set(0, 'defaultfigureunits', 'inches');\n",
      "            \n",
      "               set(0, 'defaultfigurevisible', 'off');\n",
      "               graphics_toolkit('gnuplot');\n",
      "               \n"
     ]
    }
   ],
   "source": [
    "%%octave -s 500,500\n",
    "\n",
    "# butterworth filter, order 2, cutoff pi/2 radians\n",
    "b = [0.292893218813452  0.585786437626905  0.292893218813452];\n",
    "a = [1  0  0.171572875253810];\n",
    "freqz(b, a, 32);"
   ]
  },
  {
   "cell_type": "code",
   "execution_count": null,
   "metadata": {},
   "outputs": [],
   "source": [
    "%%octave -s 600,200 -f png\n",
    "\n",
    "% Note: On Windows, this will not show the plots unless Ghostscript is installed.\n",
    "\n",
    "subplot(121);\n",
    "[x, y] = meshgrid(0:0.1:3);\n",
    "r = sin(x - 0.5).^2 + cos(y - 0.5).^2;\n",
    "surf(x, y, r);\n",
    "\n",
    "subplot(122);\n",
    "sombrero()"
   ]
  },
  {
   "cell_type": "markdown",
   "metadata": {},
   "source": [
    "Plots can be drawn inline (default) or bring up the Octave plotting GUI by using the -g (or --gui) flag: "
   ]
  },
  {
   "cell_type": "code",
   "execution_count": null,
   "metadata": {},
   "outputs": [],
   "source": [
    "%%octave -g\n",
    "plot([1,2,3])\n",
    "# brings up an Octave plotting GUI"
   ]
  },
  {
   "cell_type": "markdown",
   "metadata": {},
   "source": []
  }
 ],
 "metadata": {
  "anaconda-cloud": {},
  "kernelspec": {
   "display_name": "Python [default]",
   "language": "python",
   "name": "python3"
  },
  "language_info": {
   "codemirror_mode": {
    "name": "ipython",
    "version": 3
   },
   "file_extension": ".py",
   "mimetype": "text/x-python",
   "name": "python",
   "nbconvert_exporter": "python",
   "pygments_lexer": "ipython3",
   "version": "3.5.2"
  }
 },
 "nbformat": 4,
 "nbformat_minor": 1
}
