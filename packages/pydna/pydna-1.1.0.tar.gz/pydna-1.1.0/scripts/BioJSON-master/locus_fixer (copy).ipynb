{
 "cells": [
  {
   "cell_type": "code",
   "execution_count": 135,
   "metadata": {
    "collapsed": false
   },
   "outputs": [],
   "source": [
    "locus_lines = r'''LOCUS       pGREG505     9465 bp    DNA   CIRCULAR SYN        09-OCT-2013\n",
    "LOCUS       pGREG505                9465 bp    DNA     CIRCULAR SYN 09-OCT-2013\n",
    "LOCUS       F-GFAP-gCaMP\\3-W       11512 bp    DNA     circular     14-JUN-2010\n",
    "LOCUS       BC068339                1466 bp    mRNA    linear   VRT 26-JUN-2007\n",
    "LOCUS       New_DNA                 9465 bp ds-DNA     linear       01-NOV-2016\n",
    "LOCUS       YEplac181\t5741 bp \tDNA\tSYN\n",
    "LOCUS      YEplac181             5000 bp DNA  linear      01-NOV-2016'''.splitlines()"
   ]
  },
  {
   "cell_type": "code",
   "execution_count": 136,
   "metadata": {
    "collapsed": true
   },
   "outputs": [],
   "source": [
    "from pyparsing import *"
   ]
  },
  {
   "cell_type": "code",
   "execution_count": 137,
   "metadata": {
    "collapsed": false
   },
   "outputs": [],
   "source": [
    "GoodLocus =  ( Literal(\"LOCUS\") +\n",
    "               Word(alphas+nums+'-_().'+'\\\\').setResultsName(\"name\") +\n",
    "               Word(nums).setResultsName(\"size\")+Suppress(CaselessLiteral('bp')) +\n",
    "               Word(alphas+'-').setResultsName(\"seqtype\") +\n",
    "               (CaselessLiteral(\"linear\")|CaselessLiteral(\"circular\")).setResultsName(\"topology\") +\n",
    "               Optional(Word(alphas)).setResultsName(\"divcode\") +\n",
    "               Word(alphas+nums+'-').setResultsName(\"date\") )\n",
    "\n",
    "# Older versions of ApE don't include a LOCUS name! Need separate def for this case:\n",
    "BrokenLocus1 =( Literal(\"LOCUS\").setResultsName(\"name\") +\n",
    "                Word(nums).setResultsName(\"size\")+Suppress(CaselessLiteral('bp')) +\n",
    "                Word(alphas+'-').setResultsName(\"seqtype\") +\n",
    "                (CaselessLiteral(\"linear\")|CaselessLiteral(\"circular\")).setResultsName(\"topology\") +\n",
    "                Optional(Word(alphas)).setResultsName(\"divcode\") +\n",
    "                Word(alphas+nums+'-').setResultsName(\"date\") )\n",
    "            \n",
    "# LOCUS       YEplac181\t5741 bp \tDNA\tSYN\n",
    "BrokenLocus2 =( Literal(\"LOCUS\") +\n",
    "                Word(alphas+nums+'-_().'+'\\\\').setResultsName(\"name\") +\n",
    "                Word(nums).setResultsName(\"size\")+Suppress(CaselessLiteral('bp')) +\n",
    "                Word(alphas+'-').setResultsName(\"seqtype\") +\n",
    "                Optional(CaselessLiteral(\"linear\")|CaselessLiteral(\"circular\")).setResultsName(\"topology\") +\n",
    "                Optional(Word(alphas)).setResultsName(\"divcode\") )\n",
    "\n",
    "\n",
    "LocusEntry = (GoodLocus|BrokenLocus1|BrokenLocus2)"
   ]
  },
  {
   "cell_type": "code",
   "execution_count": 155,
   "metadata": {
    "collapsed": false
   },
   "outputs": [
    {
     "name": "stdout",
     "output_type": "stream",
     "text": [
      "LOCUS       pGREG505     9465 bp    DNA   CIRCULAR SYN        09-OCT-2013\n",
      "LOCUS       pGREG505                9465 bp ds-DNA     circular SYN 09-OCT-2013\n",
      "-------------------------------------------------------------------------------\n",
      "LOCUS       pGREG505                9465 bp    DNA     CIRCULAR SYN 09-OCT-2013\n",
      "LOCUS       pGREG505                9465 bp ds-DNA     circular SYN 09-OCT-2013\n",
      "-------------------------------------------------------------------------------\n",
      "LOCUS       F-GFAP-gCaMP\\3-W       11512 bp    DNA     circular     14-JUN-2010\n",
      "LOCUS       F-GFAP-gCaMP\\3-W        11512 bp ds-DNA     circular     14-JUN-2010\n",
      "-------------------------------------------------------------------------------\n",
      "LOCUS       BC068339                1466 bp    mRNA    linear   VRT 26-JUN-2007\n",
      "LOCUS       BC068339                1466 bp ds-DNA     linear   VRT 26-JUN-2007\n",
      "-------------------------------------------------------------------------------\n",
      "LOCUS       New_DNA                 9465 bp ds-DNA     linear       01-NOV-2016\n",
      "LOCUS       New_DNA                 9465 bp ds-DNA     linear       01-NOV-2016\n",
      "-------------------------------------------------------------------------------\n",
      "LOCUS       YEplac181\t5741 bp \tDNA\tSYN\n",
      "LOCUS       YEplac181               5741 bp ds-DNA     linear   SYN 19-MAR-1970\n",
      "-------------------------------------------------------------------------------\n",
      "LOCUS      YEplac181             5000 bp DNA  linear      01-NOV-2016\n",
      "LOCUS       YEplac181               5000 bp ds-DNA     linear       01-NOV-2016\n",
      "-------------------------------------------------------------------------------\n"
     ]
    }
   ],
   "source": [
    "from pprint import pprint\n",
    "from collections import defaultdict\n",
    "\n",
    "for line in locus_lines:\n",
    "    locusdict = defaultdict(str)\n",
    "    print(line)\n",
    "    locusdict.update( LocusEntry.parseString(line) )\n",
    "    #pprint(locusdict)\n",
    "    name    = locusdict[\"name\"] or \"default\"\n",
    "    size  = locusdict[\"size\"] or \"100\"\n",
    "    seqtype = \"DNA\" or locusdict[\"seqtype\"]\n",
    "    for p in [\"ds-\", \"ss-\", \"ms-\"]:\n",
    "        a, *b = seqtype.split(p)\n",
    "        if b: \n",
    "            prefix=p\n",
    "            seqtype=b.pop()\n",
    "            break\n",
    "    prefix  = prefix or \"ds-\"    \n",
    "    topology = locusdict[\"topology\"] or \"linear\"\n",
    "    divcode = locusdict[\"divcode\"] or \"   \"\n",
    "    date = locusdict[\"date\"] or \"19-MAR-1970\"\n",
    "    \n",
    "    print(\"LOCUS       {name:<24}{size:>4} bp {prefix}{seqtype:<4}    {topology:<8} {divcode} {date}\".format(name=name, \n",
    "                                                                                                         size=size,\n",
    "                                                                                                         prefix=prefix,\n",
    "                                                                                                         seqtype=seqtype, \n",
    "                                                                                                         topology=topology,\n",
    "                                                                                                         divcode=divcode,\n",
    "                                                                                                         date=date))\n",
    "    \n",
    "    \n",
    "    print(\"-------------------------------------------------------------------------------\")\n",
    "    \n",
    "    \n",
    "    \n",
    "    "
   ]
  }
 ],
 "metadata": {
  "anaconda-cloud": {},
  "kernelspec": {
   "display_name": "Python 3",
   "language": "python",
   "name": "python3"
  },
  "language_info": {
   "codemirror_mode": {
    "name": "ipython",
    "version": 3
   },
   "file_extension": ".py",
   "mimetype": "text/x-python",
   "name": "python",
   "nbconvert_exporter": "python",
   "pygments_lexer": "ipython3",
   "version": "3.5.2"
  }
 },
 "nbformat": 4,
 "nbformat_minor": 0
}
