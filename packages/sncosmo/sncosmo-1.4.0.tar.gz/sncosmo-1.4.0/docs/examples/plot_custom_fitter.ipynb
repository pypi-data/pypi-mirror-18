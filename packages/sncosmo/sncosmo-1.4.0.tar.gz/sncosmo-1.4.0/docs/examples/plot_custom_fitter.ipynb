{
  "nbformat": 4,
  "metadata": {
    "kernelspec": {
      "display_name": "Python 3",
      "language": "python",
      "name": "python3"
    },
    "language_info": {
      "version": "3.5.1",
      "codemirror_mode": {
        "version": 3,
        "name": "ipython"
      },
      "pygments_lexer": "ipython3",
      "nbconvert_exporter": "python",
      "file_extension": ".py",
      "name": "python",
      "mimetype": "text/x-python"
    }
  },
  "cells": [
    {
      "outputs": [],
      "metadata": {
        "collapsed": false
      },
      "execution_count": null,
      "cell_type": "code",
      "source": [
        "%matplotlib inline"
      ]
    },
    {
      "metadata": {},
      "cell_type": "markdown",
      "source": [
        "\n# Using a custom fitter or sampler\n\n\nHow to use your own minimizer or MCMC sampler for fitting light curves.\n\nSNCosmo has three functions for model parameter estimation based on\nphotometric data: `sncosmo.fit_lc`, `sncosmo.mcmc_lc` and\n`sncosmo.nest_lc`. These are wrappers around external minimizers or\nsamplers (respectively: iminuit, emcee and nestle). However, one may\nwish to experiment with a custom fitting or sampling method.\n\nHere, we give a minimal example of using the L-BFGS-B minimizer from scipy.\n\n"
      ]
    },
    {
      "outputs": [],
      "metadata": {
        "collapsed": false
      },
      "execution_count": null,
      "cell_type": "code",
      "source": [
        "from __future__ import print_function\n\nimport numpy as np\nfrom scipy.optimize import fmin_l_bfgs_b\nimport sncosmo\n\nmodel = sncosmo.Model(source='salt2')\ndata = sncosmo.load_example_data()\n\n# Define an objective function that we will pass to the minimizer.\n# The function arguments must comply with the expectations of the specfic\n# minimizer you are using.\ndef objective(parameters):\n    model.parameters[:] = parameters  # set model parameters\n\n    # evaluate model fluxes at times/bandpasses of data\n    model_flux = model.bandflux(data['band'], data['time'],\n                                zp=data['zp'], zpsys=data['zpsys'])\n\n    # calculate and return chi^2\n    return np.sum(((data['flux'] - model_flux) / data['fluxerr'])**2)\n\n# starting parameter values in same order as `model.param_names`:\nstart_parameters = [0.4, 55098., 1e-5, 0., 0.]  # z, t0, x0, x1, c\n\n# parameter bounds in same order as `model.param_names`:\nbounds = [(0.3, 0.7), (55080., 55120.), (None, None), (None, None),\n          (None, None)]\n\nparameters, val, info = fmin_l_bfgs_b(objective, start_parameters,\n                                      bounds=bounds, approx_grad=True)\n\nprint(parameters)"
      ]
    },
    {
      "metadata": {},
      "cell_type": "markdown",
      "source": [
        "The built-in parameter estimation functions in sncosmo take care of\nsetting up the likelihood function in the way that the underlying\nfitter or sampler expects. Additionally, they set guesses and bounds\nand package results up in a way that is as consistent as\npossible. For users wishing use a custom minimizer or sampler, it\ncan be instructive to look at the source code for these functions.\n\n"
      ]
    }
  ],
  "nbformat_minor": 0
}