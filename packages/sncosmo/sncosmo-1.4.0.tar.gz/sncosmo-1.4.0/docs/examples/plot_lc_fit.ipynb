{
  "nbformat": 4,
  "metadata": {
    "kernelspec": {
      "display_name": "Python 3",
      "language": "python",
      "name": "python3"
    },
    "language_info": {
      "version": "3.5.1",
      "codemirror_mode": {
        "version": 3,
        "name": "ipython"
      },
      "pygments_lexer": "ipython3",
      "nbconvert_exporter": "python",
      "file_extension": ".py",
      "name": "python",
      "mimetype": "text/x-python"
    }
  },
  "cells": [
    {
      "outputs": [],
      "metadata": {
        "collapsed": false
      },
      "execution_count": null,
      "cell_type": "code",
      "source": [
        "%matplotlib inline"
      ]
    },
    {
      "metadata": {},
      "cell_type": "markdown",
      "source": [
        "\n# Fitting a light curve\n\n\nThis example shows how to fit the parameters of a SALT2 model to photometric\nlight curve data.\n\nFirst, we'll load an example of some photometric data.\n\n"
      ]
    },
    {
      "outputs": [],
      "metadata": {
        "collapsed": false
      },
      "execution_count": null,
      "cell_type": "code",
      "source": [
        "from __future__ import print_function\n\nimport sncosmo\n\ndata = sncosmo.load_example_data()\n\nprint(data)"
      ]
    },
    {
      "metadata": {},
      "cell_type": "markdown",
      "source": [
        "An important additional note: a table of photometric data has a\n``band`` column and a ``zpsys`` column that use strings to identify\nthe bandpass (e.g., ``'sdssg'``) and zeropoint system (``'ab'``) of\neach observation. If the bandpass and zeropoint systems in your data\nare *not* built-ins known to sncosmo, you must register the\ncorresponding `~sncosmo.Bandpass` or `~sncosmo.MagSystem` to the\nright string identifier using the registry.\n\n"
      ]
    },
    {
      "outputs": [],
      "metadata": {
        "collapsed": false
      },
      "execution_count": null,
      "cell_type": "code",
      "source": [
        "# create a model\nmodel = sncosmo.Model(source='salt2')\n\n# run the fit\nresult, fitted_model = sncosmo.fit_lc(\n    data, model,\n    ['z', 't0', 'x0', 'x1', 'c'],  # parameters of model to vary\n    bounds={'z':(0.3, 0.7)})  # bounds on parameters (if any)"
      ]
    },
    {
      "metadata": {},
      "cell_type": "markdown",
      "source": [
        "The first object returned is a dictionary-like object where the keys\ncan be accessed as attributes in addition to the typical dictionary\nlookup like ``result['ncall']``:\n\n"
      ]
    },
    {
      "outputs": [],
      "metadata": {
        "collapsed": false
      },
      "execution_count": null,
      "cell_type": "code",
      "source": [
        "print(\"Number of chi^2 function calls:\", result.ncall)\nprint(\"Number of degrees of freedom in fit:\", result.ndof)\nprint(\"chi^2 value at minimum:\", result.chisq)\nprint(\"model parameters:\", result.param_names)\nprint(\"best-fit values:\", result.parameters)\nprint(\"The result contains the following attributes:\\n\", result.keys())"
      ]
    },
    {
      "metadata": {},
      "cell_type": "markdown",
      "source": [
        "The second object returned is a shallow copy of the input model with\nthe parameters set to the best fit values. The input model is\nunchanged.\n\n"
      ]
    },
    {
      "outputs": [],
      "metadata": {
        "collapsed": false
      },
      "execution_count": null,
      "cell_type": "code",
      "source": [
        "sncosmo.plot_lc(data, model=fitted_model, errors=result.errors)"
      ]
    },
    {
      "metadata": {},
      "cell_type": "markdown",
      "source": [
        "Suppose we already know the redshift of the supernova we're trying to\nfit.  We want to set the model's redshift to the known value, and then\nmake sure not to vary `z` in the fit.\n\n"
      ]
    },
    {
      "outputs": [],
      "metadata": {
        "collapsed": false
      },
      "execution_count": null,
      "cell_type": "code",
      "source": [
        "model.set(z=0.5)  # set the model's redshift.\nresult, fitted_model = sncosmo.fit_lc(data, model,\n                                      ['t0', 'x0', 'x1', 'c'])\nsncosmo.plot_lc(data, model=fitted_model, errors=result.errors)"
      ]
    }
  ],
  "nbformat_minor": 0
}