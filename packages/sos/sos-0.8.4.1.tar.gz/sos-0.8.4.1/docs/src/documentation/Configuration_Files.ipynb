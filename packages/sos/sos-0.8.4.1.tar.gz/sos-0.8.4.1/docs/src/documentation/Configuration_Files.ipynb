{
 "cells": [
  {
   "cell_type": "markdown",
   "metadata": {},
   "source": [
    "# Configuration Files"
   ]
  },
  {
   "cell_type": "markdown",
   "metadata": {},
   "source": [
    "SoS allows you to store parameters in a number of configuration files. There are three kinds of configuraiton files:\n",
    "\n",
    "1. Global user-specific configuration file `~/.sos/config.yaml`.\n",
    "2. Local project-specific configuraiton file `./config.yaml` (under the project directory).\n",
    "3. Configuration file specified by option `-c`.\n",
    "\n",
    "The configuration files should be in the format of [`YAML`](http://yaml.org/) or its subset format [`JSON`](http://json-schema.org/implementations.html). When a SoS script is loaded, SoS looks for and parses the global and project-specific configuration files, and a configuration file specified by option `-c`. The results are stored in a global variable `CONFIG` that is available to the script."
   ]
  },
  {
   "cell_type": "markdown",
   "metadata": {},
   "source": [
    "## Format of configuration file"
   ]
  },
  {
   "cell_type": "markdown",
   "metadata": {},
   "source": [
    "The configuration file should be in `YAML` format, which is a superset of JSON so any configuration file in JSON format is also acceptable. "
   ]
  },
  {
   "cell_type": "markdown",
   "metadata": {},
   "source": [
    "FIXME: introduction of the format"
   ]
  },
  {
   "cell_type": "markdown",
   "metadata": {},
   "source": [
    "## Variable `CONFIG`"
   ]
  },
  {
   "cell_type": "markdown",
   "metadata": {},
   "source": [
    "Variables defined in the configuration file are available in SoS script as a dictionary `CONFIG`. For example\n",
    "\n",
    "```\n",
    "gatk_path = CONFIG['gatk_path']\n",
    "```\n",
    "\n",
    "or equivalently\n",
    "\n",
    "```\n",
    "gatk_path = CONFIG.gatk_path\n",
    "```\n",
    "\n",
    "requires a configuration file with `gatk_path` defined. If you do not want to require a configuration file, you can define `gatk_path` as\n",
    "\n",
    "```\n",
    "gatk_path = CONFIG.get('gatk_path', '/path/to/default/gatk')\n",
    "```\n",
    "\n",
    "In this way, a default path would be used if no configuration file is specified (so `CONFIG` is an empty dictionary) or if `gatk_path` is not defined in the specified configuration file.\n",
    "\n",
    "If you would further want to allow modification of this value from command line, you can place this definition in the `[parameters]` section\n",
    "\n",
    "```\n",
    "[parameters]\n",
    "# path to gatk executable\n",
    "gatk_path = CONFIG.get('gatk_path', '/path/to/default/gatk')\n",
    "```\n",
    "\n",
    "In this way, users have the freedom to use the default value, define a value in a configuration file, and provide another value from command line. "
   ]
  },
  {
   "cell_type": "markdown",
   "metadata": {
    "collapsed": true
   },
   "source": [
    "## Command `sos config`"
   ]
  },
  {
   "cell_type": "markdown",
   "metadata": {},
   "source": [
    "Command `config` can be used to read and write global or user configuration files."
   ]
  },
  {
   "cell_type": "markdown",
   "metadata": {},
   "source": [
    "FIXME: examples"
   ]
  },
  {
   "cell_type": "code",
   "execution_count": null,
   "metadata": {
    "collapsed": true
   },
   "outputs": [],
   "source": []
  }
 ],
 "metadata": {
  "anaconda-cloud": {},
  "kernelspec": {
   "display_name": "SoS",
   "language": "sos",
   "name": "sos"
  },
  "language_info": {
   "codemirror_mode": "sos",
   "file_extension": ".sos",
   "mimetype": "text/x-sos",
   "name": "sos",
   "nbconvert_exporter": "sos.jupyter.converter.SoS_Exporter",
   "pygments_lexer": "sos"
  },
  "toc": {
   "nav_menu": {
    "height": "105px",
    "width": "254px"
   },
   "navigate_menu": true,
   "number_sections": true,
   "sideBar": true,
   "threshold": 4,
   "toc_cell": false,
   "toc_section_display": "block",
   "toc_window_display": false
  }
 },
 "nbformat": 4,
 "nbformat_minor": 1
}
