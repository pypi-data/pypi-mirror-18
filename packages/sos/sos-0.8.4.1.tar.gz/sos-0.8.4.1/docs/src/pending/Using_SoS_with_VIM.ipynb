{
 "cells": [
  {
   "cell_type": "markdown",
   "metadata": {},
   "source": [
    "2. You can make sos your default kernel of qtconsole if you add \n",
    "\n",
    "    ```\n",
    "    c.IPKernelApp.kernel_class =  'pysos.kernel.SoS_Kernel'\n",
    "    ```\n",
    "    to `~/.ipython/profile_default/ipython_config.py` . With this setting, you can start a qtconsole with SoS kernel with command\n",
    "\n",
    "    ```\n",
    "    jupyter qtconsole\n",
    "    ```"
   ]
  },
  {
   "cell_type": "markdown",
   "metadata": {},
   "source": [
    "## Using SoS with vim and ipython\n",
    "\n",
    "If you are a vim (gvim/mvim) user, you might want to use SoS with vim and ipython so that you can send your lines directly to ipython. This section give you a quick tutorial on how to set it up and use it.\n",
    "\n",
    "* SoS\n",
    "\n",
    "    Install SoS with the sos kernel and vim-sos plugins. \n",
    "    ```\n",
    "    pip install sos\n",
    "    ```\n",
    "    Because you are sending text directly from vim to ipython, you will need to use the sos kernel instead of the ipython sos magic. Use command\n",
    "    ```\n",
    "    jupyter kernelspec list\n",
    "    ```\n",
    "    to verify if the sos kernel is installed.\n",
    "\n",
    "* ipython/jupyter\n",
    "\n",
    "   Make sure that ipython is install for **both the system python and the python you are using**. If you are using another distribution of python (e.g. anaconda python), you might have to do something like\n",
    "\n",
    "    ```\n",
    "    # if you do not have system pip but have system easy_install\n",
    "    /usr/bin/easy_install pip   \n",
    "    /usr/local/bin/pip install ipython notebook\n",
    "    ```\n",
    "    for system python, and\n",
    "    ```\n",
    "    pip install ipython\n",
    "    ```\n",
    "    for your default python. Then, you can start an ipython console with sos kernel using command\n",
    "    ```\n",
    "    ipython qtconsole --kernel sos\n",
    "    ```\n",
    "    Running the command in the background does not seem to work.\n",
    "\n",
    "* Vim/Gvim/Mvim\n",
    "   \n",
    "    Edit your `~/.vimrc` (or `~/.gvimrc) and make sure you have something like the following:\n",
    "    ```\n",
    "    autocmd BufNewFile,BufRead *.sos set filetype=sos\n",
    "    syntax on\n",
    "    filetype plugin on\n",
    "    ```\n",
    "    This instructs vim to look for the plugin in the sos-created `ftplugin/sos` folder when a file with type `sos` is loaded.\n",
    "\n",
    "With SoS, iPython/Jupter, and vim configured, you can now open a `.sos` file, and enter \n",
    "```\n",
    ":IPython\n",
    "```\n",
    "This will connect your vim to the qtconsole you just opened. You can enter commands in the qtconsole directly, or use `Shift-Enter` (or `Ctrl-S`) to send current line or selection to the ipython SoS kernel. In addition to SoS code, you could send pieces of R or shell scripts (or other languge) to sub-kernels of SoS, by using `%use R`, `%use python`, etc. SoS will expand the text (string interpolated) before they are sent to these kernels."
   ]
  },
  {
   "cell_type": "markdown",
   "metadata": {},
   "source": [
    "It is also worth noting that you are a VIM user, it is highly recommended that you install the SoS syntax file so that your SoS scripts can be properly highlighted during editing. This is not only visually appealing but is very helpful in identifying syntax errors as you write. The same script in vim with a dark background would look look like \n",
    "\n",
    "![vim](../media/QuickStart.sos.vim.png)"
   ]
  },
  {
   "cell_type": "code",
   "execution_count": null,
   "metadata": {
    "collapsed": true
   },
   "outputs": [],
   "source": []
  }
 ],
 "metadata": {
  "anaconda-cloud": {},
  "kernelspec": {
   "display_name": "SoS",
   "language": "sos",
   "name": "sos"
  },
  "language_info": {
   "codemirror_mode": "sos",
   "file_extension": ".sos",
   "mimetype": "text/x-sos",
   "name": "sos",
   "nbconvert_exporter": "sos.jupyter.converter.SoS_Exporter",
   "pygments_lexer": "sos"
  },
  "toc": {
   "nav_menu": {
    "height": "35px",
    "width": "254px"
   },
   "navigate_menu": true,
   "number_sections": true,
   "sideBar": true,
   "threshold": 4,
   "toc_cell": false,
   "toc_section_display": "block",
   "toc_window_display": false
  }
 },
 "nbformat": 4,
 "nbformat_minor": 1
}
