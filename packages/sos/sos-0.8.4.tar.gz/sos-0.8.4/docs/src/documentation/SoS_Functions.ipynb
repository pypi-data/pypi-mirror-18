{
 "cells": [
  {
   "cell_type": "markdown",
   "metadata": {},
   "source": [
    "# SoS Functions"
   ]
  },
  {
   "cell_type": "markdown",
   "metadata": {},
   "source": [
    "## SoS Action"
   ]
  },
  {
   "cell_type": "markdown",
   "metadata": {},
   "source": [
    "Although arbitrary python functions can be used in SoS step process, SoS defines some **`actions`** (e.g. the `run` function in the aforementioned examples)\n",
    "that can be used in a SoS script. These fucntions accept a common set of **runtime options**, and are **not called in dryrun mode**.\n",
    "\n",
    "For example, function `time.sleep(5)` would be executed in run mode,"
   ]
  },
  {
   "cell_type": "code",
   "execution_count": 35,
   "metadata": {
    "collapsed": false
   },
   "outputs": [
    {
     "name": "stdout",
     "output_type": "stream",
     "text": [
      "I just slept 1.01 seconds\n"
     ]
    }
   ],
   "source": [
    "[0]\n",
    "import time\n",
    "st = time.time()\n",
    "time.sleep(1)\n",
    "print('I just slept {:.2f} seconds'.format(time.time() - st))"
   ]
  },
  {
   "cell_type": "markdown",
   "metadata": {},
   "source": [
    "and also in dryrun mode (option `-n`),"
   ]
  },
  {
   "cell_type": "code",
   "execution_count": 36,
   "metadata": {
    "collapsed": false
   },
   "outputs": [
    {
     "name": "stdout",
     "output_type": "stream",
     "text": [
      "I just slept 1.01 seconds\n"
     ]
    }
   ],
   "source": [
    "%run -n\n",
    "[0]\n",
    "import time\n",
    "st = time.time()\n",
    "time.sleep(1)\n",
    "print('I just slept {:.2f} seconds'.format(time.time() - st))"
   ]
  },
  {
   "cell_type": "markdown",
   "metadata": {},
   "source": [
    "because these statements are regular Python functions. However, if you put the statements in an action `python`, the statements would be executed in run mode,"
   ]
  },
  {
   "cell_type": "code",
   "execution_count": 37,
   "metadata": {
    "collapsed": false
   },
   "outputs": [
    {
     "name": "stdout",
     "output_type": "stream",
     "text": [
      "I just slept 1.01 seconds\n"
     ]
    }
   ],
   "source": [
    "[0]\n",
    "python:\n",
    "    import time\n",
    "    st = time.time()\n",
    "    time.sleep(1)\n",
    "    print('I just slept {:.2f} seconds'.format(time.time() - st))"
   ]
  },
  {
   "cell_type": "markdown",
   "metadata": {},
   "source": [
    "but not executed in dryrun mode (option `-n`)"
   ]
  },
  {
   "cell_type": "code",
   "execution_count": 38,
   "metadata": {
    "collapsed": false
   },
   "outputs": [],
   "source": [
    "%run -n\n",
    "[0]\n",
    "python:\n",
    "    import time\n",
    "    st = time.time()\n",
    "    time.sleep(1)\n",
    "    print('I just slept {:.2f} seconds'.format(time.time() - st))"
   ]
  },
  {
   "cell_type": "markdown",
   "metadata": {},
   "source": [
    "## Action options"
   ]
  },
  {
   "cell_type": "markdown",
   "metadata": {},
   "source": [
    "Actions define their own parameters but their execution is controlled by a common set of options."
   ]
  },
  {
   "cell_type": "markdown",
   "metadata": {},
   "source": [
    "### Option `active`"
   ]
  },
  {
   "cell_type": "markdown",
   "metadata": {},
   "source": [
    "Action option `active` is used to activate or inactivate an action in an input loop. Basically, when a loop is defined by `for_each` or `group_by` options of `input:` statement, an action after input would be repeated for each input group. The `action` parameter accepts an integer, either a non-negative number, a negative number (counting backward), a sequence of indexes, or a slice object, for which the action would be active.\n",
    "\n",
    "For example, for an input loop that loops through a sequence of numbers, the first action `run` is executed for all groups, the second action is executed for even number of groups, the last action is executed for the last step."
   ]
  },
  {
   "cell_type": "code",
   "execution_count": 39,
   "metadata": {
    "collapsed": false
   },
   "outputs": [
    {
     "name": "stdout",
     "output_type": "stream",
     "text": [
      "I am active at all groups 0\n",
      "I am active at even groups 0\n",
      "I am active at all groups 1\n",
      "I am active at all groups 2\n",
      "I am active at even groups 2\n",
      "I am active at all groups 3\n",
      "I am active at all groups 4\n",
      "I am active at even groups 4\n",
      "I am active at last group 4\n"
     ]
    }
   ],
   "source": [
    "seq = range(5)\n",
    "input: for_each='seq'\n",
    "run:\n",
    "   echo I am active at all groups ${_index}\n",
    "run: active=slice(None, None, 2)\n",
    "   echo I am active at even groups ${_index}\n",
    "run: active=-1\n",
    "   echo I am active at last group ${_index}"
   ]
  },
  {
   "cell_type": "markdown",
   "metadata": {},
   "source": [
    "### Action option `workdir`"
   ]
  },
  {
   "cell_type": "markdown",
   "metadata": {},
   "source": [
    "Option `workdir` changes the current working directory for the action, and change back once the action is executed. The directory will be created if it does not exist."
   ]
  },
  {
   "cell_type": "code",
   "execution_count": 40,
   "metadata": {
    "collapsed": false
   },
   "outputs": [
    {
     "name": "stdout",
     "output_type": "stream",
     "text": [
      "a.txt\n"
     ]
    }
   ],
   "source": [
    "bash: workdir='tmp'\n",
    "   touch a.txt\n",
    "bash:\n",
    "    ls tmp\n",
    "    rm tmp/a.txt\n",
    "    rmdir tmp"
   ]
  },
  {
   "cell_type": "markdown",
   "metadata": {},
   "source": [
    "### Action option `docker_image`"
   ]
  },
  {
   "cell_type": "markdown",
   "metadata": {},
   "source": [
    "If a docker image is specified (either a name, an Id, or a file), the action is assumed to be executed in the specified docker. The image will be automatically downloaded (pulled) or loaded (if a `.tar` or `.tar.gz` file is specified`) if it is not available locally. \n",
    "\n",
    "For example, executing the following script "
   ]
  },
  {
   "cell_type": "markdown",
   "metadata": {},
   "source": [
    "```\n",
    "[10]\n",
    "python3: docker_image='python'\n",
    "  set = {'a', 'b'}\n",
    "  print(set)\n",
    "  ```"
   ]
  },
  {
   "cell_type": "markdown",
   "metadata": {},
   "source": [
    "under a docker terminal (that is connected to the docker daemon) will\n",
    "\n",
    "1. Pull docker image `python`,  which is the official docker image for Python 2 and 3.\n",
    "2. Create a python script with the specified content\n",
    "3. Run the docker container `python` and make the script available inside the container\n",
    "4. Use the `python3` command inside the container to execute the script.\n",
    "\n",
    "Additional `docker_run` parameters can be passed to actions when the action\n",
    "is executed in a docker image. These options include\n",
    "\n",
    "* `name`: name of the container (option `--name`)\n",
    "* `tty`: if a tty is attached (default to `True`, option `-t`)\n",
    "* `stdin_open`: if stdin should be open (default to `False`, option `-i`)\n",
    "* `user`: username (default o `root`, option `-u`)\n",
    "* `environment`: Can be a string, a list of string or dictinary of environment variables for docker (option `-e`)\n",
    "* `volumes`: string or list of string, extra volumes that need to be link, in addition to SoS mounted (`/tmp`, `/Users` (if mac), `/Volumes` (if [properly configured](https://github.com/bpeng2000/SOS/wiki/SoS-Docker-guide) under mac) and script file)\n",
    "* `volumes_from`: container names or Ids to get volumes from\n",
    "* `working_dir`: working directory (option `-w`), default working directory, or working directory set by runtime option `workdir`.\n",
    "* `port`: port opened (option `-p`)\n",
    "* `extra_args`: If there is any extra arguments you would like to pass to the `docker run` process (after you check the actual command of `docker run` of SoS"
   ]
  },
  {
   "cell_type": "code",
   "execution_count": null,
   "metadata": {
    "collapsed": true
   },
   "outputs": [],
   "source": []
  },
  {
   "cell_type": "markdown",
   "metadata": {},
   "source": [
    "### Action option `docker_file`\n",
    "\n",
    "This option allows you to import a docker from specified `docker_file`, which can be an archive file (`.tar`, `.tar.gz`, `.tgz`, `.bzip`, `.tar.xz`, `.txz`) or a URL to an archive file (e.g. `http://example.com/exampleimage.tgz`). SoS will use command `docker import` to import the `docker_file`. However, because SoS does not know the repository and tag names of the imported docker file, you will still need to use option `docker_image` to specify the image to use."
   ]
  },
  {
   "cell_type": "markdown",
   "metadata": {},
   "source": [
    "It is easy to define your own actions. All you need to do is to define a function and decorate it with a `SoS_Action` decorator. For example\n",
    "\n",
    "```python\n",
    "from pysos import SoS_Action\n",
    "\n",
    "@SoS_Action(run_mode=('run', 'interactive'))\n",
    "def my_action(parameters):\n",
    "    do_something_with_parameters\n",
    "\treturn 1\n",
    "```"
   ]
  },
  {
   "cell_type": "markdown",
   "metadata": {},
   "source": [
    "### Action option `args`"
   ]
  },
  {
   "cell_type": "markdown",
   "metadata": {},
   "source": [
    "All script-executing actions accept an option `args`, which changes how the script is executed.\n",
    "\n",
    "By default, such an action has an `interpreter` (e.g. `bash`), a default `args='${filename!q}'`, amd the script would be executed as `interpreter args`, which is\n",
    "```\n",
    "bash ${filename!q}\n",
    "```\n",
    "where `${filename!q}` would be replaced by the temporary script file."
   ]
  },
  {
   "cell_type": "markdown",
   "metadata": {},
   "source": [
    "If you would like to change the command line with additional parameters, or different format of filename, you can specify an alternative `args`, with variables `filename` (filename of temporary script) and `script` (actual content of the script).\n",
    "\n",
    "For example, option `-n` can be added to command `bash` to execute script in dryrun mode"
   ]
  },
  {
   "cell_type": "code",
   "execution_count": 41,
   "metadata": {
    "collapsed": true
   },
   "outputs": [],
   "source": [
    "bash: args='-n ${filename!q}'\n",
    "    echo \"-n means running in dryrun mode (only check syntax)\""
   ]
  },
  {
   "cell_type": "markdown",
   "metadata": {},
   "source": [
    "and you can actually execute a command without filename, and instead executing the script directly from command line"
   ]
  },
  {
   "cell_type": "code",
   "execution_count": 42,
   "metadata": {
    "collapsed": false
   },
   "outputs": [
    {
     "name": "stdout",
     "output_type": "stream",
     "text": [
      "10000 loops, best of 3: 35.9 usec per loop\n"
     ]
    }
   ],
   "source": [
    "python: args='-m timeit ${script}'\n",
    "    '\"-\".join(str(n) for n in range(100))'"
   ]
  },
  {
   "cell_type": "markdown",
   "metadata": {},
   "source": [
    "## Action reference"
   ]
  },
  {
   "cell_type": "markdown",
   "metadata": {},
   "source": [
    "### Action `run`"
   ]
  },
  {
   "cell_type": "markdown",
   "metadata": {},
   "source": [
    "`run` is the most frequently used action in sos. In most cases, it is equivalent to action `bash` that uses `bash` to execute specified script. Under the hood, this action is quite different from `bash` because the run action does not have a default interpreter and would behave differently under different situations."
   ]
  },
  {
   "cell_type": "markdown",
   "metadata": {},
   "source": [
    "In the simplest case when one or more commands are specified, action `run` would assume it is a batch script under windows, and a bash script otherwise."
   ]
  },
  {
   "cell_type": "code",
   "execution_count": 43,
   "metadata": {
    "collapsed": false
   },
   "outputs": [
    {
     "name": "stdout",
     "output_type": "stream",
     "text": [
      "A\n"
     ]
    }
   ],
   "source": [
    "run:\n",
    "    echo \"A\""
   ]
  },
  {
   "cell_type": "markdown",
   "metadata": {},
   "source": [
    "However, if the script starts with a [shebang line](https://en.wikipedia.org/wiki/Shebang_(Unix)), this action would execute the script directly. This allows you to execute any script in any language. For example, the following script executes a python script using action `run`"
   ]
  },
  {
   "cell_type": "code",
   "execution_count": 44,
   "metadata": {
    "collapsed": false
   },
   "outputs": [
    {
     "name": "stdout",
     "output_type": "stream",
     "text": [
      "This is python\n"
     ]
    }
   ],
   "source": [
    "run:\n",
    "    #!/usr/bin/env python\n",
    "    print('This is python')"
   ]
  },
  {
   "cell_type": "markdown",
   "metadata": {},
   "source": [
    "and the following example runs a complete sos script using command `sos-runner`"
   ]
  },
  {
   "cell_type": "code",
   "execution_count": 45,
   "metadata": {
    "collapsed": false
   },
   "outputs": [
    {
     "name": "stdout",
     "output_type": "stream",
     "text": [
      "This is default_10\n",
      "This is default_20\n"
     ]
    },
    {
     "name": "stderr",
     "output_type": "stream",
     "text": [
      "INFO: Executing \u001b[32mdefault_10\u001b[0m: \n",
      "INFO: Executing \u001b[32mdefault_20\u001b[0m: \n",
      "INFO: Workflow default (ID=fc087fb3ae4c581e) is executed successfully.\n"
     ]
    }
   ],
   "source": [
    "# use sigil=None to stop interpolating expressions in script\n",
    "[sos: sigil=None]\n",
    "run:\n",
    "    #!/usr/bin/env sos-runner\n",
    "    [10]\n",
    "    print(\"This is ${step_name}\")\n",
    "    [20]\n",
    "    print(\"This is ${step_name}\")"
   ]
  },
  {
   "cell_type": "markdown",
   "metadata": {},
   "source": [
    "Note that action `run`would not analyze shebang line of a script if it is executed in a docker container (with option `docker-image`) and would always assumed to be `bash`."
   ]
  },
  {
   "cell_type": "markdown",
   "metadata": {},
   "source": [
    "### Action `sos_run`"
   ]
  },
  {
   "cell_type": "markdown",
   "metadata": {},
   "source": [
    "Action `sos_run(workflow, source)` executes a specified workflow. The workflow can be a single workflow, a subworkflow (e.g. `A_-10`), or a combined workflow (e.g. `A + B`). Because the workflow is executed from a step, it takes step `_input` as the input of the nested workflow and it can access local step variables. For example,"
   ]
  },
  {
   "cell_type": "code",
   "execution_count": 46,
   "metadata": {
    "collapsed": false
   },
   "outputs": [
    {
     "data": {
      "text/html": [
       "<pre><font color=\"green\">## -- Preview output --</font></pre>"
      ]
     },
     "metadata": {},
     "output_type": "display_data"
    },
    {
     "data": {
      "text/html": [
       "<pre> input: \n",
       "output: <a target=\"_blank\" href=\"result_3.txt\">result_3.txt</a>\n",
       "</pre>"
      ]
     },
     "metadata": {},
     "output_type": "display_data"
    },
    {
     "data": {
      "text/html": [
       "<pre><font color=\"green\">> result_3.txt (38 B):</font></pre>"
      ],
      "text/plain": [
       "\n",
       "> result_3.txt (38 B):"
      ]
     },
     "metadata": {},
     "output_type": "display_data"
    },
    {
     "name": "stdout",
     "output_type": "stream",
     "text": [
      "simulate_experiment --seed=1729352723\n"
     ]
    }
   ],
   "source": [
    "%sandbox\n",
    "import random\n",
    "\n",
    "[simulate]\n",
    "output:   \"result_${_reps}.txt\"\n",
    "run:\n",
    "    echo simulate_experiment --seed=${seed} > ${_output}\n",
    "\n",
    "[10]\n",
    "reps = range(4)\n",
    "input: for_each='reps'\n",
    "output: \"result_${_reps}.txt\"\n",
    "\n",
    "seed = random.randint(1, 2**32)\n",
    "sos_run('simulate')"
   ]
  },
  {
   "cell_type": "markdown",
   "metadata": {},
   "source": [
    "would run the nested pipeline `simulate` (which is a single step in this example) 100 times with their own `seed`, and `_reps`. \n",
    "\n",
    "The workflow can be defined in the current script, or in other SoS scripts, in which case the name or full path of the SoS script should be provided to parameter `source`. For example,\n",
    "\n",
    "```\n",
    "[myworkflow]\n",
    "sos_run('A+B', source=\"AB.sos\")\n",
    "```\n",
    "\n",
    "defines a nested workflow with workflow `A` and/or `B` defined in `AB.sos`. The nested workflow is a combination of two workflows `A` and `B` with their own parameters sections. SoS searches the specified files in the current working directory, the directory of the master script, and a search path specified by variable `sos_path` defined in the SoS global (`~/.sos/config.yaml`) or local (`.sos/config.yaml`) configuration files, and will produce an error if no file can be found."
   ]
  },
  {
   "cell_type": "markdown",
   "metadata": {},
   "source": [
    "### Actions `bash`, `sh`, `csh`, `tcsh`, `zsh`\n",
    "\n",
    "Action `bash(script)` accepts a shell script and execute it using `bash`. `sh`, `csh`, `tcsh`, `zsh` uses respective shell to execute the provided script.\n",
    "\n",
    "These actions, as well as all script-executing actions such as `python`, also accept an option `args` and allows you to pass additional arguments to the interpreter. For example"
   ]
  },
  {
   "cell_type": "code",
   "execution_count": 47,
   "metadata": {
    "collapsed": true
   },
   "outputs": [],
   "source": [
    "run: args='-n ${filename!q}'\n",
    "      echo \"a\""
   ]
  },
  {
   "cell_type": "markdown",
   "metadata": {},
   "source": [
    "execute the script with command `bash -n` (check syntax), so command `echo` is not actually executed."
   ]
  },
  {
   "cell_type": "markdown",
   "metadata": {},
   "source": [
    "### Action `python` and `python3`\n",
    "\n",
    "Action `python(script)` and `python3(script)` accepts a Python script and execute it with python or python3, respectively.\n",
    "\n",
    "Because SoS can include Python statements directly in a SoS script, it is important to note that embedded Python\n",
    "statements are interpreted by SoS and the `python` and `python3` actions are execute in separate processes without\n",
    "access to the SoS environment.\n",
    "\n",
    "For example, the following SoS step execute some python statements **within** SoS with direct access to SoS variables\n",
    "such as `input`, and with `result` writing directly to the SoS environment,\n",
    "\n",
    "```python\n",
    "[10]\n",
    "for filename in input:\n",
    "    with open(filename) as data:\n",
    "        result = filename + '.res'\n",
    "        ....\n",
    "```\n",
    "\n",
    "while\n",
    "\n",
    "```python\n",
    "[10]\n",
    "input: group_by='single'\n",
    "\n",
    "python:\n",
    "\n",
    "with open(${input!r}) as data:\n",
    "   result = ${input!r} + '.res'\n",
    "   ...\n",
    "\n",
    "\n",
    "```\n",
    "\n",
    "composes a Python script for each input file and calls separate Python interpreters to execute them. Whereas\n",
    "the Python statement in the first example will always be executed, the statements in `python` will not be executed\n",
    "in `inspect` mode."
   ]
  },
  {
   "cell_type": "markdown",
   "metadata": {},
   "source": [
    "### Action `R`"
   ]
  },
  {
   "cell_type": "markdown",
   "metadata": {},
   "source": [
    "Action `R(script)` execute the passed script using `Rscript` command. "
   ]
  },
  {
   "cell_type": "code",
   "execution_count": 48,
   "metadata": {
    "collapsed": false
   },
   "outputs": [
    {
     "name": "stdout",
     "output_type": "stream",
     "text": [
      "  x  y\n",
      "1 1  7\n",
      "4 1  2\n",
      "2 2 19\n",
      "3 3  2\n"
     ]
    }
   ],
   "source": [
    "R:\n",
    "    D <- data.frame(x=c(1,2,3,1), y=c(7,19,2,2))\n",
    "    # Sort on x\n",
    "    indexes <- order(D$x)\n",
    "    D[indexes,]"
   ]
  },
  {
   "cell_type": "markdown",
   "metadata": {},
   "source": [
    "### Action `perl`\n",
    "\n",
    "Action `perl(script)` execute the passed script using `perl` interpreter."
   ]
  },
  {
   "cell_type": "code",
   "execution_count": 49,
   "metadata": {
    "collapsed": false
   },
   "outputs": [
    {
     "name": "stdout",
     "output_type": "stream",
     "text": [
      "Hello, Brian!\n"
     ]
    }
   ],
   "source": [
    "perl:\n",
    "    my $name = \"Brian\";\n",
    "    print \"Hello, $name!\\n\";"
   ]
  },
  {
   "cell_type": "markdown",
   "metadata": {},
   "source": [
    "### Action `ruby`"
   ]
  },
  {
   "cell_type": "markdown",
   "metadata": {},
   "source": [
    "Action `ruby(script)` execute the passed script using `ruby` interpreter."
   ]
  },
  {
   "cell_type": "code",
   "execution_count": 50,
   "metadata": {
    "collapsed": false
   },
   "outputs": [
    {
     "name": "stdout",
     "output_type": "stream",
     "text": [
      "45 3 19 8 sam max 56 98.9 3 10 jill\n",
      "19 3 10\n",
      "3 8 19 45\n",
      "A: 45 3 19 8 57 9 phil\n"
     ]
    }
   ],
   "source": [
    "ruby:\n",
    "    a = [ 45, 3, 19, 8 ]\n",
    "    b = [ 'sam', 'max', 56, 98.9, 3, 10, 'jill' ]\n",
    "    print (a + b).join(' '), \"\\n\"\n",
    "    print a[2], \" \", b[4], \" \", b[-2], \"\\n\"\n",
    "    print a.sort.join(' '), \"\\n\"\n",
    "    a << 57 << 9 << 'phil'\n",
    "    print \"A: \", a.join(' '), \"\\n\""
   ]
  },
  {
   "cell_type": "markdown",
   "metadata": {},
   "source": [
    "### Action `node`, `JavaScript`\n",
    "\n",
    "Action `node(script)` and `JavaScript(script)` execute the passed script using `node` interpreter."
   ]
  },
  {
   "cell_type": "code",
   "execution_count": 51,
   "metadata": {
    "collapsed": false
   },
   "outputs": [
    {
     "name": "stdout",
     "output_type": "stream",
     "text": [
      "1049\n"
     ]
    }
   ],
   "source": [
    "node:\n",
    "    var i, a, b, c, max;\n",
    "\n",
    "    max = 1000000000;\n",
    "\n",
    "    var d = Date.now();\n",
    "\n",
    "    for (i = 0; i < max; i++) {\n",
    "        a = 1234 + 5678 + i;\n",
    "        b = 1234 * 5678 + i;\n",
    "        c = 1234 / 2 + i;\n",
    "    }\n",
    "\n",
    "    console.log(Date.now() - d);"
   ]
  },
  {
   "cell_type": "markdown",
   "metadata": {},
   "source": [
    "### Action `docker_build`\n",
    "\n",
    "Build a docker image from an inline Docker file. The inline version of the action currently does not support adding any file from local machine because the docker file will be saved to a random directory. You can walk around this problem by creating a `Dockerfile` and pass it to the action through option `path`. This action accepts all parameters as specified in https://docker-py.readthedocs.org/en/stable/api/#build because SoS simply pass additional parameters to the `build` function.\n",
    "\n",
    "For example, the following step builds a docker container for [MISO](http://miso.readthedocs.org/en/fastmiso/) based on anaconda python 2.7.\n",
    "\n",
    "```\n",
    "[build_1]\n",
    "# building miso from a Dockerfile\n",
    "docker_build: tag='mdabioinfo/miso:latest'\n",
    "\n",
    "\t############################################################\n",
    "\t# Dockerfile to build MISO container images\n",
    "\t# Based on Anaconda python\n",
    "\t############################################################\n",
    "\n",
    "\t# Set the base image to anaconda Python 2.7 (miso does not support python 3)\n",
    "\tFROM continuumio/anaconda\n",
    "\n",
    "\t# File Author / Maintainer\n",
    "\tMAINTAINER Bo Peng <bpeng@mdanderson.org>\n",
    "\n",
    "\t# Update the repository sources list\n",
    "\tRUN apt-get update\n",
    "\n",
    "\t# Install compiler and python stuff, samtools and git\n",
    "\tRUN apt-get install --yes \\\n",
    "\t build-essential \\\n",
    "\t gcc-multilib \\\n",
    "\t gfortran \\ \n",
    "\t apt-utils \\\n",
    "\t libblas3 \\ \n",
    "\t liblapack3 \\\n",
    "\t libc6 \\\n",
    "\t cython \\ \n",
    "\t samtools \\\n",
    "\t libbam-dev \\\n",
    "\t bedtools \\\n",
    "\t wget \\\n",
    "\t zlib1g-dev \\ \n",
    "\t tar \\\n",
    "\t gzip\n",
    "\n",
    "\tWORKDIR /usr/local\n",
    "\tRUN pip install misopy\n",
    "```"
   ]
  },
  {
   "cell_type": "markdown",
   "metadata": {},
   "source": [
    "### Action `download`\n",
    "\n",
    "Action `download(URLs, dest_dir='.', dest_file=None, decompress=False)` download files from specified URLs, which can be a list of URLs, or a string with tab, space or newline separated URLs. \n",
    "\n",
    "* If `dest_file` is specified, only one URL is allowed and the URL can have any form.\n",
    "* Otherwise all files will be downloaded to `dest_dir`. Filenames are determined from URLs so the URLs must have the last portion as the filename to save. \n",
    "* If `decompress` is True, `.zip` file, compressed or plan `tar` (e.g. `.tar.gz`) files, and `.gz` files will be decompressed to the same directory as the downloaded file.\n",
    "\n",
    "For example,\n",
    "\n",
    "```\n",
    "[10]\n",
    "GATK_RESOURCE_DIR = '/path/to/resource'\n",
    "GATK_URL = 'ftp://gsapubftp-anonymous@ftp.broadinstitute.org/bundle/2.8/hg19/'\n",
    "\n",
    "download:   dest=GATK_RESOURCE_DIR\n",
    "    ${GATK_URL}/1000G_omni2.5.hg19.sites.vcf.gz\n",
    "    ${GATK_URL}/1000G_omni2.5.hg19.sites.vcf.gz.md5\n",
    "    ${GATK_URL}/1000G_omni2.5.hg19.sites.vcf.idx.gz\n",
    "    ${GATK_URL}/1000G_omni2.5.hg19.sites.vcf.idx.gz.md5\n",
    "    ${GATK_URL}/dbsnp_138.hg19.vcf.gz\n",
    "    ${GATK_URL}/dbsnp_138.hg19.vcf.gz.md5\n",
    "    ${GATK_URL}/dbsnp_138.hg19.vcf.idx.gz\n",
    "    ${GATK_URL}/dbsnp_138.hg19.vcf.idx.gz.md5\n",
    "    ${GATK_URL}/hapmap_3.3.hg19.sites.vcf.gz\n",
    "    ${GATK_URL}/hapmap_3.3.hg19.sites.vcf.gz.md5\n",
    "    ${GATK_URL}/hapmap_3.3.hg19.sites.vcf.idx.gz\n",
    "    ${GATK_URL}/hapmap_3.3.hg19.sites.vcf.idx.gz.md5\n",
    "```\n",
    "\n",
    "download the specified files to `GATK_RESOURCE_DIR`. The `.md5` files will be automatically used to validate the content of the associated files. Note that \n",
    "\n",
    "SoS automatically save signature of downloaded and decompressed files so the files will not be re-downloaded if the action is called multiple times. You can however still still specifies input and output of the step to use step signature\n",
    "\n",
    "\n",
    "```\n",
    "[10]\n",
    "GATK_RESOURCE_DIR = '/path/to/resource'\n",
    "GATK_URL = 'ftp://gsapubftp-anonymous@ftp.broadinstitute.org/bundle/2.8/hg19/'\n",
    "RESOUCE_FILES =  '''1000G_omni2.5.hg19.sites.vcf.gz\n",
    "    1000G_omni2.5.hg19.sites.vcf.gz.md5\n",
    "    1000G_omni2.5.hg19.sites.vcf.idx.gz\n",
    "    1000G_omni2.5.hg19.sites.vcf.idx.gz.md5\n",
    "    dbsnp_138.hg19.vcf.gz\n",
    "    dbsnp_138.hg19.vcf.gz.md5\n",
    "    dbsnp_138.hg19.vcf.idx.gz\n",
    "    dbsnp_138.hg19.vcf.idx.gz.md5\n",
    "    hapmap_3.3.hg19.sites.vcf.gz\n",
    "    hapmap_3.3.hg19.sites.vcf.gz.md5\n",
    "    hapmap_3.3.hg19.sites.vcf.idx.gz\n",
    "    hapmap_3.3.hg19.sites.vcf.idx.gz.md5'''.split() \n",
    "input: []\n",
    "output:  [os.path.join(GATK_RESOURCE_DIR, x) for x in GATK_RESOURCE_FILES]\n",
    "download(['${GATK_URL}/${x}' for x in GATK_RESOURCE_FILES], dest=GATK_RESOURCE_DIR)\n",
    "```\n",
    "\n",
    "Note that the `download` action uses up to 5 processes to download files. You can change this number by adjusting system configuration `sos_download_processes`."
   ]
  },
  {
   "cell_type": "markdown",
   "metadata": {},
   "source": [
    "### Action `report` (not implemented)\n",
    "\n",
    "Action `report(script, filename=None, mode='a')` writes the specified script to the report channel, or to a file with specified `filename`. It will by default append to the report (`mode='a'`) but you can start a new report with `mode='w'`.\n",
    "\n",
    "\n",
    "Note that:\n",
    "\n",
    "* Although markdown is generally used, SoS does not restrict the type of report a script generates. If so desired, you can use this mechanism to generate a log file in plain text format, a HTML file with fancy style, any flavor of markdown that you can post-process, or a `.Rmd` file that can be loaded into RMarkdown.\n",
    "\n",
    "* The report is generated from the steps that are executed so the content can be controlled with parameters and configuration files. "
   ]
  },
  {
   "cell_type": "markdown",
   "metadata": {},
   "source": [
    "### Action `pandoc`\n",
    "\n",
    "Action `pandoc` converts the report generated so far to another format. Parameters `outputfile`, `format`, `to`, `filter` and `extra_args` can be used to customize the output. Please refer to [pandoc and pypandoc documentation](https://pypi.python.org/pypi/pypandoc/) for details about these parameters.\n",
    " "
   ]
  },
  {
   "cell_type": "markdown",
   "metadata": {},
   "source": [
    "### Action `fail_if`\n",
    "\n",
    "Action `fail_if(expr, msg='')` raises an exception with `msg` (and terminate the execution of the workflow if the exception is not caught) if `expr` returns True."
   ]
  },
  {
   "cell_type": "markdown",
   "metadata": {},
   "source": [
    "### Action `warn_if`\n",
    "\n",
    "Action `warn_if(expr, msg)` yields a warning message `msg` if `expr` is evaluate to be true."
   ]
  },
  {
   "cell_type": "markdown",
   "metadata": {},
   "source": [
    "### Action `abort_if`\n",
    "\n",
    "Action `abort_if(expr, msg='')` stops the execution of the current step (or current processes if within `for_each` loop) and gives a warning message if `msg` is specified. For example,\n",
    "\n",
    "```\n",
    "[10]\n",
    "input: '*.txt', for_each=1\n",
    "\n",
    "abort_if(os.path.getsize(_input[0]) > 10000)\n",
    "do_something_else\n",
    "```\n",
    "\n",
    "skips files that are larger than `10k`."
   ]
  },
  {
   "cell_type": "markdown",
   "metadata": {},
   "source": [
    "## Other functions and objects"
   ]
  },
  {
   "cell_type": "markdown",
   "metadata": {},
   "source": [
    "### Function `get_output`"
   ]
  },
  {
   "cell_type": "markdown",
   "metadata": {},
   "source": [
    "Function `get_output(cmd)` returns the output of command (decoded in `UTF-8`), which is a shortcut for `subprocess.check_output(cmd, shell=True).decode()`."
   ]
  },
  {
   "cell_type": "code",
   "execution_count": 52,
   "metadata": {
    "collapsed": false
   },
   "outputs": [
    {
     "data": {
      "text/plain": [
       "'/bin/ls\\n'"
      ]
     },
     "execution_count": 52,
     "metadata": {},
     "output_type": "execute_result"
    }
   ],
   "source": [
    "get_output('which ls')"
   ]
  },
  {
   "cell_type": "markdown",
   "metadata": {},
   "source": [
    "This function also accepts two options `show_command=False`, and `prompt='$ '` that can be useful in case you would like to present the command that produce the output. For example,"
   ]
  },
  {
   "cell_type": "code",
   "execution_count": 53,
   "metadata": {
    "collapsed": false
   },
   "outputs": [
    {
     "name": "stdout",
     "output_type": "stream",
     "text": [
      "$ which ls\n",
      "/bin/ls\n",
      "\n"
     ]
    }
   ],
   "source": [
    "print(get_output('which ls', show_command=True))"
   ]
  },
  {
   "cell_type": "markdown",
   "metadata": {},
   "source": [
    "### Function `expand_pattern`\n",
    "\n",
    "Function `expand_pattern` expands a string to multiple ones using items of variables quoted between `{ }`. For example,\n",
    "\n",
    "```python\n",
    "output: expand_pattern('{a}_{b}.txt')\n",
    "```\n",
    "\n",
    "is equivalent to\n",
    "\n",
    "```python\n",
    "output: ['{x}_{y}.txt' for x,y in zip(a, b)]\n",
    "```\n",
    "\n",
    "if `a` and `b` are sequences of the same length. For example,"
   ]
  },
  {
   "cell_type": "code",
   "execution_count": 54,
   "metadata": {
    "collapsed": false
   },
   "outputs": [
    {
     "data": {
      "text/plain": [
       "[\"Bob's salary is 200\", \"John's salary is 300\"]"
      ]
     },
     "execution_count": 54,
     "metadata": {},
     "output_type": "execute_result"
    }
   ],
   "source": [
    "name = ['Bob', 'John']\n",
    "salary = [200, 300]\n",
    "expand_pattern(\"{name}'s salary is {salary}\")"
   ]
  },
  {
   "cell_type": "markdown",
   "metadata": {},
   "source": [
    "The sequences should have the same length"
   ]
  },
  {
   "cell_type": "code",
   "execution_count": 55,
   "metadata": {
    "collapsed": false
   },
   "outputs": [
    {
     "name": "stderr",
     "output_type": "stream",
     "text": [
      "Failed to process statement 'expand_pattern(\"{name}\\'s salary is {salary}\")': Undefined variable name in pattern {name}'s salary is {salary}\n",
      "Sandbox execution failed."
     ]
    }
   ],
   "source": [
    "%sandbox --expect-error\n",
    "\n",
    "salary = [200]\n",
    "expand_pattern(\"{name}'s salary is {salary}\")"
   ]
  },
  {
   "cell_type": "markdown",
   "metadata": {},
   "source": [
    "An exception is made for variables of simple non-sequence types, in which case they are repeated in all expanded items"
   ]
  },
  {
   "cell_type": "code",
   "execution_count": 56,
   "metadata": {
    "collapsed": false
   },
   "outputs": [
    {
     "data": {
      "text/plain": [
       "[\"Bob's salary is 200\", \"John's salary is 200\"]"
      ]
     },
     "execution_count": 56,
     "metadata": {},
     "output_type": "execute_result"
    }
   ],
   "source": [
    "salary = 200\n",
    "expand_pattern(\"{name}'s salary is {salary}\")"
   ]
  },
  {
   "cell_type": "markdown",
   "metadata": {},
   "source": [
    "### SoS `logger` object"
   ]
  },
  {
   "cell_type": "markdown",
   "metadata": {},
   "source": [
    "The SoS logger object is a `logging` object used by SoS to produce various outputs. You can use this object to output error, warning, info, debug, and trace messages to terminal. For example,"
   ]
  },
  {
   "cell_type": "code",
   "execution_count": 57,
   "metadata": {
    "collapsed": false
   },
   "outputs": [
    {
     "name": "stderr",
     "output_type": "stream",
     "text": [
      "INFO: Running \u001b[32mdefault_0\u001b[0m: \n",
      "INFO: I am at default_0\n"
     ]
    }
   ],
   "source": [
    "%run -v2\n",
    "[0]\n",
    "logger.info(\"I am at ${step_name}\")"
   ]
  },
  {
   "cell_type": "markdown",
   "metadata": {},
   "source": [
    "The output of `logger` is controlled by logging level, for example, the above message would not be printed at `-v1` (warning)"
   ]
  },
  {
   "cell_type": "code",
   "execution_count": 58,
   "metadata": {
    "collapsed": false
   },
   "outputs": [],
   "source": [
    "%run -v1\n",
    "[0]\n",
    "logger.info(\"I am at ${step_name}\")"
   ]
  }
 ],
 "metadata": {
  "anaconda-cloud": {},
  "kernelspec": {
   "display_name": "SoS",
   "language": "sos",
   "name": "sos"
  },
  "language_info": {
   "codemirror_mode": "sos",
   "file_extension": ".sos",
   "mimetype": "text/x-sos",
   "name": "sos",
   "nbconvert_exporter": "sos.jupyter.converter.SoS_Exporter",
   "pygments_lexer": "sos"
  },
  "toc": {
   "nav_menu": {
    "height": "503px",
    "width": "254px"
   },
   "navigate_menu": true,
   "number_sections": true,
   "sideBar": true,
   "threshold": 4,
   "toc_cell": false,
   "toc_section_display": "block",
   "toc_window_display": true
  }
 },
 "nbformat": 4,
 "nbformat_minor": 1
}
