{
 "cells": [
  {
   "cell_type": "markdown",
   "metadata": {},
   "source": [
    "## Command line options"
   ]
  },
  {
   "cell_type": "markdown",
   "metadata": {},
   "source": [
    "It is extremely easy for you to pass command line options to a SoS script."
   ]
  },
  {
   "cell_type": "markdown",
   "metadata": {},
   "source": [
    "### Optional arguments"
   ]
  },
  {
   "cell_type": "markdown",
   "metadata": {},
   "source": [
    "Any variable assignment prefixed with `parameter:` can accept values from command  line. The format of such lines are\n",
    "\n",
    "```\n",
    "# comment\n",
    "parameter: var_name = default_value\n",
    "```\n",
    "\n",
    "The default value can be number, string, list of string, or expressions that return values of these types. Other types can be used as long as they can be converted to these types from user-provided values. For example\n",
    "\n",
    "```\n",
    "# path to tool gatk\n",
    "parameter: gatk_path = '~/bin/GATK'\n",
    "```\n",
    "\n",
    "defines a variable `gatk_path` with default value `'~/bin/GATK'`.\n",
    "\n",
    "```\n",
    "# A list of sample names\n",
    "parameter: sample_names=[]\n",
    "```\n",
    "\n",
    "defines a variable `sample_name` with default value `[]`, and\n",
    "\n",
    "```python\n",
    "# path to gatk\n",
    "parameter: gatk_path = CONFIG['gatk_path']\n",
    "```\n",
    "uses `gatk_path` from a YAML-based configuration file (specified from command line using option `-c`) as default value. You can set default value for `CONFIG` inside SoS script via:\n",
    "\n",
    "```python\n",
    "# path to gatk\n",
    "parameter: gatk_path = CONFIG.get('gatk_path', '/default/path/to/gatk')\n",
    "```\n",
    "\n",
    "so that if configuration files are not supplied the default value `/default/path/to/gatk` will be used.\n",
    "\n",
    "The default values not only determines the values of variable when they are not specified from command line or configuration files, but also determines the type of input these parameters accept. For example, with the above definitions for command arguments `--gatk_path` and `--sample_names`, you can pass values to these variables from command line,\n",
    "\n",
    "```bash\n",
    "sos run myscript --gatk_path /path/to/gatk --sample_names A1 A2 A3\n",
    "```\n",
    "\n",
    "A list will be passed to `sample_names` even if only a single value is provided (e.g. `sample_names=['A1']` for `--sample_name A1`).\n",
    "Attempts to pass more than one values (a list) to `gatk_path` (e.g. `--gatk_path /path1 /path2`) will trigger an error.\n",
    "\n",
    "Note that boolean values can be specified from command line as `--param` for `True` and `--no-param` for `False`. It is also allowed to use `--gatk-path` in addition to `--gatk_path` for parameter `--gatk_path`."
   ]
  },
  {
   "cell_type": "markdown",
   "metadata": {},
   "source": [
    "### Required arguments\n",
    "\n",
    "In cases where there is no suitable default values and/or command line arguments are mandatary, you can list the type of arguments (e.g. `int`, `bool`, `str`, `list` of strings) in place of default values. For example, if an integer parameter `cutoff` is required, you can define it as\n",
    "\n",
    "```python\n",
    "# cutoff value\n",
    "parameter: cutoff = int\n",
    "```\n",
    "\n",
    "This will force the users to provide an integer to this parameter. You can do the same for lists but SoS assumes that you need a **list of strings**. For example, the following definition\n",
    "\n",
    "```python\n",
    "# input bam files\n",
    "parameter: bam_files = list\n",
    "```\n",
    "\n",
    "request a list of strings from command line. SoS will return a list even if only one value is provided."
   ]
  },
  {
   "cell_type": "markdown",
   "metadata": {},
   "source": [
    "### Redefinition of `parameter`\n",
    "\n",
    "A very important property of the `parameter` directive is that **parameter definition is only effective for undefined variable**. That is to say, the parameter statement will be ignored if a parameter has been specified in some way, most likely as a variable in a step.\n",
    "\n",
    "For example, the following workflow \n",
    "\n",
    "```sos\n",
    "[default_1]\n",
    "parameter: cutoff=10\n",
    "sh:\n",
    "  do something with ${cutoff}\n",
    "\n",
    "[default_2]\n",
    "sh:\n",
    "  do something else\n",
    "\n",
    "[batch]\n",
    "for cutoff in range(10):\n",
    "    sos_run('default')\n",
    "```\n",
    "\n",
    "would be called in a number of ways\n",
    "\n",
    "```bash\n",
    "sos run myscript \n",
    "sos run myscript --cutoff 5\n",
    "sos run myscript batch\n",
    "```\n",
    "\n",
    "The first command uses default value `10` for parameter `cutoff`, the second command assigns value `5` from command line, and the third command uses a series of values `0`, `1`, .... Because `cutoff` is already defined for workflow `default`, the parameter statement will be ignored."
   ]
  },
  {
   "cell_type": "code",
   "execution_count": null,
   "metadata": {
    "collapsed": true
   },
   "outputs": [],
   "source": []
  }
 ],
 "metadata": {
  "anaconda-cloud": {},
  "kernelspec": {
   "display_name": "SoS",
   "language": "sos",
   "name": "sos"
  },
  "language_info": {
   "codemirror_mode": "sos",
   "file_extension": ".sos",
   "mimetype": "text/x-sos",
   "name": "sos",
   "nbconvert_exporter": "sos.kernel.SoS_Exporter",
   "pygments_lexer": "sos"
  }
 },
 "nbformat": 4,
 "nbformat_minor": 1
}
