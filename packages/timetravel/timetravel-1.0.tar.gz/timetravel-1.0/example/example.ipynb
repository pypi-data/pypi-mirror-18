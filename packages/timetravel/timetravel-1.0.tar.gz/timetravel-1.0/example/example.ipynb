{
 "cells": [
  {
   "cell_type": "code",
   "execution_count": 1,
   "metadata": {
    "collapsed": false
   },
   "outputs": [],
   "source": [
    "from timetravel import machine"
   ]
  },
  {
   "cell_type": "code",
   "execution_count": 2,
   "metadata": {
    "collapsed": true
   },
   "outputs": [],
   "source": [
    "file = 'cal.ics'"
   ]
  },
  {
   "cell_type": "code",
   "execution_count": 3,
   "metadata": {
    "collapsed": true
   },
   "outputs": [],
   "source": [
    "# by date"
   ]
  },
  {
   "cell_type": "code",
   "execution_count": 4,
   "metadata": {
    "collapsed": false
   },
   "outputs": [
    {
     "name": "stdout",
     "output_type": "stream",
     "text": [
      "('Events Modified', ':', 3)\n",
      "('Days Traveled', ':', 7)\n",
      "('Origination', ':', '20161101')\n",
      "('Destination', ':', '20161108')\n"
     ]
    }
   ],
   "source": [
    "# start events today\n",
    "machine(file, report=True)"
   ]
  },
  {
   "cell_type": "code",
   "execution_count": 5,
   "metadata": {
    "collapsed": false
   },
   "outputs": [
    {
     "name": "stdout",
     "output_type": "stream",
     "text": [
      "('Events Modified', ':', 3)\n",
      "('Days Traveled', ':', -29)\n",
      "('Origination', ':', '20161207')\n",
      "('Destination', ':', '20161108')\n"
     ]
    }
   ],
   "source": [
    "# end events today\n",
    "machine(file, event='last', report=True)"
   ]
  },
  {
   "cell_type": "code",
   "execution_count": 6,
   "metadata": {
    "collapsed": false
   },
   "outputs": [
    {
     "name": "stdout",
     "output_type": "stream",
     "text": [
      "('Events Modified', ':', 3)\n",
      "('Days Traveled', ':', 426)\n",
      "('Origination', ':', '20161101')\n",
      "('Destination', ':', '20180101')\n"
     ]
    }
   ],
   "source": [
    "# start events in the future\n",
    "machine(file, shift='20180101', report=True)"
   ]
  },
  {
   "cell_type": "code",
   "execution_count": 7,
   "metadata": {
    "collapsed": true
   },
   "outputs": [],
   "source": [
    "# by days"
   ]
  },
  {
   "cell_type": "code",
   "execution_count": 8,
   "metadata": {
    "collapsed": false
   },
   "outputs": [
    {
     "name": "stdout",
     "output_type": "stream",
     "text": [
      "('Events Modified', ':', 3)\n",
      "('Days Traveled', ':', 25)\n"
     ]
    }
   ],
   "source": [
    "# shift start date forward\n",
    "machine(file, shift=25, report=True)"
   ]
  },
  {
   "cell_type": "code",
   "execution_count": 9,
   "metadata": {
    "collapsed": false
   },
   "outputs": [
    {
     "name": "stdout",
     "output_type": "stream",
     "text": [
      "('Events Modified', ':', 3)\n",
      "('Days Traveled', ':', -42)\n"
     ]
    }
   ],
   "source": [
    "# shift end date backward\n",
    "machine(file, shift=-42, event='last', report=True)"
   ]
  },
  {
   "cell_type": "code",
   "execution_count": null,
   "metadata": {
    "collapsed": true
   },
   "outputs": [],
   "source": []
  }
 ],
 "metadata": {
  "kernelspec": {
   "display_name": "Python 2",
   "language": "python",
   "name": "python2"
  },
  "language_info": {
   "codemirror_mode": {
    "name": "ipython",
    "version": 2
   },
   "file_extension": ".py",
   "mimetype": "text/x-python",
   "name": "python",
   "nbconvert_exporter": "python",
   "pygments_lexer": "ipython2",
   "version": "2.7.11"
  }
 },
 "nbformat": 4,
 "nbformat_minor": 0
}
